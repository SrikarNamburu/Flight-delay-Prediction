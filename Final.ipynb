{
 "cells": [
  {
   "cell_type": "markdown",
   "metadata": {},
   "source": [
    "# -------------------------Flight delay Analysis and Prediction----------------------------"
   ]
  },
  {
   "cell_type": "markdown",
   "metadata": {},
   "source": [
    "### Problem Statement::\n",
    "The client wants predict flight delays based on the flight's details and predicted weather conditions which helps them to take the necessary corrective and preventive actions to improve business as well as service. "
   ]
  },
  {
   "cell_type": "markdown",
   "metadata": {},
   "source": [
    "### Data Description::\n",
    "Every single flight is observed as per their scheduled departure and arrival timestamps, to record the details of trips made, traffic conditions, etc. Flight details like Origin, destination, date of flight, scheduled departure and scheduled arrival timestamps etc. Weather stations data details like station id along with it’s linked AirportID, ground height etc. Hourly aviation weather conditions data also provided for 2 years etc. "
   ]
  },
  {
   "cell_type": "markdown",
   "metadata": {},
   "source": [
    "### Objective::\n",
    "To predict the delay in Flight and make suggestions to the business regarding features that have highest impact on the flight delays"
   ]
  },
  {
   "cell_type": "markdown",
   "metadata": {},
   "source": [
    "### Importing Dependencies"
   ]
  },
  {
   "cell_type": "code",
   "execution_count": 1,
   "metadata": {
    "slideshow": {
     "slide_type": "subslide"
    }
   },
   "outputs": [],
   "source": [
    "import os\n",
    "import numpy as np\n",
    "import pandas as pd\n",
    "from datetime import datetime\n",
    "import datetime\n",
    "import re\n",
    "import math\n",
    "import matplotlib.pyplot as plt\n",
    "import seaborn as sns\n",
    "import matplotlib as mp\n",
    "from imblearn.over_sampling import SMOTE\n",
    "from sklearn import tree\n",
    "import pandas as pd # to import csv and for data manipulation\n",
    "import matplotlib.pyplot as plt # to plot graph\n",
    "import seaborn as sns # for intractve graphs\n",
    "import numpy as np # for linear algebra\n",
    "import datetime # to dela with date and time\n",
    "from sklearn.preprocessing import StandardScaler # for preprocessing the data\n",
    "from sklearn.ensemble import RandomForestClassifier # Random forest classifier\n",
    "from sklearn.tree import DecisionTreeClassifier # for Decision Tree classifier\n",
    "from sklearn.svm import SVC # for SVM classification\n",
    "from sklearn.linear_model import LogisticRegression\n",
    "from sklearn.model_selection import train_test_split # to split the data\n",
    "from sklearn.model_selection import GridSearchCV # for tunnig hyper parameter it will use all combination of given parameters\n",
    "from sklearn.model_selection import RandomizedSearchCV # same for tunning hyper parameter but will use random combinations of parameters\n",
    "from sklearn.metrics import confusion_matrix,recall_score,precision_recall_curve,auc,roc_curve,roc_auc_score,classification_report\n",
    "from sklearn.metrics import accuracy_score, f1_score, precision_score, recall_score, classification_report, confusion_matrix\n",
    "from sklearn.ensemble import BaggingClassifier\n",
    "from sklearn.neighbors import KNeighborsClassifier\n",
    "import warnings\n",
    "warnings.filterwarnings('ignore')\n",
    "from sklearn import preprocessing"
   ]
  },
  {
   "cell_type": "markdown",
   "metadata": {},
   "source": [
    "### Data understanding and data cleaning\n",
    "This Involves - Exploring individual datasets, Handling missing/improper values, Extracting information from columns & dropping columns,Dummifying categorical variables & Mapping others."
   ]
  },
  {
   "cell_type": "markdown",
   "metadata": {},
   "source": [
    "#### Data is given in 4 parts. \n",
    "1. Flight Data - Has all the details about a flight like Flight number, origin, Destination, schedules arrival and departure time, etc \n",
    "2. Stations Data - Weather station ID, Airport ID and various parameters of Airport like station height, ground height, logitudea and latitude details, etc \n",
    "3. Hourly Data - Weather conditions likeVisibility, Wind Speed, Sky conditions and etc of months 1,3,5,7,9,11 \n",
    "4. Hpd Data - Hourly Precipitation data for months 1,3,5,7,9,11"
   ]
  },
  {
   "cell_type": "markdown",
   "metadata": {},
   "source": [
    "### Reading and exploring the data"
   ]
  },
  {
   "cell_type": "code",
   "execution_count": 2,
   "metadata": {
    "slideshow": {
     "slide_type": "slide"
    }
   },
   "outputs": [
    {
     "name": "stdout",
     "output_type": "stream",
     "text": [
      "(7861, 12)\n",
      "(1744, 8)\n",
      "(6485177, 12)\n",
      "(7697386, 4)\n"
     ]
    }
   ],
   "source": [
    "os.chdir(\"\")\n",
    "train = pd.read_csv(\"\")\n",
    "print(train.shape)\n",
    "\n",
    "os.chdir(\"\")\n",
    "StationsData = pd.read_csv('AllStationsData_PHD.txt',sep = \"|\")\n",
    "print(StationsData.shape)\n",
    "\n",
    "os.chdir(\"\")\n",
    "hourly1 = pd.read_csv('200401hourly.txt',sep = \",\" ,encoding = 'unicode_escape' )\n",
    "hpd1 = pd.read_csv('200401hpd.txt',sep = \",\",encoding = 'unicode_escape')\n",
    "hourly3 = pd.read_csv('200403hourly.txt',sep = \",\",encoding = 'unicode_escape')\n",
    "hpd3 = pd.read_csv('200403hpd.txt',sep = \",\",encoding = 'unicode_escape')\n",
    "hourly5 = pd.read_csv('200405hourly.txt',sep = \",\", encoding = 'unicode_escape')\n",
    "hpd5 = pd.read_csv('200405hpd.txt',sep = \",\",encoding = 'unicode_escape')\n",
    "hourly7 = pd.read_csv('200407hourly.txt',sep = \",\",encoding = 'unicode_escape')\n",
    "hpd7 = pd.read_csv('200407hpd.txt',sep = \",\",encoding = 'unicode_escape')\n",
    "hourly9 = pd.read_csv('200409hourly.txt',sep = \",\",encoding = 'unicode_escape')\n",
    "hpd9 = pd.read_csv('200409hpd.txt',sep = \",\",encoding = 'unicode_escape')\n",
    "hourly11 = pd.read_csv('200411hourly.txt',sep = \",\",encoding = 'unicode_escape')\n",
    "hpd11 = pd.read_csv('200411hpd.txt',sep = \",\",encoding = 'unicode_escape')\n",
    "\n",
    "hourly = [hourly1,hourly3,hourly5,hourly7,hourly9,hourly11]\n",
    "hpd = [hpd1,hpd3,hpd5,hpd7,hpd9,hpd11]\n",
    "\n",
    "hourlyData = pd.concat(hourly)\n",
    "print(hourlyData.shape)\n",
    "hpdData = pd.concat(hpd)\n",
    "print(hpdData.shape)\n",
    "\n",
    "hourlyData = hourlyData.reset_index(drop =True)\n",
    "hpdData = hpdData.reset_index(drop =True)"
   ]
  },
  {
   "cell_type": "code",
   "execution_count": 3,
   "metadata": {
    "slideshow": {
     "slide_type": "fragment"
    }
   },
   "outputs": [
    {
     "data": {
      "text/html": [
       "<div>\n",
       "<style scoped>\n",
       "    .dataframe tbody tr th:only-of-type {\n",
       "        vertical-align: middle;\n",
       "    }\n",
       "\n",
       "    .dataframe tbody tr th {\n",
       "        vertical-align: top;\n",
       "    }\n",
       "\n",
       "    .dataframe thead th {\n",
       "        text-align: right;\n",
       "    }\n",
       "</style>\n",
       "<table border=\"1\" class=\"dataframe\">\n",
       "  <thead>\n",
       "    <tr style=\"text-align: right;\">\n",
       "      <th></th>\n",
       "      <th>FlightNumber</th>\n",
       "      <th>Year</th>\n",
       "      <th>Month</th>\n",
       "      <th>DayofMonth</th>\n",
       "      <th>DayOfWeek</th>\n",
       "      <th>ScheduledDepTime</th>\n",
       "      <th>ScheduledArrTime</th>\n",
       "      <th>ScheduledTravelTime</th>\n",
       "      <th>Origin</th>\n",
       "      <th>Destination</th>\n",
       "      <th>Distance</th>\n",
       "      <th>ActualArrivalTimeStamp</th>\n",
       "    </tr>\n",
       "  </thead>\n",
       "  <tbody>\n",
       "    <tr>\n",
       "      <th>0</th>\n",
       "      <td>BOS_CLE_29089</td>\n",
       "      <td>2004</td>\n",
       "      <td>9</td>\n",
       "      <td>20</td>\n",
       "      <td>1</td>\n",
       "      <td>1000</td>\n",
       "      <td>1154</td>\n",
       "      <td>114</td>\n",
       "      <td>BOS</td>\n",
       "      <td>CLE</td>\n",
       "      <td>563</td>\n",
       "      <td>20/09/04 11:54</td>\n",
       "    </tr>\n",
       "    <tr>\n",
       "      <th>1</th>\n",
       "      <td>CLE_ATL_44346</td>\n",
       "      <td>2004</td>\n",
       "      <td>11</td>\n",
       "      <td>19</td>\n",
       "      <td>5</td>\n",
       "      <td>1440</td>\n",
       "      <td>1634</td>\n",
       "      <td>114</td>\n",
       "      <td>CLE</td>\n",
       "      <td>ATL</td>\n",
       "      <td>554</td>\n",
       "      <td>19/11/04 18:55</td>\n",
       "    </tr>\n",
       "    <tr>\n",
       "      <th>2</th>\n",
       "      <td>SNA_LAS_44378</td>\n",
       "      <td>2004</td>\n",
       "      <td>5</td>\n",
       "      <td>4</td>\n",
       "      <td>2</td>\n",
       "      <td>1800</td>\n",
       "      <td>1902</td>\n",
       "      <td>62</td>\n",
       "      <td>SNA</td>\n",
       "      <td>LAS</td>\n",
       "      <td>226</td>\n",
       "      <td>04/05/04 19:02</td>\n",
       "    </tr>\n",
       "    <tr>\n",
       "      <th>3</th>\n",
       "      <td>CLT_TPA_51502</td>\n",
       "      <td>2004</td>\n",
       "      <td>7</td>\n",
       "      <td>6</td>\n",
       "      <td>2</td>\n",
       "      <td>1400</td>\n",
       "      <td>1533</td>\n",
       "      <td>93</td>\n",
       "      <td>CLT</td>\n",
       "      <td>TPA</td>\n",
       "      <td>508</td>\n",
       "      <td>06/07/04 15:33</td>\n",
       "    </tr>\n",
       "    <tr>\n",
       "      <th>4</th>\n",
       "      <td>MSP_ORD_44884</td>\n",
       "      <td>2004</td>\n",
       "      <td>9</td>\n",
       "      <td>23</td>\n",
       "      <td>4</td>\n",
       "      <td>830</td>\n",
       "      <td>946</td>\n",
       "      <td>76</td>\n",
       "      <td>MSP</td>\n",
       "      <td>ORD</td>\n",
       "      <td>334</td>\n",
       "      <td>23/09/04 09:46</td>\n",
       "    </tr>\n",
       "  </tbody>\n",
       "</table>\n",
       "</div>"
      ],
      "text/plain": [
       "    FlightNumber  Year  Month  DayofMonth  DayOfWeek  ScheduledDepTime  \\\n",
       "0  BOS_CLE_29089  2004      9          20          1              1000   \n",
       "1  CLE_ATL_44346  2004     11          19          5              1440   \n",
       "2  SNA_LAS_44378  2004      5           4          2              1800   \n",
       "3  CLT_TPA_51502  2004      7           6          2              1400   \n",
       "4  MSP_ORD_44884  2004      9          23          4               830   \n",
       "\n",
       "   ScheduledArrTime  ScheduledTravelTime Origin Destination  Distance  \\\n",
       "0              1154                  114    BOS         CLE       563   \n",
       "1              1634                  114    CLE         ATL       554   \n",
       "2              1902                   62    SNA         LAS       226   \n",
       "3              1533                   93    CLT         TPA       508   \n",
       "4               946                   76    MSP         ORD       334   \n",
       "\n",
       "  ActualArrivalTimeStamp  \n",
       "0         20/09/04 11:54  \n",
       "1         19/11/04 18:55  \n",
       "2         04/05/04 19:02  \n",
       "3         06/07/04 15:33  \n",
       "4         23/09/04 09:46  "
      ]
     },
     "execution_count": 3,
     "metadata": {},
     "output_type": "execute_result"
    }
   ],
   "source": [
    "train.head()"
   ]
  },
  {
   "cell_type": "markdown",
   "metadata": {},
   "source": [
    "#### Creating a new features 'ScheduledArrTimeStamp' and 'Time_diff' to find delay time and derive the target variable 'FlightDelayStatus'. A Flight is considered delayed if the difference between Scheduled arrival time and actual arrival time > 15min."
   ]
  },
  {
   "cell_type": "code",
   "execution_count": 4,
   "metadata": {},
   "outputs": [],
   "source": [
    "train.ScheduledArrTime = train.ScheduledArrTime.astype(\"str\")\n",
    "train.ScheduledArrTime = train.ScheduledArrTime.str.zfill(4)\n",
    "train['ScheduledArrHr'] = train['ScheduledArrTime'].str[:2]\n",
    "train['ScheduledArrMin'] = train['ScheduledArrTime'].str[-2:]\n",
    "train.ScheduledArrHr = train.ScheduledArrHr.astype(\"int64\")\n",
    "train.ScheduledArrMin = train.ScheduledArrMin.astype(\"int64\")\n",
    "train['ScheduledArrTimeStamp'] = pd.to_datetime(train[['Year', 'Month', 'DayofMonth','ScheduledArrHr','ScheduledArrMin']].rename(columns={'Year': 'year', 'Month':'month', 'DayofMonth': 'day','ScheduledArrHr': 'hour', 'ScheduledArrMin': 'minute'}))"
   ]
  },
  {
   "cell_type": "code",
   "execution_count": 5,
   "metadata": {},
   "outputs": [],
   "source": [
    "train['ActualArrivalTimeStamp'] = pd.to_datetime(train['ActualArrivalTimeStamp'],format='%d/%m/%y %H:%M')"
   ]
  },
  {
   "cell_type": "code",
   "execution_count": 6,
   "metadata": {},
   "outputs": [],
   "source": [
    "train['Time_diff'] = ((train['ActualArrivalTimeStamp'] - train['ScheduledArrTimeStamp'] ).dt.seconds)/60\n",
    "Time_diff = ((train['ActualArrivalTimeStamp'] - train['ScheduledArrTimeStamp'] ).dt.seconds)/60"
   ]
  },
  {
   "cell_type": "code",
   "execution_count": 7,
   "metadata": {
    "slideshow": {
     "slide_type": "fragment"
    }
   },
   "outputs": [],
   "source": [
    "train['FlightDelayStatus'] = 0\n",
    "for i in range(0,len(train)):\n",
    "    if  Time_diff[i] > 15 :\n",
    "        train['FlightDelayStatus'][i]  = 1\n",
    "    else :\n",
    "        train['FlightDelayStatus'][i]  = 2"
   ]
  },
  {
   "cell_type": "code",
   "execution_count": 8,
   "metadata": {},
   "outputs": [],
   "source": [
    "train.to_csv('asd.csv')"
   ]
  },
  {
   "cell_type": "markdown",
   "metadata": {},
   "source": [
    "#### If FlightDelayStatus is 1 the Flight is Delayed and If FlightDelayStatus is 2 the Flight is not Delayed"
   ]
  },
  {
   "cell_type": "code",
   "execution_count": 9,
   "metadata": {
    "slideshow": {
     "slide_type": "slide"
    }
   },
   "outputs": [
    {
     "data": {
      "text/plain": [
       "<matplotlib.axes._subplots.AxesSubplot at 0x1c73809d668>"
      ]
     },
     "execution_count": 9,
     "metadata": {},
     "output_type": "execute_result"
    },
    {
     "data": {
      "image/png": "[encoded data removed]",
      "text/plain": [
       "<Figure size 432x288 with 1 Axes>"
      ]
     },
     "metadata": {},
     "output_type": "display_data"
    }
   ],
   "source": [
    "train['FlightDelayStatus'].value_counts().plot.bar()"
   ]
  },
  {
   "cell_type": "code",
   "execution_count": 11,
   "metadata": {},
   "outputs": [
    {
     "name": "stdout",
     "output_type": "stream",
     "text": [
      "(1744, 8)\n"
     ]
    },
    {
     "data": {
      "text/html": [
       "<div>\n",
       "<style scoped>\n",
       "    .dataframe tbody tr th:only-of-type {\n",
       "        vertical-align: middle;\n",
       "    }\n",
       "\n",
       "    .dataframe tbody tr th {\n",
       "        vertical-align: top;\n",
       "    }\n",
       "\n",
       "    .dataframe thead th {\n",
       "        text-align: right;\n",
       "    }\n",
       "</style>\n",
       "<table border=\"1\" class=\"dataframe\">\n",
       "  <thead>\n",
       "    <tr style=\"text-align: right;\">\n",
       "      <th></th>\n",
       "      <th>WeatherStationID</th>\n",
       "      <th>AirportID</th>\n",
       "      <th>GroundHeight</th>\n",
       "      <th>StationHeight</th>\n",
       "      <th>BarometerHeight</th>\n",
       "      <th>Latitude</th>\n",
       "      <th>Longitude</th>\n",
       "      <th>TimeZone</th>\n",
       "    </tr>\n",
       "  </thead>\n",
       "  <tbody>\n",
       "    <tr>\n",
       "      <th>0</th>\n",
       "      <td>3011</td>\n",
       "      <td>TEX</td>\n",
       "      <td>0</td>\n",
       "      <td>0</td>\n",
       "      <td>0</td>\n",
       "      <td>37.57</td>\n",
       "      <td>-107.55</td>\n",
       "      <td>+7</td>\n",
       "    </tr>\n",
       "    <tr>\n",
       "      <th>1</th>\n",
       "      <td>3012</td>\n",
       "      <td>SKX</td>\n",
       "      <td>0</td>\n",
       "      <td>0</td>\n",
       "      <td>0</td>\n",
       "      <td>36.28</td>\n",
       "      <td>-105.40</td>\n",
       "      <td>+7</td>\n",
       "    </tr>\n",
       "    <tr>\n",
       "      <th>2</th>\n",
       "      <td>3013</td>\n",
       "      <td>LAA</td>\n",
       "      <td>3683</td>\n",
       "      <td>3703</td>\n",
       "      <td>3675</td>\n",
       "      <td>38.04</td>\n",
       "      <td>-102.41</td>\n",
       "      <td>+7</td>\n",
       "    </tr>\n",
       "    <tr>\n",
       "      <th>3</th>\n",
       "      <td>3014</td>\n",
       "      <td>4SL</td>\n",
       "      <td>0</td>\n",
       "      <td>6909</td>\n",
       "      <td>0</td>\n",
       "      <td>35.47</td>\n",
       "      <td>-107.14</td>\n",
       "      <td>+7</td>\n",
       "    </tr>\n",
       "    <tr>\n",
       "      <th>4</th>\n",
       "      <td>3016</td>\n",
       "      <td>RIL</td>\n",
       "      <td>5503</td>\n",
       "      <td>5544</td>\n",
       "      <td>5506</td>\n",
       "      <td>39.32</td>\n",
       "      <td>-107.44</td>\n",
       "      <td>+7</td>\n",
       "    </tr>\n",
       "  </tbody>\n",
       "</table>\n",
       "</div>"
      ],
      "text/plain": [
       "   WeatherStationID AirportID  GroundHeight  StationHeight  BarometerHeight  \\\n",
       "0              3011       TEX             0              0                0   \n",
       "1              3012       SKX             0              0                0   \n",
       "2              3013       LAA          3683           3703             3675   \n",
       "3              3014       4SL             0           6909                0   \n",
       "4              3016       RIL          5503           5544             5506   \n",
       "\n",
       "   Latitude  Longitude TimeZone  \n",
       "0     37.57    -107.55       +7  \n",
       "1     36.28    -105.40       +7  \n",
       "2     38.04    -102.41       +7  \n",
       "3     35.47    -107.14       +7  \n",
       "4     39.32    -107.44       +7  "
      ]
     },
     "execution_count": 11,
     "metadata": {},
     "output_type": "execute_result"
    }
   ],
   "source": [
    "print(StationsData.shape)\n",
    "StationsData.head()"
   ]
  },
  {
   "cell_type": "markdown",
   "metadata": {},
   "source": [
    "#### Merging Flight Data with Stations Data"
   ]
  },
  {
   "cell_type": "code",
   "execution_count": 12,
   "metadata": {},
   "outputs": [],
   "source": [
    "DataV0 = pd.merge(train, StationsData, left_on=['Destination'], right_on=['AirportID'])\n",
    "DataV0 = DataV0.drop([\"AirportID\"], axis = 1)"
   ]
  },
  {
   "cell_type": "code",
   "execution_count": 13,
   "metadata": {},
   "outputs": [
    {
     "data": {
      "text/plain": [
       "FlightNumber              0\n",
       "Year                      0\n",
       "Month                     0\n",
       "DayofMonth                0\n",
       "DayOfWeek                 0\n",
       "ScheduledDepTime          0\n",
       "ScheduledArrTime          0\n",
       "ScheduledTravelTime       0\n",
       "Origin                    0\n",
       "Destination               0\n",
       "Distance                  0\n",
       "ActualArrivalTimeStamp    0\n",
       "ScheduledArrHr            0\n",
       "ScheduledArrMin           0\n",
       "ScheduledArrTimeStamp     0\n",
       "Time_diff                 0\n",
       "FlightDelayStatus         0\n",
       "WeatherStationID          0\n",
       "GroundHeight              0\n",
       "StationHeight             0\n",
       "BarometerHeight           0\n",
       "Latitude                  0\n",
       "Longitude                 0\n",
       "TimeZone                  0\n",
       "dtype: int64"
      ]
     },
     "execution_count": 13,
     "metadata": {},
     "output_type": "execute_result"
    }
   ],
   "source": [
    "DataV0.isnull().sum()"
   ]
  },
  {
   "cell_type": "markdown",
   "metadata": {},
   "source": [
    "#### Creating new features 'YearMonthDay','HourlyHr' in DataV0 and HourlyData resectively to match common columns 'WeatherStationID','YearMonthDay',hour in both data frames"
   ]
  },
  {
   "cell_type": "code",
   "execution_count": 14,
   "metadata": {},
   "outputs": [],
   "source": [
    "DataV0['YearMonthDay'] = DataV0.ScheduledArrTimeStamp.dt.date\n",
    "DataV0['YearMonthDay'] = DataV0['YearMonthDay'].astype(str)\n",
    "DataV0['YearMonthDay'] = DataV0['YearMonthDay'].str.replace(\"-\",\"\")\n",
    "DataV0['YearMonthDay'] = DataV0.YearMonthDay.astype(\"int64\")"
   ]
  },
  {
   "cell_type": "code",
   "execution_count": 15,
   "metadata": {},
   "outputs": [],
   "source": [
    "hourlyData.Time = hourlyData.Time.astype(\"str\")\n",
    "hourlyData['Time'] = hourlyData['Time'].str.zfill(4)\n",
    "hourlyData['HourlyHr'] = hourlyData['Time'].str[:2]\n",
    "hourlyData['HourlyMin'] = hourlyData['Time'].str[-2:]\n",
    "hourlyData['Time'] = hourlyData.HourlyHr + \":\" + hourlyData.HourlyMin\n",
    "hourlyData.HourlyHr = hourlyData.HourlyHr.astype(\"int64\")\n",
    "hourlyData.HourlyMin = hourlyData.HourlyMin.astype(\"int64\")"
   ]
  },
  {
   "cell_type": "code",
   "execution_count": 16,
   "metadata": {},
   "outputs": [],
   "source": [
    "hourlyData.YearMonthDay = hourlyData.YearMonthDay.astype(str)\n",
    "hourlyData['YearMonthDay'] = hourlyData['YearMonthDay'].str.replace(\"2004051µ\",\"20040510\")\n",
    "hourlyData.YearMonthDay = hourlyData.YearMonthDay.astype(\"int64\")"
   ]
  },
  {
   "cell_type": "code",
   "execution_count": 17,
   "metadata": {},
   "outputs": [],
   "source": [
    "DataV1 = pd.merge( DataV0, hourlyData, how='left', left_on=['WeatherStationID','YearMonthDay','ScheduledArrHr'], right_on=['WeatherStationID','YearMonthDay','HourlyHr'])"
   ]
  },
  {
   "cell_type": "code",
   "execution_count": 18,
   "metadata": {},
   "outputs": [
    {
     "name": "stdout",
     "output_type": "stream",
     "text": [
      "(9425, 37)\n"
     ]
    },
    {
     "data": {
      "text/html": [
       "<div>\n",
       "<style scoped>\n",
       "    .dataframe tbody tr th:only-of-type {\n",
       "        vertical-align: middle;\n",
       "    }\n",
       "\n",
       "    .dataframe tbody tr th {\n",
       "        vertical-align: top;\n",
       "    }\n",
       "\n",
       "    .dataframe thead th {\n",
       "        text-align: right;\n",
       "    }\n",
       "</style>\n",
       "<table border=\"1\" class=\"dataframe\">\n",
       "  <thead>\n",
       "    <tr style=\"text-align: right;\">\n",
       "      <th></th>\n",
       "      <th>FlightNumber</th>\n",
       "      <th>Year</th>\n",
       "      <th>Month</th>\n",
       "      <th>DayofMonth</th>\n",
       "      <th>DayOfWeek</th>\n",
       "      <th>ScheduledDepTime</th>\n",
       "      <th>ScheduledArrTime</th>\n",
       "      <th>ScheduledTravelTime</th>\n",
       "      <th>Origin</th>\n",
       "      <th>Destination</th>\n",
       "      <th>...</th>\n",
       "      <th>Visibility</th>\n",
       "      <th>DBT</th>\n",
       "      <th>DewPointTemp</th>\n",
       "      <th>RelativeHumidityPercent</th>\n",
       "      <th>WindSpeed</th>\n",
       "      <th>WindDirection</th>\n",
       "      <th>WindGustValue</th>\n",
       "      <th>StationPressure</th>\n",
       "      <th>HourlyHr</th>\n",
       "      <th>HourlyMin</th>\n",
       "    </tr>\n",
       "  </thead>\n",
       "  <tbody>\n",
       "    <tr>\n",
       "      <th>0</th>\n",
       "      <td>BOS_CLE_29089</td>\n",
       "      <td>2004</td>\n",
       "      <td>9</td>\n",
       "      <td>20</td>\n",
       "      <td>1</td>\n",
       "      <td>1000</td>\n",
       "      <td>1154</td>\n",
       "      <td>114</td>\n",
       "      <td>BOS</td>\n",
       "      <td>CLE</td>\n",
       "      <td>...</td>\n",
       "      <td>10SM</td>\n",
       "      <td>71.0</td>\n",
       "      <td>35.0</td>\n",
       "      <td>27.0</td>\n",
       "      <td>8</td>\n",
       "      <td>190</td>\n",
       "      <td>0.0</td>\n",
       "      <td>29.49</td>\n",
       "      <td>11.0</td>\n",
       "      <td>51.0</td>\n",
       "    </tr>\n",
       "    <tr>\n",
       "      <th>1</th>\n",
       "      <td>FLL_CLE_45262</td>\n",
       "      <td>2004</td>\n",
       "      <td>3</td>\n",
       "      <td>13</td>\n",
       "      <td>6</td>\n",
       "      <td>1600</td>\n",
       "      <td>1847</td>\n",
       "      <td>167</td>\n",
       "      <td>FLL</td>\n",
       "      <td>CLE</td>\n",
       "      <td>...</td>\n",
       "      <td>10SM</td>\n",
       "      <td>29.0</td>\n",
       "      <td>23.0</td>\n",
       "      <td>78.0</td>\n",
       "      <td>0</td>\n",
       "      <td>000</td>\n",
       "      <td>0.0</td>\n",
       "      <td>29.56</td>\n",
       "      <td>18.0</td>\n",
       "      <td>51.0</td>\n",
       "    </tr>\n",
       "    <tr>\n",
       "      <th>2</th>\n",
       "      <td>EWR_CLE_37064</td>\n",
       "      <td>2004</td>\n",
       "      <td>3</td>\n",
       "      <td>4</td>\n",
       "      <td>4</td>\n",
       "      <td>645</td>\n",
       "      <td>0828</td>\n",
       "      <td>103</td>\n",
       "      <td>EWR</td>\n",
       "      <td>CLE</td>\n",
       "      <td>...</td>\n",
       "      <td>1.25SM</td>\n",
       "      <td>45.0</td>\n",
       "      <td>44.0</td>\n",
       "      <td>97.0</td>\n",
       "      <td>4</td>\n",
       "      <td>210</td>\n",
       "      <td>0.0</td>\n",
       "      <td>29.33</td>\n",
       "      <td>8.0</td>\n",
       "      <td>51.0</td>\n",
       "    </tr>\n",
       "    <tr>\n",
       "      <th>3</th>\n",
       "      <td>IAD_CLE_47407</td>\n",
       "      <td>2004</td>\n",
       "      <td>9</td>\n",
       "      <td>13</td>\n",
       "      <td>1</td>\n",
       "      <td>745</td>\n",
       "      <td>0900</td>\n",
       "      <td>75</td>\n",
       "      <td>IAD</td>\n",
       "      <td>CLE</td>\n",
       "      <td>...</td>\n",
       "      <td>10SM</td>\n",
       "      <td>76.0</td>\n",
       "      <td>57.0</td>\n",
       "      <td>52.0</td>\n",
       "      <td>5</td>\n",
       "      <td>180</td>\n",
       "      <td>0.0</td>\n",
       "      <td>29.39</td>\n",
       "      <td>9.0</td>\n",
       "      <td>51.0</td>\n",
       "    </tr>\n",
       "    <tr>\n",
       "      <th>4</th>\n",
       "      <td>STL_CLE_54043</td>\n",
       "      <td>2004</td>\n",
       "      <td>11</td>\n",
       "      <td>7</td>\n",
       "      <td>7</td>\n",
       "      <td>1200</td>\n",
       "      <td>1433</td>\n",
       "      <td>93</td>\n",
       "      <td>STL</td>\n",
       "      <td>CLE</td>\n",
       "      <td>...</td>\n",
       "      <td>10SM</td>\n",
       "      <td>58.0</td>\n",
       "      <td>40.0</td>\n",
       "      <td>51.0</td>\n",
       "      <td>11</td>\n",
       "      <td>310</td>\n",
       "      <td>0.0</td>\n",
       "      <td>29.01</td>\n",
       "      <td>14.0</td>\n",
       "      <td>51.0</td>\n",
       "    </tr>\n",
       "  </tbody>\n",
       "</table>\n",
       "<p>5 rows × 37 columns</p>\n",
       "</div>"
      ],
      "text/plain": [
       "    FlightNumber  Year  Month  DayofMonth  DayOfWeek  ScheduledDepTime  \\\n",
       "0  BOS_CLE_29089  2004      9          20          1              1000   \n",
       "1  FLL_CLE_45262  2004      3          13          6              1600   \n",
       "2  EWR_CLE_37064  2004      3           4          4               645   \n",
       "3  IAD_CLE_47407  2004      9          13          1               745   \n",
       "4  STL_CLE_54043  2004     11           7          7              1200   \n",
       "\n",
       "  ScheduledArrTime  ScheduledTravelTime Origin Destination    ...      \\\n",
       "0             1154                  114    BOS         CLE    ...       \n",
       "1             1847                  167    FLL         CLE    ...       \n",
       "2             0828                  103    EWR         CLE    ...       \n",
       "3             0900                   75    IAD         CLE    ...       \n",
       "4             1433                   93    STL         CLE    ...       \n",
       "\n",
       "   Visibility   DBT  DewPointTemp  RelativeHumidityPercent WindSpeed  \\\n",
       "0        10SM  71.0          35.0                     27.0         8   \n",
       "1        10SM  29.0          23.0                     78.0         0   \n",
       "2      1.25SM  45.0          44.0                     97.0         4   \n",
       "3        10SM  76.0          57.0                     52.0         5   \n",
       "4        10SM  58.0          40.0                     51.0        11   \n",
       "\n",
       "   WindDirection  WindGustValue  StationPressure  HourlyHr  HourlyMin  \n",
       "0            190            0.0            29.49      11.0       51.0  \n",
       "1            000            0.0            29.56      18.0       51.0  \n",
       "2            210            0.0            29.33       8.0       51.0  \n",
       "3            180            0.0            29.39       9.0       51.0  \n",
       "4            310            0.0            29.01      14.0       51.0  \n",
       "\n",
       "[5 rows x 37 columns]"
      ]
     },
     "execution_count": 18,
     "metadata": {},
     "output_type": "execute_result"
    }
   ],
   "source": [
    "print(DataV1.shape)\n",
    "DataV1.head()"
   ]
  },
  {
   "cell_type": "markdown",
   "metadata": {},
   "source": [
    "#### Similarly, creating new features from HpdData to merge and form the final DataFrame"
   ]
  },
  {
   "cell_type": "code",
   "execution_count": 19,
   "metadata": {},
   "outputs": [],
   "source": [
    "hpdData.Time = hpdData.Time.astype(\"str\")\n",
    "hpdData['Time'] = hpdData['Time'].str.zfill(4)\n",
    "hpdData['Hr'] = hpdData['Time'].str[:2]\n",
    "hpdData.Hr = hpdData.Hr.astype(\"int64\")"
   ]
  },
  {
   "cell_type": "code",
   "execution_count": 20,
   "metadata": {},
   "outputs": [],
   "source": [
    "DataV2 = pd.merge( DataV1, hpdData, how='left', left_on=['WeatherStationID','YearMonthDay','ScheduledArrHr'], right_on=['WeatherStationID','YearMonthDay','Hr'])"
   ]
  },
  {
   "cell_type": "code",
   "execution_count": 21,
   "metadata": {},
   "outputs": [
    {
     "name": "stdout",
     "output_type": "stream",
     "text": [
      "(9449, 40)\n"
     ]
    },
    {
     "data": {
      "text/html": [
       "<div>\n",
       "<style scoped>\n",
       "    .dataframe tbody tr th:only-of-type {\n",
       "        vertical-align: middle;\n",
       "    }\n",
       "\n",
       "    .dataframe tbody tr th {\n",
       "        vertical-align: top;\n",
       "    }\n",
       "\n",
       "    .dataframe thead th {\n",
       "        text-align: right;\n",
       "    }\n",
       "</style>\n",
       "<table border=\"1\" class=\"dataframe\">\n",
       "  <thead>\n",
       "    <tr style=\"text-align: right;\">\n",
       "      <th></th>\n",
       "      <th>FlightNumber</th>\n",
       "      <th>Year</th>\n",
       "      <th>Month</th>\n",
       "      <th>DayofMonth</th>\n",
       "      <th>DayOfWeek</th>\n",
       "      <th>ScheduledDepTime</th>\n",
       "      <th>ScheduledArrTime</th>\n",
       "      <th>ScheduledTravelTime</th>\n",
       "      <th>Origin</th>\n",
       "      <th>Destination</th>\n",
       "      <th>...</th>\n",
       "      <th>RelativeHumidityPercent</th>\n",
       "      <th>WindSpeed</th>\n",
       "      <th>WindDirection</th>\n",
       "      <th>WindGustValue</th>\n",
       "      <th>StationPressure</th>\n",
       "      <th>HourlyHr</th>\n",
       "      <th>HourlyMin</th>\n",
       "      <th>Time_y</th>\n",
       "      <th>HourlyPrecip</th>\n",
       "      <th>Hr</th>\n",
       "    </tr>\n",
       "  </thead>\n",
       "  <tbody>\n",
       "    <tr>\n",
       "      <th>0</th>\n",
       "      <td>BOS_CLE_29089</td>\n",
       "      <td>2004</td>\n",
       "      <td>9</td>\n",
       "      <td>20</td>\n",
       "      <td>1</td>\n",
       "      <td>1000</td>\n",
       "      <td>1154</td>\n",
       "      <td>114</td>\n",
       "      <td>BOS</td>\n",
       "      <td>CLE</td>\n",
       "      <td>...</td>\n",
       "      <td>27.0</td>\n",
       "      <td>8</td>\n",
       "      <td>190</td>\n",
       "      <td>0.0</td>\n",
       "      <td>29.49</td>\n",
       "      <td>11.0</td>\n",
       "      <td>51.0</td>\n",
       "      <td>1151</td>\n",
       "      <td>0.0</td>\n",
       "      <td>11.0</td>\n",
       "    </tr>\n",
       "    <tr>\n",
       "      <th>1</th>\n",
       "      <td>FLL_CLE_45262</td>\n",
       "      <td>2004</td>\n",
       "      <td>3</td>\n",
       "      <td>13</td>\n",
       "      <td>6</td>\n",
       "      <td>1600</td>\n",
       "      <td>1847</td>\n",
       "      <td>167</td>\n",
       "      <td>FLL</td>\n",
       "      <td>CLE</td>\n",
       "      <td>...</td>\n",
       "      <td>78.0</td>\n",
       "      <td>0</td>\n",
       "      <td>000</td>\n",
       "      <td>0.0</td>\n",
       "      <td>29.56</td>\n",
       "      <td>18.0</td>\n",
       "      <td>51.0</td>\n",
       "      <td>1851</td>\n",
       "      <td>0.0</td>\n",
       "      <td>18.0</td>\n",
       "    </tr>\n",
       "    <tr>\n",
       "      <th>2</th>\n",
       "      <td>EWR_CLE_37064</td>\n",
       "      <td>2004</td>\n",
       "      <td>3</td>\n",
       "      <td>4</td>\n",
       "      <td>4</td>\n",
       "      <td>645</td>\n",
       "      <td>0828</td>\n",
       "      <td>103</td>\n",
       "      <td>EWR</td>\n",
       "      <td>CLE</td>\n",
       "      <td>...</td>\n",
       "      <td>97.0</td>\n",
       "      <td>4</td>\n",
       "      <td>210</td>\n",
       "      <td>0.0</td>\n",
       "      <td>29.33</td>\n",
       "      <td>8.0</td>\n",
       "      <td>51.0</td>\n",
       "      <td>0851</td>\n",
       "      <td>0.0</td>\n",
       "      <td>8.0</td>\n",
       "    </tr>\n",
       "    <tr>\n",
       "      <th>3</th>\n",
       "      <td>IAD_CLE_47407</td>\n",
       "      <td>2004</td>\n",
       "      <td>9</td>\n",
       "      <td>13</td>\n",
       "      <td>1</td>\n",
       "      <td>745</td>\n",
       "      <td>0900</td>\n",
       "      <td>75</td>\n",
       "      <td>IAD</td>\n",
       "      <td>CLE</td>\n",
       "      <td>...</td>\n",
       "      <td>52.0</td>\n",
       "      <td>5</td>\n",
       "      <td>180</td>\n",
       "      <td>0.0</td>\n",
       "      <td>29.39</td>\n",
       "      <td>9.0</td>\n",
       "      <td>51.0</td>\n",
       "      <td>0951</td>\n",
       "      <td>0.0</td>\n",
       "      <td>9.0</td>\n",
       "    </tr>\n",
       "    <tr>\n",
       "      <th>4</th>\n",
       "      <td>STL_CLE_54043</td>\n",
       "      <td>2004</td>\n",
       "      <td>11</td>\n",
       "      <td>7</td>\n",
       "      <td>7</td>\n",
       "      <td>1200</td>\n",
       "      <td>1433</td>\n",
       "      <td>93</td>\n",
       "      <td>STL</td>\n",
       "      <td>CLE</td>\n",
       "      <td>...</td>\n",
       "      <td>51.0</td>\n",
       "      <td>11</td>\n",
       "      <td>310</td>\n",
       "      <td>0.0</td>\n",
       "      <td>29.01</td>\n",
       "      <td>14.0</td>\n",
       "      <td>51.0</td>\n",
       "      <td>1451</td>\n",
       "      <td>0.0</td>\n",
       "      <td>14.0</td>\n",
       "    </tr>\n",
       "  </tbody>\n",
       "</table>\n",
       "<p>5 rows × 40 columns</p>\n",
       "</div>"
      ],
      "text/plain": [
       "    FlightNumber  Year  Month  DayofMonth  DayOfWeek  ScheduledDepTime  \\\n",
       "0  BOS_CLE_29089  2004      9          20          1              1000   \n",
       "1  FLL_CLE_45262  2004      3          13          6              1600   \n",
       "2  EWR_CLE_37064  2004      3           4          4               645   \n",
       "3  IAD_CLE_47407  2004      9          13          1               745   \n",
       "4  STL_CLE_54043  2004     11           7          7              1200   \n",
       "\n",
       "  ScheduledArrTime  ScheduledTravelTime Origin Destination  ...   \\\n",
       "0             1154                  114    BOS         CLE  ...    \n",
       "1             1847                  167    FLL         CLE  ...    \n",
       "2             0828                  103    EWR         CLE  ...    \n",
       "3             0900                   75    IAD         CLE  ...    \n",
       "4             1433                   93    STL         CLE  ...    \n",
       "\n",
       "   RelativeHumidityPercent WindSpeed  WindDirection  WindGustValue  \\\n",
       "0                     27.0         8            190            0.0   \n",
       "1                     78.0         0            000            0.0   \n",
       "2                     97.0         4            210            0.0   \n",
       "3                     52.0         5            180            0.0   \n",
       "4                     51.0        11            310            0.0   \n",
       "\n",
       "  StationPressure  HourlyHr  HourlyMin  Time_y  HourlyPrecip    Hr  \n",
       "0           29.49      11.0       51.0    1151           0.0  11.0  \n",
       "1           29.56      18.0       51.0    1851           0.0  18.0  \n",
       "2           29.33       8.0       51.0    0851           0.0   8.0  \n",
       "3           29.39       9.0       51.0    0951           0.0   9.0  \n",
       "4           29.01      14.0       51.0    1451           0.0  14.0  \n",
       "\n",
       "[5 rows x 40 columns]"
      ]
     },
     "execution_count": 21,
     "metadata": {},
     "output_type": "execute_result"
    }
   ],
   "source": [
    "print(DataV2.shape)\n",
    "DataV2.head()"
   ]
  },
  {
   "cell_type": "markdown",
   "metadata": {},
   "source": [
    "#### Since merged based on Hour multiple duplicate instances for each flight have been created. Therefore, removing all other instances except the one with minimum time difference between hourlyTimeStamp and ScheduledArrTimeStamp.\n"
   ]
  },
  {
   "cell_type": "code",
   "execution_count": 22,
   "metadata": {},
   "outputs": [],
   "source": [
    "DataV2['HourlyHr'].fillna(value=DataV2['HourlyHr'].mean(),inplace =True)\n",
    "DataV2['HourlyMin'].fillna(value=DataV2['HourlyMin'].mean(),inplace =True)\n",
    "DataV2['hourlyTimeStamp'] = pd.to_datetime(DataV2[['Year', 'Month', 'DayofMonth','HourlyHr','HourlyMin']].rename(columns={'Year': 'year', 'Month':'month', 'DayofMonth': 'day', 'HourlyHr': 'hour', 'HourlyMin': 'minute'}))"
   ]
  },
  {
   "cell_type": "code",
   "execution_count": 23,
   "metadata": {},
   "outputs": [],
   "source": [
    "DataV3 = DataV2.iloc[0:0]\n",
    "temp = DataV2.iloc[0:0]\n",
    "for i in range(0,7861):\n",
    "    if DataV2.FlightNumber.value_counts()[i] > 1:\n",
    "        temp = DataV2[DataV2['FlightNumber'] == DataV2.FlightNumber.value_counts().index[i]]\n",
    "        s = np.argmin(temp.ScheduledArrTimeStamp - temp.hourlyTimeStamp)\n",
    "        DataV3 = DataV3.append(DataV2.loc[[s]])\n",
    "    else:\n",
    "        DataV3 = DataV3.append(DataV2[DataV2['FlightNumber'] == DataV2.FlightNumber.value_counts().index[i]])"
   ]
  },
  {
   "cell_type": "code",
   "execution_count": 24,
   "metadata": {},
   "outputs": [
    {
     "name": "stdout",
     "output_type": "stream",
     "text": [
      "7861\n",
      "(7861, 41)\n"
     ]
    },
    {
     "data": {
      "text/html": [
       "<div>\n",
       "<style scoped>\n",
       "    .dataframe tbody tr th:only-of-type {\n",
       "        vertical-align: middle;\n",
       "    }\n",
       "\n",
       "    .dataframe tbody tr th {\n",
       "        vertical-align: top;\n",
       "    }\n",
       "\n",
       "    .dataframe thead th {\n",
       "        text-align: right;\n",
       "    }\n",
       "</style>\n",
       "<table border=\"1\" class=\"dataframe\">\n",
       "  <thead>\n",
       "    <tr style=\"text-align: right;\">\n",
       "      <th></th>\n",
       "      <th>FlightNumber</th>\n",
       "      <th>Year</th>\n",
       "      <th>Month</th>\n",
       "      <th>DayofMonth</th>\n",
       "      <th>DayOfWeek</th>\n",
       "      <th>ScheduledDepTime</th>\n",
       "      <th>ScheduledArrTime</th>\n",
       "      <th>ScheduledTravelTime</th>\n",
       "      <th>Origin</th>\n",
       "      <th>Destination</th>\n",
       "      <th>...</th>\n",
       "      <th>WindSpeed</th>\n",
       "      <th>WindDirection</th>\n",
       "      <th>WindGustValue</th>\n",
       "      <th>StationPressure</th>\n",
       "      <th>HourlyHr</th>\n",
       "      <th>HourlyMin</th>\n",
       "      <th>Time_y</th>\n",
       "      <th>HourlyPrecip</th>\n",
       "      <th>Hr</th>\n",
       "      <th>hourlyTimeStamp</th>\n",
       "    </tr>\n",
       "  </thead>\n",
       "  <tbody>\n",
       "    <tr>\n",
       "      <th>0</th>\n",
       "      <td>LEX_ATL_28655</td>\n",
       "      <td>2004</td>\n",
       "      <td>11</td>\n",
       "      <td>24</td>\n",
       "      <td>3</td>\n",
       "      <td>925</td>\n",
       "      <td>1045</td>\n",
       "      <td>80</td>\n",
       "      <td>LEX</td>\n",
       "      <td>ATL</td>\n",
       "      <td>...</td>\n",
       "      <td>13</td>\n",
       "      <td>300</td>\n",
       "      <td>0.0</td>\n",
       "      <td>28.72</td>\n",
       "      <td>10.0</td>\n",
       "      <td>51.0</td>\n",
       "      <td>1051</td>\n",
       "      <td>0.54</td>\n",
       "      <td>10.0</td>\n",
       "      <td>2004-11-24 10:51:00</td>\n",
       "    </tr>\n",
       "    <tr>\n",
       "      <th>1</th>\n",
       "      <td>SLC_SGU_30093</td>\n",
       "      <td>2004</td>\n",
       "      <td>5</td>\n",
       "      <td>17</td>\n",
       "      <td>1</td>\n",
       "      <td>750</td>\n",
       "      <td>0907</td>\n",
       "      <td>77</td>\n",
       "      <td>SLC</td>\n",
       "      <td>SGU</td>\n",
       "      <td>...</td>\n",
       "      <td>8</td>\n",
       "      <td>200</td>\n",
       "      <td>0.0</td>\n",
       "      <td>29.84</td>\n",
       "      <td>9.0</td>\n",
       "      <td>55.0</td>\n",
       "      <td>0915</td>\n",
       "      <td>0.00</td>\n",
       "      <td>9.0</td>\n",
       "      <td>2004-05-17 09:55:00</td>\n",
       "    </tr>\n",
       "    <tr>\n",
       "      <th>2</th>\n",
       "      <td>LBB_DFW_47885</td>\n",
       "      <td>2004</td>\n",
       "      <td>5</td>\n",
       "      <td>27</td>\n",
       "      <td>4</td>\n",
       "      <td>1610</td>\n",
       "      <td>1715</td>\n",
       "      <td>65</td>\n",
       "      <td>LBB</td>\n",
       "      <td>DFW</td>\n",
       "      <td>...</td>\n",
       "      <td>8</td>\n",
       "      <td>050</td>\n",
       "      <td>0.0</td>\n",
       "      <td>29.10</td>\n",
       "      <td>17.0</td>\n",
       "      <td>53.0</td>\n",
       "      <td>1753</td>\n",
       "      <td>1.06</td>\n",
       "      <td>17.0</td>\n",
       "      <td>2004-05-27 17:53:00</td>\n",
       "    </tr>\n",
       "    <tr>\n",
       "      <th>3</th>\n",
       "      <td>ATL_GTR_26690</td>\n",
       "      <td>2004</td>\n",
       "      <td>5</td>\n",
       "      <td>18</td>\n",
       "      <td>2</td>\n",
       "      <td>1734</td>\n",
       "      <td>1753</td>\n",
       "      <td>79</td>\n",
       "      <td>ATL</td>\n",
       "      <td>GTR</td>\n",
       "      <td>...</td>\n",
       "      <td>3</td>\n",
       "      <td>250</td>\n",
       "      <td>0.0</td>\n",
       "      <td>30.16</td>\n",
       "      <td>17.0</td>\n",
       "      <td>55.0</td>\n",
       "      <td>1715</td>\n",
       "      <td>0.00</td>\n",
       "      <td>17.0</td>\n",
       "      <td>2004-05-18 17:55:00</td>\n",
       "    </tr>\n",
       "    <tr>\n",
       "      <th>4</th>\n",
       "      <td>DFW_ILE_34698</td>\n",
       "      <td>2004</td>\n",
       "      <td>5</td>\n",
       "      <td>14</td>\n",
       "      <td>5</td>\n",
       "      <td>839</td>\n",
       "      <td>0942</td>\n",
       "      <td>63</td>\n",
       "      <td>DFW</td>\n",
       "      <td>ILE</td>\n",
       "      <td>...</td>\n",
       "      <td>11</td>\n",
       "      <td>340</td>\n",
       "      <td>18.0</td>\n",
       "      <td>30.18</td>\n",
       "      <td>9.0</td>\n",
       "      <td>55.0</td>\n",
       "      <td>0915</td>\n",
       "      <td>0.00</td>\n",
       "      <td>9.0</td>\n",
       "      <td>2004-05-14 09:55:00</td>\n",
       "    </tr>\n",
       "  </tbody>\n",
       "</table>\n",
       "<p>5 rows × 41 columns</p>\n",
       "</div>"
      ],
      "text/plain": [
       "    FlightNumber  Year  Month  DayofMonth  DayOfWeek  ScheduledDepTime  \\\n",
       "0  LEX_ATL_28655  2004     11          24          3               925   \n",
       "1  SLC_SGU_30093  2004      5          17          1               750   \n",
       "2  LBB_DFW_47885  2004      5          27          4              1610   \n",
       "3  ATL_GTR_26690  2004      5          18          2              1734   \n",
       "4  DFW_ILE_34698  2004      5          14          5               839   \n",
       "\n",
       "  ScheduledArrTime  ScheduledTravelTime Origin Destination  \\\n",
       "0             1045                   80    LEX         ATL   \n",
       "1             0907                   77    SLC         SGU   \n",
       "2             1715                   65    LBB         DFW   \n",
       "3             1753                   79    ATL         GTR   \n",
       "4             0942                   63    DFW         ILE   \n",
       "\n",
       "          ...          WindSpeed WindDirection  WindGustValue  \\\n",
       "0         ...                 13           300            0.0   \n",
       "1         ...                  8           200            0.0   \n",
       "2         ...                  8           050            0.0   \n",
       "3         ...                  3           250            0.0   \n",
       "4         ...                 11           340           18.0   \n",
       "\n",
       "   StationPressure HourlyHr  HourlyMin  Time_y  HourlyPrecip    Hr  \\\n",
       "0            28.72     10.0       51.0    1051          0.54  10.0   \n",
       "1            29.84      9.0       55.0    0915          0.00   9.0   \n",
       "2            29.10     17.0       53.0    1753          1.06  17.0   \n",
       "3            30.16     17.0       55.0    1715          0.00  17.0   \n",
       "4            30.18      9.0       55.0    0915          0.00   9.0   \n",
       "\n",
       "      hourlyTimeStamp  \n",
       "0 2004-11-24 10:51:00  \n",
       "1 2004-05-17 09:55:00  \n",
       "2 2004-05-27 17:53:00  \n",
       "3 2004-05-18 17:55:00  \n",
       "4 2004-05-14 09:55:00  \n",
       "\n",
       "[5 rows x 41 columns]"
      ]
     },
     "execution_count": 24,
     "metadata": {},
     "output_type": "execute_result"
    }
   ],
   "source": [
    "print(DataV3.FlightNumber.nunique())\n",
    "print(DataV3.shape)\n",
    "DataV3 = DataV3.reset_index(drop =True)\n",
    "DataV3.head()"
   ]
  },
  {
   "cell_type": "markdown",
   "metadata": {},
   "source": [
    "#### Visibility column is given along with the units SM. Removing the units. Generally, if the wind speed is less than 6 knots wind direction is coded as VRB. Making an assumption that < than 6 knots is neglible speed with no direction"
   ]
  },
  {
   "cell_type": "code",
   "execution_count": 25,
   "metadata": {},
   "outputs": [],
   "source": [
    "DataV3.Visibility = DataV3.Visibility.astype(str)\n",
    "DataV3.Visibility = DataV3.Visibility.str.replace(\"SM\", \"\")\n",
    "DataV3.WindDirection = DataV3.WindDirection.astype(str)\n",
    "DataV3.WindDirection = DataV3['WindDirection'].str.replace(\"VRB\",\"000\")"
   ]
  },
  {
   "cell_type": "markdown",
   "metadata": {},
   "source": [
    "#### Imputing the missing values"
   ]
  },
  {
   "cell_type": "code",
   "execution_count": 26,
   "metadata": {},
   "outputs": [],
   "source": [
    "DataV3['WindSpeed'].fillna(value=DataV3['WindSpeed'].value_counts().index[0],inplace =True)\n",
    "DataV3['WindDirection'].fillna(value=DataV3['WindDirection'].value_counts().index[0],inplace =True)\n",
    "DataV3['SkyConditions'].fillna(value=DataV3['SkyConditions'].value_counts().index[0],inplace =True)"
   ]
  },
  {
   "cell_type": "markdown",
   "metadata": {},
   "source": [
    "####  Contraction Meaning Summation    Amount of Layer\n",
    "-  VV          Vertical Visibility  8/8\n",
    "-  SKC or CLR  Clear                0 \n",
    "-  FEW         Few                  1/8 - 2/8\n",
    "-  SCT         Scattered            3/8 - 4/8\n",
    "-  BKN         Broken               5/8 - 7/8\n",
    "-  OVC         Overcast             8/8\n",
    "\n",
    "-  When no layers at or below 12,000 feet are reported CLR is used.\n",
    "-  If cloud layer is between (1/8)*12000 to (2/8)*12000 feet FEW contraction is used. LL'ly others."
   ]
  },
  {
   "cell_type": "code",
   "execution_count": 27,
   "metadata": {},
   "outputs": [
    {
     "data": {
      "text/plain": [
       "CLR                            1094\n",
       "FEW250                          252\n",
       "SCT250                          136\n",
       "BKN250                          118\n",
       "FEW200                           72\n",
       "FEW060                           46\n",
       "FEW120                           40\n",
       "FEW050                           39\n",
       "FEW040                           35\n",
       "OVC005                           33\n",
       "OVC007                           32\n",
       "FEW055                           31\n",
       "OVC006                           31\n",
       "FEW050 SCT250                    30\n",
       "FEW300                           29\n",
       "OVC004                           28\n",
       "FEW045                           28\n",
       "OVC003                           27\n",
       "FEW150                           27\n",
       "FEW035                           27\n",
       "FEW030                           26\n",
       "SCT060                           25\n",
       "SCT050                           25\n",
       "SCT055                           24\n",
       "FEW060 SCT250                    24\n",
       "FEW100                           22\n",
       "OVC008                           22\n",
       "FEW010                           21\n",
       "OVC015                           21\n",
       "OVC012                           21\n",
       "                               ... \n",
       "FEW024 SCT044 SCT250              1\n",
       "FEW200 SCT300                     1\n",
       "SCT025CB BKN150 BKN250            1\n",
       "FEW043 BKN050 OVC060              1\n",
       "SCT024 SCT110 BKN150              1\n",
       "SCT036 BKN050                     1\n",
       "SCT035 BKN150                     1\n",
       "SCT150 BKN180                     1\n",
       "FEW030 BKN100 OVC250              1\n",
       "FEW011 SCT200 SCT250              1\n",
       "FEW031 SCT070 BKN140 OVC300       1\n",
       "SCT007 BKN220                     1\n",
       "BKN060 OVC075                     1\n",
       "FEW050 FEW200                     1\n",
       "SCT100CB BKN130 BKN200            1\n",
       "BKN050 BKN060 BKN200 BKN300       1\n",
       "BKN011 OVC020                     1\n",
       "SCT050 SCT070 BKN150              1\n",
       "SCT009 OVC013                     1\n",
       "FEW150 SCT220                     1\n",
       "SCT009 BKN021 OVC028              1\n",
       "FEW017 OVC031                     1\n",
       "BKN038 BKN180 BKN250              1\n",
       "SCT003 BKN023CB OVC037            1\n",
       "FEW025 BKN150                     1\n",
       "FEW045 SCT072                     1\n",
       "SCT026 SCT095 BKN250              1\n",
       "SCT020 BKN030                     1\n",
       "BKN070 BKN080 OVC200              1\n",
       "SCT027 BKN039 BKN055              1\n",
       "Name: SkyConditions, Length: 3439, dtype: int64"
      ]
     },
     "execution_count": 27,
     "metadata": {},
     "output_type": "execute_result"
    }
   ],
   "source": [
    "DataV3['SkyConditions'].value_counts()"
   ]
  },
  {
   "cell_type": "markdown",
   "metadata": {},
   "source": [
    "#### Sky condition is coded in the format, NNNhhh, where NNN is the sky cover and hhh is the height of the layer. Cleaning the SkyConditions column and deriving new features SkyCover and LayerHt."
   ]
  },
  {
   "cell_type": "code",
   "execution_count": 28,
   "metadata": {},
   "outputs": [],
   "source": [
    "a = DataV3['SkyConditions'].str.replace('\\d+', '')\n",
    "g1 = a.str[-3:]\n",
    "n = DataV3['SkyConditions'].str.replace('[^0-9]', '')\n",
    "n= n.astype(str)\n",
    "n =n.str[-3:]\n",
    "for i in range(0,7861):\n",
    "    if(len(n[i]) ==0):\n",
    "        n[i]='0'"
   ]
  },
  {
   "cell_type": "code",
   "execution_count": 29,
   "metadata": {},
   "outputs": [],
   "source": [
    "DataV3['SkyCover'] = g1\n",
    "DataV3['LayerHt'] = n"
   ]
  },
  {
   "cell_type": "code",
   "execution_count": 30,
   "metadata": {},
   "outputs": [],
   "source": [
    "tcu = DataV3[DataV3.SkyCover == 'TCU'].SkyConditions.str.replace('\\d+', '').str[:3]\n",
    "for i in (tcu.index):\n",
    "    if DataV3.SkyCover[i] == 'TCU' :\n",
    "        DataV3.SkyCover[i] = tcu[i]\n",
    "CCB = DataV3[DataV3.SkyCover == 'CCB'].SkyConditions.str.replace('\\d+', '').str[:3]\n",
    "for i in (CCB.index):\n",
    "    if DataV3.SkyCover[i] == 'CCB' :\n",
    "        DataV3.SkyCover[i] = CCB[i]\n",
    "BK = DataV3[DataV3.SkyCover == ' BK'].SkyConditions.str.replace('\\d+', '').str[4:8]\n",
    "for i in (BK.index):\n",
    "    if DataV3.SkyCover[i] == ' BK' :\n",
    "        DataV3.SkyCover[i] = 'BKN'       \n",
    "OV = DataV3[DataV3.SkyCover == ' OV'].SkyConditions.str.replace('\\d+', '').str[4:8]\n",
    "for i in (OV.index):\n",
    "    if DataV3.SkyCover[i] == ' OV' :\n",
    "        DataV3.SkyCover[i] = 'OVC'\n",
    "NCB = DataV3[DataV3.SkyCover == 'NCB'].SkyConditions.str.replace('\\d+', '')\n",
    "for i in (NCB.index):\n",
    "    if DataV3.SkyCover[i] == 'NCB' :\n",
    "        DataV3.SkyCover[i] = 'BKN'\n",
    "WCB = DataV3[DataV3.SkyCover == 'WCB'].SkyConditions.str.replace('\\d+', '').str[:3]\n",
    "for i in (WCB.index):\n",
    "    if DataV3.SkyCover[i] == 'WCB' :\n",
    "        DataV3.SkyCover[i] = WCB[i]\n",
    "TCB = DataV3[DataV3.SkyCover == 'TCB'].SkyConditions.str.replace('\\d+', '').str[:3]\n",
    "for i in (TCB.index):\n",
    "    if DataV3.SkyCover[i] == 'TCB' :\n",
    "        DataV3.SkyCover[i] = TCB[i]\n",
    "#since the ft is ranging from 100ft to 900ft falls under few category\n",
    "VV = DataV3[DataV3.SkyCover == 'VV'].SkyConditions.str.replace('\\d+', '').str[:3]\n",
    "for i in (VV.index):\n",
    "    if DataV3.SkyCover[i] == 'VV' :\n",
    "        DataV3.SkyCover[i] = 'FEW'"
   ]
  },
  {
   "cell_type": "code",
   "execution_count": 31,
   "metadata": {},
   "outputs": [
    {
     "data": {
      "text/plain": [
       "BKN    2113\n",
       "OVC    1989\n",
       "SCT    1583\n",
       "CLR    1094\n",
       "FEW    1082\n",
       "Name: SkyCover, dtype: int64"
      ]
     },
     "execution_count": 31,
     "metadata": {},
     "output_type": "execute_result"
    }
   ],
   "source": [
    "DataV3.SkyCover.value_counts()"
   ]
  },
  {
   "cell_type": "code",
   "execution_count": 32,
   "metadata": {},
   "outputs": [],
   "source": [
    "DataV3['WindDirection'] = DataV3['WindDirection'].str.replace(\"nan\",\"000\")\n",
    "DataV3['WindDirection'] = DataV3['WindDirection'].astype('int64')"
   ]
  },
  {
   "cell_type": "markdown",
   "metadata": {},
   "source": [
    "#### Creating new feature WindCompDir based on wind Directions"
   ]
  },
  {
   "cell_type": "code",
   "execution_count": 33,
   "metadata": {},
   "outputs": [],
   "source": [
    "arr=[\"N\",\"NNE\",\"NE\",\"ENE\",\"E\",\"ESE\", \"SE\", \"SSE\",\"S\",\"SSW\",\"SW\",\"WSW\",\"W\",\"WNW\",\"NW\",\"NNW\"]    \n",
    "DataV3['WindCompDir'] = ''\n",
    "for i in range(0, len(DataV3)):\n",
    "    num = DataV3.WindDirection[i]\n",
    "    val=int((num/22.5)+.5)\n",
    "    DataV3['WindCompDir'][i] = arr[(val % 16)]"
   ]
  },
  {
   "cell_type": "code",
   "execution_count": 34,
   "metadata": {},
   "outputs": [],
   "source": [
    "DataV3.WindCompDir = DataV3.WindCompDir.astype('category')"
   ]
  },
  {
   "cell_type": "code",
   "execution_count": 35,
   "metadata": {},
   "outputs": [
    {
     "name": "stdout",
     "output_type": "stream",
     "text": [
      "N      1479\n",
      "S       826\n",
      "W       563\n",
      "SSE     482\n",
      "E       479\n",
      "SSW     474\n",
      "WSW     442\n",
      "SW      432\n",
      "WNW     384\n",
      "NW      366\n",
      "ENE     350\n",
      "SE      347\n",
      "NNW     319\n",
      "NNE     312\n",
      "NE      311\n",
      "ESE     295\n",
      "Name: WindCompDir, dtype: int64\n"
     ]
    }
   ],
   "source": [
    "print(DataV3.WindCompDir.value_counts())"
   ]
  },
  {
   "cell_type": "markdown",
   "metadata": {},
   "source": [
    "#### Checking for NULL values and imputing them with either mean or mode according to datatype."
   ]
  },
  {
   "cell_type": "code",
   "execution_count": 36,
   "metadata": {},
   "outputs": [
    {
     "name": "stdout",
     "output_type": "stream",
     "text": [
      "(7861, 44)\n"
     ]
    },
    {
     "data": {
      "text/plain": [
       "Time_x                      90\n",
       "DBT                        174\n",
       "DewPointTemp               175\n",
       "RelativeHumidityPercent    178\n",
       "WindGustValue               92\n",
       "StationPressure            172\n",
       "Time_y                      22\n",
       "HourlyPrecip               477\n",
       "Hr                          22\n",
       "dtype: int64"
      ]
     },
     "execution_count": 36,
     "metadata": {},
     "output_type": "execute_result"
    }
   ],
   "source": [
    "print(DataV3.shape)\n",
    "nul =   DataV3.isnull().sum()\n",
    "nul[nul>0]"
   ]
  },
  {
   "cell_type": "code",
   "execution_count": 84,
   "metadata": {},
   "outputs": [],
   "source": [
    "DataV3['DBT'].fillna(value=DataV3['DBT'].mean(),inplace =True)\n",
    "DataV3['DewPointTemp'].fillna(value=DataV3['DewPointTemp'].mean(),inplace =True)\n",
    "DataV3['Visibility'].fillna(value=DataV3['Visibility'].value_counts().index[0],inplace =True)\n",
    "DataV3['RelativeHumidityPercent'].fillna(value=DataV3['RelativeHumidityPercent'].mean(),inplace =True)\n",
    "DataV3['WindGustValue'].fillna(value=DataV3['WindGustValue'].mean(),inplace =True)\n",
    "DataV3['StationPressure'].fillna(value=DataV3['StationPressure'].mean(),inplace =True)\n",
    "DataV3['HourlyPrecip'].fillna(value=DataV3['HourlyPrecip'].mean(),inplace =True)"
   ]
  },
  {
   "cell_type": "code",
   "execution_count": 38,
   "metadata": {},
   "outputs": [],
   "source": [
    "DataV3[\"DayOfWeek\"] = DataV3[\"DayOfWeek\"].astype('category')\n",
    "DataV3['WindSpeed'] = DataV3['WindSpeed'].astype('int64')\n",
    "DataV3['Visibility'] = DataV3['Visibility'].astype('float64')\n",
    "DataV3[\"SkyConditions\"] = DataV3[\"SkyConditions\"].astype('category')\n",
    "DataV3[\"TimeZone\"] = DataV3[\"TimeZone\"].astype('category')\n",
    "DataV3[\"FlightDelayStatus\"] = DataV3[\"FlightDelayStatus\"].astype('category')"
   ]
  },
  {
   "cell_type": "code",
   "execution_count": 39,
   "metadata": {},
   "outputs": [],
   "source": [
    "DataV3[\"SkyCover\"] = DataV3[\"SkyCover\"].astype('category')\n",
    "DataV3['LayerHt'] = DataV3['LayerHt'].astype('int64')\n",
    "DataV3['Visibility'].fillna(value=DataV3['Visibility'].value_counts().index[0],inplace =True)"
   ]
  },
  {
   "cell_type": "code",
   "execution_count": 88,
   "metadata": {},
   "outputs": [
    {
     "data": {
      "text/plain": [
       "Time_x    90\n",
       "Time_y    22\n",
       "Hr        22\n",
       "dtype: int64"
      ]
     },
     "execution_count": 88,
     "metadata": {},
     "output_type": "execute_result"
    }
   ],
   "source": [
    "ull = DataV3.isnull().sum()\n",
    "ull[ull>0]"
   ]
  },
  {
   "cell_type": "code",
   "execution_count": 41,
   "metadata": {},
   "outputs": [],
   "source": [
    "DataV3.to_csv('Flight.csv', index= False)"
   ]
  },
  {
   "cell_type": "markdown",
   "metadata": {},
   "source": [
    "### Correlations Heatmap"
   ]
  },
  {
   "cell_type": "code",
   "execution_count": 253,
   "metadata": {},
   "outputs": [],
   "source": [
    "correlations = DataV3[['Year', 'Month', 'DayofMonth',\n",
    "       'ScheduledDepTime', 'ScheduledArrTime', 'ScheduledTravelTime', 'Distance', 'ScheduledArrHr',\n",
    "       'ScheduledArrMin', 'WeatherStationID', 'GroundHeight', 'StationHeight', 'BarometerHeight',\n",
    "       'Latitude', 'Longitude', 'YearMonthDay',\n",
    "       'Visibility', 'DBT', 'DewPointTemp', 'RelativeHumidityPercent',\n",
    "       'WindSpeed', 'WindGustValue', 'StationPressure',\n",
    "       'HourlyPrecip']]"
   ]
  },
  {
   "cell_type": "code",
   "execution_count": 254,
   "metadata": {
    "scrolled": true
   },
   "outputs": [
    {
     "data": {
      "text/plain": [
       "<matplotlib.axes._subplots.AxesSubplot at 0x1c7fe7eba58>"
      ]
     },
     "execution_count": 254,
     "metadata": {},
     "output_type": "execute_result"
    },
    {
     "data": {
      "image/png": "[encoded data removed]",
      "text/plain": [
       "<Figure size 792x648 with 2 Axes>"
      ]
     },
     "metadata": {},
     "output_type": "display_data"
    }
   ],
   "source": [
    "# Compute the correlation matrix\n",
    "corr = correlations.corr()\n",
    "\n",
    "# Generate a mask for the upper triangle\n",
    "mask = np.zeros_like(corr, dtype=np.bool)\n",
    "mask[np.triu_indices_from(mask)] = True\n",
    "\n",
    "# Set up the matplotlib figure\n",
    "f, ax = plt.subplots(figsize=(11, 9))\n",
    "\n",
    "# Generate a custom diverging colormap\n",
    "cmap = sns.diverging_palette(220,10, as_cmap=True)\n",
    "\n",
    "# Draw the heatmap with the mask and correct aspect ratio\n",
    "sns.heatmap(corr, mask=mask, cmap=cmap, vmax=.3, center=0,\n",
    "             linewidths=.5, cbar_kws={\"shrink\": .5},)"
   ]
  },
  {
   "cell_type": "markdown",
   "metadata": {},
   "source": [
    "### Observations:: \n",
    "#### Pressure decreases with increasing altitude, since there is a relation between pressure and height, the three columns Ground Height, Station Height, BarometerHeight are correlated with Station Pressure"
   ]
  },
  {
   "cell_type": "markdown",
   "metadata": {},
   "source": [
    "#### Creating the Final DataFrame and removing unneccesary columns for model building"
   ]
  },
  {
   "cell_type": "code",
   "execution_count": 45,
   "metadata": {},
   "outputs": [],
   "source": [
    "DataV4 = DataV3.drop([\"FlightNumber\",\"Year\",\"Month\",\"DayofMonth\",'ScheduledTravelTime',\"ScheduledArrHr\",\"ScheduledArrMin\",\"ScheduledDepTime\",\"ScheduledArrTime\",\"Origin\",\"Destination\",\"WeatherStationID\",\"ActualArrivalTimeStamp\",\"Time_diff\",\"YearMonthDay\",\"HourlyHr\",\"HourlyMin\",\"SkyConditions\",\"ScheduledArrTimeStamp\",\"hourlyTimeStamp\",\"TimeZone\",'Hr','Time_y','Time_x','WindDirection'], axis = 1)"
   ]
  },
  {
   "cell_type": "code",
   "execution_count": 89,
   "metadata": {},
   "outputs": [
    {
     "data": {
      "text/html": [
       "<div>\n",
       "<style scoped>\n",
       "    .dataframe tbody tr th:only-of-type {\n",
       "        vertical-align: middle;\n",
       "    }\n",
       "\n",
       "    .dataframe tbody tr th {\n",
       "        vertical-align: top;\n",
       "    }\n",
       "\n",
       "    .dataframe thead th {\n",
       "        text-align: right;\n",
       "    }\n",
       "</style>\n",
       "<table border=\"1\" class=\"dataframe\">\n",
       "  <thead>\n",
       "    <tr style=\"text-align: right;\">\n",
       "      <th></th>\n",
       "      <th>Distance</th>\n",
       "      <th>GroundHeight</th>\n",
       "      <th>StationHeight</th>\n",
       "      <th>BarometerHeight</th>\n",
       "      <th>Latitude</th>\n",
       "      <th>Longitude</th>\n",
       "      <th>Visibility</th>\n",
       "      <th>DBT</th>\n",
       "      <th>DewPointTemp</th>\n",
       "      <th>RelativeHumidityPercent</th>\n",
       "      <th>WindSpeed</th>\n",
       "      <th>WindGustValue</th>\n",
       "      <th>StationPressure</th>\n",
       "      <th>HourlyPrecip</th>\n",
       "      <th>LayerHt</th>\n",
       "    </tr>\n",
       "  </thead>\n",
       "  <tbody>\n",
       "    <tr>\n",
       "      <th>count</th>\n",
       "      <td>7861.000000</td>\n",
       "      <td>7861.000000</td>\n",
       "      <td>7861.000000</td>\n",
       "      <td>7861.000000</td>\n",
       "      <td>7861.000000</td>\n",
       "      <td>7861.000000</td>\n",
       "      <td>7861.000000</td>\n",
       "      <td>7861.000000</td>\n",
       "      <td>7861.000000</td>\n",
       "      <td>7861.000000</td>\n",
       "      <td>7861.000000</td>\n",
       "      <td>7861.000000</td>\n",
       "      <td>7861.000000</td>\n",
       "      <td>7861.000000</td>\n",
       "      <td>7861.000000</td>\n",
       "    </tr>\n",
       "    <tr>\n",
       "      <th>mean</th>\n",
       "      <td>743.764025</td>\n",
       "      <td>834.865920</td>\n",
       "      <td>843.882076</td>\n",
       "      <td>840.098461</td>\n",
       "      <td>36.687598</td>\n",
       "      <td>-92.156701</td>\n",
       "      <td>9.054168</td>\n",
       "      <td>68.984910</td>\n",
       "      <td>52.770622</td>\n",
       "      <td>61.124821</td>\n",
       "      <td>8.265615</td>\n",
       "      <td>2.750547</td>\n",
       "      <td>29.148807</td>\n",
       "      <td>0.008043</td>\n",
       "      <td>119.286096</td>\n",
       "    </tr>\n",
       "    <tr>\n",
       "      <th>std</th>\n",
       "      <td>522.629372</td>\n",
       "      <td>1202.390869</td>\n",
       "      <td>1212.530498</td>\n",
       "      <td>1199.485756</td>\n",
       "      <td>5.290329</td>\n",
       "      <td>16.075175</td>\n",
       "      <td>2.168905</td>\n",
       "      <td>14.875156</td>\n",
       "      <td>15.084919</td>\n",
       "      <td>21.010682</td>\n",
       "      <td>4.623749</td>\n",
       "      <td>7.360462</td>\n",
       "      <td>1.219157</td>\n",
       "      <td>0.055255</td>\n",
       "      <td>101.723647</td>\n",
       "    </tr>\n",
       "    <tr>\n",
       "      <th>min</th>\n",
       "      <td>69.000000</td>\n",
       "      <td>0.000000</td>\n",
       "      <td>0.000000</td>\n",
       "      <td>0.000000</td>\n",
       "      <td>18.200000</td>\n",
       "      <td>-162.360000</td>\n",
       "      <td>0.000000</td>\n",
       "      <td>-21.000000</td>\n",
       "      <td>-27.000000</td>\n",
       "      <td>4.000000</td>\n",
       "      <td>0.000000</td>\n",
       "      <td>0.000000</td>\n",
       "      <td>23.690000</td>\n",
       "      <td>0.000000</td>\n",
       "      <td>0.000000</td>\n",
       "    </tr>\n",
       "    <tr>\n",
       "      <th>25%</th>\n",
       "      <td>368.000000</td>\n",
       "      <td>87.000000</td>\n",
       "      <td>65.000000</td>\n",
       "      <td>98.000000</td>\n",
       "      <td>33.380000</td>\n",
       "      <td>-100.290000</td>\n",
       "      <td>10.000000</td>\n",
       "      <td>60.000000</td>\n",
       "      <td>43.000000</td>\n",
       "      <td>47.000000</td>\n",
       "      <td>5.000000</td>\n",
       "      <td>0.000000</td>\n",
       "      <td>29.050000</td>\n",
       "      <td>0.000000</td>\n",
       "      <td>25.000000</td>\n",
       "    </tr>\n",
       "    <tr>\n",
       "      <th>50%</th>\n",
       "      <td>595.000000</td>\n",
       "      <td>559.000000</td>\n",
       "      <td>596.000000</td>\n",
       "      <td>562.000000</td>\n",
       "      <td>37.370000</td>\n",
       "      <td>-87.450000</td>\n",
       "      <td>10.000000</td>\n",
       "      <td>71.000000</td>\n",
       "      <td>56.000000</td>\n",
       "      <td>61.124821</td>\n",
       "      <td>8.000000</td>\n",
       "      <td>0.000000</td>\n",
       "      <td>29.420000</td>\n",
       "      <td>0.000000</td>\n",
       "      <td>90.000000</td>\n",
       "    </tr>\n",
       "    <tr>\n",
       "      <th>75%</th>\n",
       "      <td>951.000000</td>\n",
       "      <td>901.000000</td>\n",
       "      <td>899.000000</td>\n",
       "      <td>904.000000</td>\n",
       "      <td>40.470000</td>\n",
       "      <td>-81.040000</td>\n",
       "      <td>10.000000</td>\n",
       "      <td>80.000000</td>\n",
       "      <td>65.000000</td>\n",
       "      <td>77.000000</td>\n",
       "      <td>11.000000</td>\n",
       "      <td>0.000000</td>\n",
       "      <td>29.860000</td>\n",
       "      <td>0.000000</td>\n",
       "      <td>250.000000</td>\n",
       "    </tr>\n",
       "    <tr>\n",
       "      <th>max</th>\n",
       "      <td>4962.000000</td>\n",
       "      <td>6180.000000</td>\n",
       "      <td>6535.000000</td>\n",
       "      <td>6183.000000</td>\n",
       "      <td>71.170000</td>\n",
       "      <td>-64.580000</td>\n",
       "      <td>10.000000</td>\n",
       "      <td>108.000000</td>\n",
       "      <td>79.000000</td>\n",
       "      <td>100.000000</td>\n",
       "      <td>34.000000</td>\n",
       "      <td>50.000000</td>\n",
       "      <td>30.850000</td>\n",
       "      <td>1.780000</td>\n",
       "      <td>601.000000</td>\n",
       "    </tr>\n",
       "  </tbody>\n",
       "</table>\n",
       "</div>"
      ],
      "text/plain": [
       "          Distance  GroundHeight  StationHeight  BarometerHeight     Latitude  \\\n",
       "count  7861.000000   7861.000000    7861.000000      7861.000000  7861.000000   \n",
       "mean    743.764025    834.865920     843.882076       840.098461    36.687598   \n",
       "std     522.629372   1202.390869    1212.530498      1199.485756     5.290329   \n",
       "min      69.000000      0.000000       0.000000         0.000000    18.200000   \n",
       "25%     368.000000     87.000000      65.000000        98.000000    33.380000   \n",
       "50%     595.000000    559.000000     596.000000       562.000000    37.370000   \n",
       "75%     951.000000    901.000000     899.000000       904.000000    40.470000   \n",
       "max    4962.000000   6180.000000    6535.000000      6183.000000    71.170000   \n",
       "\n",
       "         Longitude   Visibility          DBT  DewPointTemp  \\\n",
       "count  7861.000000  7861.000000  7861.000000   7861.000000   \n",
       "mean    -92.156701     9.054168    68.984910     52.770622   \n",
       "std      16.075175     2.168905    14.875156     15.084919   \n",
       "min    -162.360000     0.000000   -21.000000    -27.000000   \n",
       "25%    -100.290000    10.000000    60.000000     43.000000   \n",
       "50%     -87.450000    10.000000    71.000000     56.000000   \n",
       "75%     -81.040000    10.000000    80.000000     65.000000   \n",
       "max     -64.580000    10.000000   108.000000     79.000000   \n",
       "\n",
       "       RelativeHumidityPercent    WindSpeed  WindGustValue  StationPressure  \\\n",
       "count              7861.000000  7861.000000    7861.000000      7861.000000   \n",
       "mean                 61.124821     8.265615       2.750547        29.148807   \n",
       "std                  21.010682     4.623749       7.360462         1.219157   \n",
       "min                   4.000000     0.000000       0.000000        23.690000   \n",
       "25%                  47.000000     5.000000       0.000000        29.050000   \n",
       "50%                  61.124821     8.000000       0.000000        29.420000   \n",
       "75%                  77.000000    11.000000       0.000000        29.860000   \n",
       "max                 100.000000    34.000000      50.000000        30.850000   \n",
       "\n",
       "       HourlyPrecip      LayerHt  \n",
       "count   7861.000000  7861.000000  \n",
       "mean       0.008043   119.286096  \n",
       "std        0.055255   101.723647  \n",
       "min        0.000000     0.000000  \n",
       "25%        0.000000    25.000000  \n",
       "50%        0.000000    90.000000  \n",
       "75%        0.000000   250.000000  \n",
       "max        1.780000   601.000000  "
      ]
     },
     "execution_count": 89,
     "metadata": {},
     "output_type": "execute_result"
    }
   ],
   "source": [
    "DataV4.describe()"
   ]
  },
  {
   "cell_type": "markdown",
   "metadata": {},
   "source": [
    "### Performing the same preprocessing on Test data as Train Data"
   ]
  },
  {
   "cell_type": "code",
   "execution_count": 46,
   "metadata": {},
   "outputs": [
    {
     "name": "stdout",
     "output_type": "stream",
     "text": [
      "(6566, 11)\n",
      "(5031729, 12)\n",
      "(4410021, 4)\n"
     ]
    }
   ],
   "source": [
    "os.chdir(\"\")\n",
    "test = pd.read_csv(\"FlightDelay_Test.csv\")\n",
    "print(test.shape)\n",
    "\n",
    "os.chdir(\"\")\n",
    "Thourly3 = pd.read_csv('200503hourly.txt',sep = \",\",encoding = 'unicode_escape')\n",
    "Thpd3 = pd.read_csv('200503hpd.txt',sep = \",\",encoding = 'unicode_escape')\n",
    "Thourly7 = pd.read_csv('200507hourly.txt',sep = \",\",encoding = 'unicode_escape')\n",
    "Thpd7 = pd.read_csv('200507hpd.txt',sep = \",\",encoding = 'unicode_escape')\n",
    "Thourly9 = pd.read_csv('200509hourly.txt',sep = \",\",encoding = 'unicode_escape')\n",
    "Thpd9 = pd.read_csv('200509hpd.txt',sep = \",\",encoding = 'unicode_escape')\n",
    "Thourly11 = pd.read_csv('200511hourly.txt',sep = \",\",encoding = 'unicode_escape')\n",
    "Thpd11 = pd.read_csv('200511hpd.txt',sep = \",\",encoding = 'unicode_escape')\n",
    "\n",
    "Thourly = [Thourly3,Thourly7,Thourly9,Thourly11]\n",
    "Thpd = [Thpd3,Thpd7,Thpd9,Thpd11]\n",
    "\n",
    "hourlyTestData = pd.concat(Thourly)\n",
    "print(hourlyTestData.shape)\n",
    "hpdTestData = pd.concat(Thpd)\n",
    "print(hpdTestData.shape)\n",
    "\n",
    "hourlyTestData = hourlyTestData.reset_index(drop =True)\n",
    "hpdTestData = hpdTestData.reset_index(drop =True)"
   ]
  },
  {
   "cell_type": "code",
   "execution_count": 47,
   "metadata": {},
   "outputs": [],
   "source": [
    "test.ScheduledArrTime = test.ScheduledArrTime.astype(\"str\")\n",
    "test.ScheduledArrTime = test.ScheduledArrTime.str.zfill(4)\n",
    "test['ScheduledArrHr'] = test['ScheduledArrTime'].str[:2]\n",
    "test['ScheduledArrMin'] = test['ScheduledArrTime'].str[-2:]\n",
    "test.ScheduledArrHr = test.ScheduledArrHr.astype(\"int64\")\n",
    "test.ScheduledArrMin = test.ScheduledArrMin.astype(\"int64\")"
   ]
  },
  {
   "cell_type": "code",
   "execution_count": 48,
   "metadata": {},
   "outputs": [],
   "source": [
    "TestV0 = pd.merge(test, StationsData, how='left', left_on=['Destination'], right_on=['AirportID'])\n",
    "TestV0 = TestV0.drop([\"AirportID\"], axis = 1)"
   ]
  },
  {
   "cell_type": "code",
   "execution_count": 49,
   "metadata": {},
   "outputs": [],
   "source": [
    "TestV0['ScheduledArrTimeStamp'] = pd.to_datetime(TestV0[['Year', 'Month', 'DayofMonth','ScheduledArrHr','ScheduledArrMin']].rename(columns={'Year': 'year', 'Month':'month', 'DayofMonth': 'day','ScheduledArrHr': 'hour', 'ScheduledArrMin': 'minute'}))\n",
    "TestV0['YearMonthDay'] = TestV0.ScheduledArrTimeStamp.dt.date\n",
    "TestV0['YearMonthDay'] = TestV0['YearMonthDay'].astype(str)\n",
    "TestV0['YearMonthDay'] = TestV0['YearMonthDay'].str.replace(\"-\",\"\")\n",
    "TestV0['YearMonthDay'] = TestV0.YearMonthDay.astype(\"int64\")"
   ]
  },
  {
   "cell_type": "code",
   "execution_count": 50,
   "metadata": {},
   "outputs": [],
   "source": [
    "hourlyTestData.Time = hourlyTestData.Time.astype(\"str\")\n",
    "hourlyTestData['Time'] = hourlyTestData['Time'].str.zfill(4)\n",
    "hourlyTestData['HourlyHr'] = hourlyTestData['Time'].str[:2]\n",
    "hourlyTestData['HourlyMin'] = hourlyTestData['Time'].str[-2:]\n",
    "hourlyTestData['Time'] = hourlyTestData.HourlyHr + \":\" + hourlyTestData.HourlyMin\n",
    "hourlyTestData.HourlyHr = hourlyTestData.HourlyHr.astype(\"int64\")\n",
    "hourlyTestData.HourlyMin = hourlyTestData.HourlyMin.astype(\"int64\")"
   ]
  },
  {
   "cell_type": "code",
   "execution_count": 51,
   "metadata": {},
   "outputs": [],
   "source": [
    "TestV1 =pd.merge( TestV0, hourlyTestData, how='left', left_on=['WeatherStationID','YearMonthDay','ScheduledArrHr'], right_on=['WeatherStationID','YearMonthDay','HourlyHr'])"
   ]
  },
  {
   "cell_type": "code",
   "execution_count": 52,
   "metadata": {},
   "outputs": [],
   "source": [
    "hpdTestData.Time = hpdTestData.Time.astype(\"str\")\n",
    "hpdTestData['Time'] = hpdTestData['Time'].str.zfill(4)\n",
    "hpdTestData['Hr'] = hpdTestData['Time'].str[:2]\n",
    "hpdTestData.Hr = hpdTestData.Hr.astype(\"int64\")"
   ]
  },
  {
   "cell_type": "code",
   "execution_count": 53,
   "metadata": {},
   "outputs": [],
   "source": [
    "TestV2 = pd.merge( TestV1, hpdTestData, how='left', left_on=['WeatherStationID','YearMonthDay','ScheduledArrHr'], right_on=['WeatherStationID','YearMonthDay','Hr'])"
   ]
  },
  {
   "cell_type": "code",
   "execution_count": 54,
   "metadata": {},
   "outputs": [
    {
     "data": {
      "text/plain": [
       "(7642, 37)"
      ]
     },
     "execution_count": 54,
     "metadata": {},
     "output_type": "execute_result"
    }
   ],
   "source": [
    "TestV2.shape"
   ]
  },
  {
   "cell_type": "code",
   "execution_count": 55,
   "metadata": {},
   "outputs": [],
   "source": [
    "TestV2['HourlyHr'].fillna(value=TestV2['HourlyHr'].mean(),inplace =True)\n",
    "TestV2['HourlyMin'].fillna(value=TestV2['HourlyMin'].mean(),inplace =True)\n",
    "TestV2['hourlyTimeStamp'] = pd.to_datetime(TestV2[['Year', 'Month', 'DayofMonth','HourlyHr','HourlyMin']].rename(columns={'Year': 'year', 'Month':'month', 'DayofMonth': 'day', 'HourlyHr': 'hour', 'HourlyMin': 'minute'}))"
   ]
  },
  {
   "cell_type": "code",
   "execution_count": 56,
   "metadata": {},
   "outputs": [],
   "source": [
    "TestV3 = TestV2.iloc[0:0]\n",
    "temp = TestV2.iloc[0:0]\n",
    "for i in range(0,6566):\n",
    "    if TestV2.FlightNumber.value_counts()[i] > 1:\n",
    "        temp = TestV2[TestV2['FlightNumber'] == TestV2.FlightNumber.value_counts().index[i]]\n",
    "        s = np.argmin(temp.ScheduledArrTimeStamp - temp.hourlyTimeStamp)\n",
    "        TestV3 = TestV3.append(TestV2.loc[[s]])\n",
    "    else:\n",
    "        TestV3 = TestV3.append(TestV2[TestV2['FlightNumber'] == TestV2.FlightNumber.value_counts().index[i]])"
   ]
  },
  {
   "cell_type": "code",
   "execution_count": 57,
   "metadata": {},
   "outputs": [
    {
     "name": "stdout",
     "output_type": "stream",
     "text": [
      "(6566, 38)\n",
      "6566\n"
     ]
    },
    {
     "data": {
      "text/html": [
       "<div>\n",
       "<style scoped>\n",
       "    .dataframe tbody tr th:only-of-type {\n",
       "        vertical-align: middle;\n",
       "    }\n",
       "\n",
       "    .dataframe tbody tr th {\n",
       "        vertical-align: top;\n",
       "    }\n",
       "\n",
       "    .dataframe thead th {\n",
       "        text-align: right;\n",
       "    }\n",
       "</style>\n",
       "<table border=\"1\" class=\"dataframe\">\n",
       "  <thead>\n",
       "    <tr style=\"text-align: right;\">\n",
       "      <th></th>\n",
       "      <th>FlightNumber</th>\n",
       "      <th>Year</th>\n",
       "      <th>Month</th>\n",
       "      <th>DayofMonth</th>\n",
       "      <th>DayOfWeek</th>\n",
       "      <th>ScheduledDepTime</th>\n",
       "      <th>ScheduledArrTime</th>\n",
       "      <th>ScheduledTravelTime</th>\n",
       "      <th>Origin</th>\n",
       "      <th>Destination</th>\n",
       "      <th>...</th>\n",
       "      <th>WindSpeed</th>\n",
       "      <th>WindDirection</th>\n",
       "      <th>WindGustValue</th>\n",
       "      <th>StationPressure</th>\n",
       "      <th>HourlyHr</th>\n",
       "      <th>HourlyMin</th>\n",
       "      <th>Time_y</th>\n",
       "      <th>HourlyPrecip</th>\n",
       "      <th>Hr</th>\n",
       "      <th>hourlyTimeStamp</th>\n",
       "    </tr>\n",
       "  </thead>\n",
       "  <tbody>\n",
       "    <tr>\n",
       "      <th>3901</th>\n",
       "      <td>PHX_IAD_63923</td>\n",
       "      <td>2005</td>\n",
       "      <td>3</td>\n",
       "      <td>28</td>\n",
       "      <td>1</td>\n",
       "      <td>1002</td>\n",
       "      <td>1620</td>\n",
       "      <td>258</td>\n",
       "      <td>PHX</td>\n",
       "      <td>IAD</td>\n",
       "      <td>...</td>\n",
       "      <td>0</td>\n",
       "      <td>000</td>\n",
       "      <td>0.0</td>\n",
       "      <td>28.97</td>\n",
       "      <td>16.0</td>\n",
       "      <td>51.0</td>\n",
       "      <td>1651</td>\n",
       "      <td>0.16</td>\n",
       "      <td>16.0</td>\n",
       "      <td>2005-03-28 16:51:00</td>\n",
       "    </tr>\n",
       "    <tr>\n",
       "      <th>5358</th>\n",
       "      <td>DEN_MTJ_84048</td>\n",
       "      <td>2005</td>\n",
       "      <td>3</td>\n",
       "      <td>29</td>\n",
       "      <td>2</td>\n",
       "      <td>853</td>\n",
       "      <td>0959</td>\n",
       "      <td>66</td>\n",
       "      <td>DEN</td>\n",
       "      <td>MTJ</td>\n",
       "      <td>...</td>\n",
       "      <td>9</td>\n",
       "      <td>260</td>\n",
       "      <td>0.0</td>\n",
       "      <td>NaN</td>\n",
       "      <td>9.0</td>\n",
       "      <td>57.0</td>\n",
       "      <td>0953</td>\n",
       "      <td>NaN</td>\n",
       "      <td>9.0</td>\n",
       "      <td>2005-03-29 09:57:00</td>\n",
       "    </tr>\n",
       "    <tr>\n",
       "      <th>2421</th>\n",
       "      <td>IAD_ATL_81047</td>\n",
       "      <td>2005</td>\n",
       "      <td>7</td>\n",
       "      <td>6</td>\n",
       "      <td>3</td>\n",
       "      <td>1735</td>\n",
       "      <td>1938</td>\n",
       "      <td>123</td>\n",
       "      <td>IAD</td>\n",
       "      <td>ATL</td>\n",
       "      <td>...</td>\n",
       "      <td>14</td>\n",
       "      <td>060</td>\n",
       "      <td>23.0</td>\n",
       "      <td>NaN</td>\n",
       "      <td>19.0</td>\n",
       "      <td>57.0</td>\n",
       "      <td>1951</td>\n",
       "      <td>3.58</td>\n",
       "      <td>19.0</td>\n",
       "      <td>2005-07-06 19:57:00</td>\n",
       "    </tr>\n",
       "    <tr>\n",
       "      <th>1710</th>\n",
       "      <td>BDL_ATL_59903</td>\n",
       "      <td>2005</td>\n",
       "      <td>3</td>\n",
       "      <td>22</td>\n",
       "      <td>2</td>\n",
       "      <td>1147</td>\n",
       "      <td>1425</td>\n",
       "      <td>158</td>\n",
       "      <td>BDL</td>\n",
       "      <td>ATL</td>\n",
       "      <td>...</td>\n",
       "      <td>13</td>\n",
       "      <td>030</td>\n",
       "      <td>0.0</td>\n",
       "      <td>NaN</td>\n",
       "      <td>14.0</td>\n",
       "      <td>58.0</td>\n",
       "      <td>1451</td>\n",
       "      <td>0.43</td>\n",
       "      <td>14.0</td>\n",
       "      <td>2005-03-22 14:58:00</td>\n",
       "    </tr>\n",
       "    <tr>\n",
       "      <th>429</th>\n",
       "      <td>PHL_MCO_80370</td>\n",
       "      <td>2005</td>\n",
       "      <td>3</td>\n",
       "      <td>25</td>\n",
       "      <td>5</td>\n",
       "      <td>1505</td>\n",
       "      <td>1740</td>\n",
       "      <td>155</td>\n",
       "      <td>PHL</td>\n",
       "      <td>MCO</td>\n",
       "      <td>...</td>\n",
       "      <td>10</td>\n",
       "      <td>320</td>\n",
       "      <td>0.0</td>\n",
       "      <td>29.83</td>\n",
       "      <td>17.0</td>\n",
       "      <td>53.0</td>\n",
       "      <td>1753</td>\n",
       "      <td>1.05</td>\n",
       "      <td>17.0</td>\n",
       "      <td>2005-03-25 17:53:00</td>\n",
       "    </tr>\n",
       "  </tbody>\n",
       "</table>\n",
       "<p>5 rows × 38 columns</p>\n",
       "</div>"
      ],
      "text/plain": [
       "       FlightNumber  Year  Month  DayofMonth  DayOfWeek  ScheduledDepTime  \\\n",
       "3901  PHX_IAD_63923  2005      3          28          1              1002   \n",
       "5358  DEN_MTJ_84048  2005      3          29          2               853   \n",
       "2421  IAD_ATL_81047  2005      7           6          3              1735   \n",
       "1710  BDL_ATL_59903  2005      3          22          2              1147   \n",
       "429   PHL_MCO_80370  2005      3          25          5              1505   \n",
       "\n",
       "     ScheduledArrTime  ScheduledTravelTime Origin Destination  \\\n",
       "3901             1620                  258    PHX         IAD   \n",
       "5358             0959                   66    DEN         MTJ   \n",
       "2421             1938                  123    IAD         ATL   \n",
       "1710             1425                  158    BDL         ATL   \n",
       "429              1740                  155    PHL         MCO   \n",
       "\n",
       "             ...          WindSpeed  WindDirection  WindGustValue  \\\n",
       "3901         ...                  0            000            0.0   \n",
       "5358         ...                  9            260            0.0   \n",
       "2421         ...                 14            060           23.0   \n",
       "1710         ...                 13            030            0.0   \n",
       "429          ...                 10            320            0.0   \n",
       "\n",
       "      StationPressure  HourlyHr  HourlyMin  Time_y  HourlyPrecip    Hr  \\\n",
       "3901            28.97      16.0       51.0    1651          0.16  16.0   \n",
       "5358              NaN       9.0       57.0    0953           NaN   9.0   \n",
       "2421              NaN      19.0       57.0    1951          3.58  19.0   \n",
       "1710              NaN      14.0       58.0    1451          0.43  14.0   \n",
       "429             29.83      17.0       53.0    1753          1.05  17.0   \n",
       "\n",
       "         hourlyTimeStamp  \n",
       "3901 2005-03-28 16:51:00  \n",
       "5358 2005-03-29 09:57:00  \n",
       "2421 2005-07-06 19:57:00  \n",
       "1710 2005-03-22 14:58:00  \n",
       "429  2005-03-25 17:53:00  \n",
       "\n",
       "[5 rows x 38 columns]"
      ]
     },
     "execution_count": 57,
     "metadata": {},
     "output_type": "execute_result"
    }
   ],
   "source": [
    "print(TestV3.shape)\n",
    "print(TestV3.FlightNumber.value_counts().sum())\n",
    "TestV3.head()"
   ]
  },
  {
   "cell_type": "code",
   "execution_count": 58,
   "metadata": {},
   "outputs": [],
   "source": [
    "tes = pd.DataFrame(TestV0.FlightNumber)\n",
    "TestV4 = pd.merge( tes, TestV3, how='left', on=['FlightNumber'])"
   ]
  },
  {
   "cell_type": "code",
   "execution_count": 59,
   "metadata": {},
   "outputs": [],
   "source": [
    "TestV4['SkyConditions'].fillna(value=TestV4['SkyConditions'].value_counts().index[0],inplace =True)"
   ]
  },
  {
   "cell_type": "code",
   "execution_count": 60,
   "metadata": {},
   "outputs": [],
   "source": [
    "ta = TestV4['SkyConditions'].str.replace('\\d+', '')\n",
    "tg1 = ta.str[-3:]\n",
    "tn = TestV4['SkyConditions'].str.replace('[^0-9]', '')\n",
    "tn = tn.astype(str)\n",
    "tn = tn.str[-3:]"
   ]
  },
  {
   "cell_type": "code",
   "execution_count": 61,
   "metadata": {},
   "outputs": [],
   "source": [
    "for i in range(0,6566):\n",
    "    if(len(tn[i]) ==0):\n",
    "        tn[i]='0'"
   ]
  },
  {
   "cell_type": "code",
   "execution_count": 62,
   "metadata": {},
   "outputs": [],
   "source": [
    "TestV4['SkyCover'] = tg1\n",
    "TestV4['LayerHt'] = tn"
   ]
  },
  {
   "cell_type": "code",
   "execution_count": 63,
   "metadata": {},
   "outputs": [],
   "source": [
    "tcu = TestV4[TestV4.SkyCover == 'TCU'].SkyConditions.str.replace('\\d+', '').str[:3]\n",
    "for i in (tcu.index):\n",
    "    if TestV4.SkyCover[i] == 'TCU' :\n",
    "        TestV4.SkyCover[i] = tcu[i]\n",
    "CCB = TestV4[TestV4.SkyCover == 'CCB'].SkyConditions.str.replace('\\d+', '').str[:3]\n",
    "for i in (CCB.index):\n",
    "    if TestV4.SkyCover[i] == 'CCB' :\n",
    "        TestV4.SkyCover[i] = CCB[i]\n",
    "BK = TestV4[TestV4.SkyCover == ' BK'].SkyConditions.str.replace('\\d+', '')\n",
    "for i in (BK.index):\n",
    "    if TestV4.SkyCover[i] == ' BK' :\n",
    "        TestV4.SkyCover[i] = 'BKN'\n",
    "Ov = TestV4[TestV4.SkyCover == ' OV'].SkyConditions.str.replace('\\d+', '')\n",
    "for i in (Ov.index):\n",
    "    if TestV4.SkyCover[i] == ' OV' :\n",
    "        TestV4.SkyCover[i] = 'BKN'\n",
    "NCb = TestV4[TestV4.SkyCover == 'NCB'].SkyConditions.str.replace('\\d+', '')\n",
    "for i in (NCb.index):\n",
    "    if TestV4.SkyCover[i] == 'NCB' :\n",
    "        TestV4.SkyCover[i] = 'BKN'\n",
    "WCb = TestV4[TestV4.SkyCover == 'WCB'].SkyConditions.str.replace('\\d+', '').str[:3]\n",
    "for i in (WCb.index):\n",
    "    if TestV4.SkyCover[i] == 'WCB' :\n",
    "        TestV4.SkyCover[i] = WCb[i]\n",
    "TCb = TestV4[TestV4.SkyCover == 'TCB'].SkyConditions.str.replace('\\d+', '').str[:3]\n",
    "for i in (TCb.index):\n",
    "    if TestV4.SkyCover[i] == 'TCB' :\n",
    "        TestV4.SkyCover[i] = TCb[i]\n",
    "Vv = TestV4[TestV4.SkyCover == 'VV'].SkyConditions.str.replace('\\d+', '').str[:3]\n",
    "for i in (Vv.index):\n",
    "    if TestV4.SkyCover[i] == 'VV' :\n",
    "        TestV4.SkyCover[i] = 'FEW'"
   ]
  },
  {
   "cell_type": "code",
   "execution_count": 64,
   "metadata": {
    "scrolled": true
   },
   "outputs": [
    {
     "data": {
      "text/plain": [
       "BKN    1725\n",
       "OVC    1497\n",
       "SCT    1305\n",
       "CLR    1024\n",
       "FEW    1015\n",
       "Name: SkyCover, dtype: int64"
      ]
     },
     "execution_count": 64,
     "metadata": {},
     "output_type": "execute_result"
    }
   ],
   "source": [
    "TestV4.SkyCover.value_counts()"
   ]
  },
  {
   "cell_type": "code",
   "execution_count": 65,
   "metadata": {},
   "outputs": [],
   "source": [
    "TestV4.WindDirection = TestV4.WindDirection.astype(str)\n",
    "TestV4.WindDirection = TestV4['WindDirection'].str.replace(\"VRB\",\"000\")\n",
    "TestV4['WindDirection'].fillna(value=TestV4['WindDirection'].value_counts().index[0],inplace =True)\n",
    "TestV4['WindDirection'] = TestV4['WindDirection'].str.replace(\"nan\",\"000\")\n",
    "TestV4['WindDirection'] = TestV4['WindDirection'].astype('int64')"
   ]
  },
  {
   "cell_type": "code",
   "execution_count": 66,
   "metadata": {},
   "outputs": [],
   "source": [
    "TestV4['WindCompDir'] = ''\n",
    "for i in range(0, len(TestV4)):\n",
    "    num = TestV4.WindDirection[i]\n",
    "    val=int((num/22.5)+.5)\n",
    "    TestV4['WindCompDir'][i] = arr[(val % 16)]"
   ]
  },
  {
   "cell_type": "code",
   "execution_count": 67,
   "metadata": {},
   "outputs": [
    {
     "name": "stdout",
     "output_type": "stream",
     "text": [
      "(6566, 41)\n"
     ]
    },
    {
     "data": {
      "text/plain": [
       "Time_x                      11\n",
       "Visibility                  12\n",
       "DBT                         74\n",
       "DewPointTemp                74\n",
       "RelativeHumidityPercent     76\n",
       "WindSpeed                   13\n",
       "WindGustValue               13\n",
       "StationPressure             65\n",
       "Time_y                       7\n",
       "HourlyPrecip               389\n",
       "Hr                           7\n",
       "dtype: int64"
      ]
     },
     "execution_count": 67,
     "metadata": {},
     "output_type": "execute_result"
    }
   ],
   "source": [
    "print(TestV4.shape)\n",
    "nul = TestV4.isnull().sum()\n",
    "nul[nul>0]"
   ]
  },
  {
   "cell_type": "code",
   "execution_count": 68,
   "metadata": {},
   "outputs": [],
   "source": [
    "TestV4.Visibility = TestV4.Visibility.astype(str)\n",
    "TestV4.Visibility = TestV4.Visibility.str.replace(\"SM\", \"\")"
   ]
  },
  {
   "cell_type": "code",
   "execution_count": 69,
   "metadata": {},
   "outputs": [],
   "source": [
    "TestV4['WindSpeed'].fillna(value=TestV4['WindSpeed'].value_counts().index[0],inplace =True)\n",
    "TestV4['WindDirection'].fillna(value=TestV4['WindDirection'].value_counts().index[0],inplace =True)\n",
    "TestV4['DBT'].fillna(value=TestV4['DBT'].mean(),inplace =True)\n",
    "TestV4['Visibility'].fillna(value=TestV4['Visibility'].value_counts().index[0],inplace =True)\n",
    "TestV4['DewPointTemp'].fillna(value=TestV4['DewPointTemp'].mean(),inplace =True)\n",
    "TestV4['RelativeHumidityPercent'].fillna(value=TestV4['RelativeHumidityPercent'].mean(),inplace =True)\n",
    "TestV4['WindGustValue'].fillna(value=TestV4['WindGustValue'].mean(),inplace =True)\n",
    "TestV4['StationPressure'].fillna(value=TestV4['StationPressure'].mean(),inplace =True)\n",
    "TestV4['HourlyPrecip'].fillna(value=TestV4['HourlyPrecip'].mean(),inplace =True)\n",
    "TestV4[\"DayOfWeek\"] = TestV4[\"DayOfWeek\"].astype('category')\n",
    "TestV4['WindSpeed'] = TestV4['WindSpeed'].astype('int64')\n",
    "TestV4['Visibility'] = TestV4['Visibility'].astype('float64')\n",
    "TestV4[\"SkyConditions\"] = TestV4[\"SkyConditions\"].astype('category')\n",
    "TestV4[\"TimeZone\"] = TestV4[\"TimeZone\"].astype('category')\n",
    "TestV4[\"SkyCover\"] =TestV4[\"SkyCover\"].astype('category')\n",
    "TestV4[\"LayerHt\"] = TestV4['LayerHt'].astype('int64')\n",
    "TestV4['Visibility'].fillna(value=TestV4['Visibility'].value_counts().index[0],inplace =True)"
   ]
  },
  {
   "cell_type": "code",
   "execution_count": 70,
   "metadata": {},
   "outputs": [],
   "source": [
    "TestV5 = TestV4.drop([\"FlightNumber\",\"Year\",\"Month\",\"DayofMonth\",'ScheduledTravelTime',\"ScheduledArrHr\",\"ScheduledArrMin\",\"ScheduledDepTime\",\"ScheduledArrTime\",\"Origin\",\"Destination\",\"WeatherStationID\",\"YearMonthDay\",\"HourlyHr\",\"HourlyMin\",\"SkyConditions\",\"ScheduledArrTimeStamp\",\"hourlyTimeStamp\",\"Time_x\",\"Time_y\",\"Hr\",\"TimeZone\",'WindDirection'], axis = 1)"
   ]
  },
  {
   "cell_type": "code",
   "execution_count": 71,
   "metadata": {},
   "outputs": [
    {
     "data": {
      "text/plain": [
       "DayOfWeek                  0\n",
       "Distance                   0\n",
       "GroundHeight               0\n",
       "StationHeight              0\n",
       "BarometerHeight            0\n",
       "Latitude                   0\n",
       "Longitude                  0\n",
       "Visibility                 0\n",
       "DBT                        0\n",
       "DewPointTemp               0\n",
       "RelativeHumidityPercent    0\n",
       "WindSpeed                  0\n",
       "WindGustValue              0\n",
       "StationPressure            0\n",
       "HourlyPrecip               0\n",
       "SkyCover                   0\n",
       "LayerHt                    0\n",
       "WindCompDir                0\n",
       "dtype: int64"
      ]
     },
     "execution_count": 71,
     "metadata": {},
     "output_type": "execute_result"
    }
   ],
   "source": [
    "TestV5.isnull().sum()"
   ]
  },
  {
   "cell_type": "code",
   "execution_count": 72,
   "metadata": {},
   "outputs": [
    {
     "data": {
      "text/plain": [
       "(7861, 19)"
      ]
     },
     "execution_count": 72,
     "metadata": {},
     "output_type": "execute_result"
    }
   ],
   "source": [
    "DataV4.shape"
   ]
  },
  {
   "cell_type": "code",
   "execution_count": 73,
   "metadata": {},
   "outputs": [
    {
     "data": {
      "text/plain": [
       "(6566, 18)"
      ]
     },
     "execution_count": 73,
     "metadata": {},
     "output_type": "execute_result"
    }
   ],
   "source": [
    "TestV5.shape"
   ]
  },
  {
   "cell_type": "markdown",
   "metadata": {},
   "source": [
    "#### Creating dummies for model building"
   ]
  },
  {
   "cell_type": "code",
   "execution_count": 74,
   "metadata": {},
   "outputs": [],
   "source": [
    "X = DataV4.drop('FlightDelayStatus', axis = 1)\n",
    "Y = DataV4['FlightDelayStatus']"
   ]
  },
  {
   "cell_type": "code",
   "execution_count": 75,
   "metadata": {},
   "outputs": [
    {
     "data": {
      "text/html": [
       "<div>\n",
       "<style scoped>\n",
       "    .dataframe tbody tr th:only-of-type {\n",
       "        vertical-align: middle;\n",
       "    }\n",
       "\n",
       "    .dataframe tbody tr th {\n",
       "        vertical-align: top;\n",
       "    }\n",
       "\n",
       "    .dataframe thead th {\n",
       "        text-align: right;\n",
       "    }\n",
       "</style>\n",
       "<table border=\"1\" class=\"dataframe\">\n",
       "  <thead>\n",
       "    <tr style=\"text-align: right;\">\n",
       "      <th></th>\n",
       "      <th>Distance</th>\n",
       "      <th>GroundHeight</th>\n",
       "      <th>StationHeight</th>\n",
       "      <th>BarometerHeight</th>\n",
       "      <th>Latitude</th>\n",
       "      <th>Longitude</th>\n",
       "      <th>Visibility</th>\n",
       "      <th>DBT</th>\n",
       "      <th>DewPointTemp</th>\n",
       "      <th>RelativeHumidityPercent</th>\n",
       "      <th>...</th>\n",
       "      <th>WindCompDir_NNW</th>\n",
       "      <th>WindCompDir_NW</th>\n",
       "      <th>WindCompDir_S</th>\n",
       "      <th>WindCompDir_SE</th>\n",
       "      <th>WindCompDir_SSE</th>\n",
       "      <th>WindCompDir_SSW</th>\n",
       "      <th>WindCompDir_SW</th>\n",
       "      <th>WindCompDir_W</th>\n",
       "      <th>WindCompDir_WNW</th>\n",
       "      <th>WindCompDir_WSW</th>\n",
       "    </tr>\n",
       "  </thead>\n",
       "  <tbody>\n",
       "    <tr>\n",
       "      <th>0</th>\n",
       "      <td>303</td>\n",
       "      <td>971</td>\n",
       "      <td>1026</td>\n",
       "      <td>974</td>\n",
       "      <td>33.38</td>\n",
       "      <td>-84.26</td>\n",
       "      <td>7.0</td>\n",
       "      <td>60.0</td>\n",
       "      <td>57.0</td>\n",
       "      <td>90.0</td>\n",
       "      <td>...</td>\n",
       "      <td>0</td>\n",
       "      <td>0</td>\n",
       "      <td>0</td>\n",
       "      <td>0</td>\n",
       "      <td>0</td>\n",
       "      <td>0</td>\n",
       "      <td>0</td>\n",
       "      <td>0</td>\n",
       "      <td>1</td>\n",
       "      <td>0</td>\n",
       "    </tr>\n",
       "    <tr>\n",
       "      <th>1</th>\n",
       "      <td>269</td>\n",
       "      <td>0</td>\n",
       "      <td>0</td>\n",
       "      <td>0</td>\n",
       "      <td>37.05</td>\n",
       "      <td>-113.35</td>\n",
       "      <td>10.0</td>\n",
       "      <td>81.0</td>\n",
       "      <td>30.0</td>\n",
       "      <td>16.0</td>\n",
       "      <td>...</td>\n",
       "      <td>0</td>\n",
       "      <td>0</td>\n",
       "      <td>0</td>\n",
       "      <td>0</td>\n",
       "      <td>0</td>\n",
       "      <td>1</td>\n",
       "      <td>0</td>\n",
       "      <td>0</td>\n",
       "      <td>0</td>\n",
       "      <td>0</td>\n",
       "    </tr>\n",
       "    <tr>\n",
       "      <th>2</th>\n",
       "      <td>282</td>\n",
       "      <td>559</td>\n",
       "      <td>596</td>\n",
       "      <td>562</td>\n",
       "      <td>32.54</td>\n",
       "      <td>-97.02</td>\n",
       "      <td>9.0</td>\n",
       "      <td>73.0</td>\n",
       "      <td>71.0</td>\n",
       "      <td>94.0</td>\n",
       "      <td>...</td>\n",
       "      <td>0</td>\n",
       "      <td>0</td>\n",
       "      <td>0</td>\n",
       "      <td>0</td>\n",
       "      <td>0</td>\n",
       "      <td>0</td>\n",
       "      <td>0</td>\n",
       "      <td>0</td>\n",
       "      <td>0</td>\n",
       "      <td>0</td>\n",
       "    </tr>\n",
       "    <tr>\n",
       "      <th>3</th>\n",
       "      <td>241</td>\n",
       "      <td>0</td>\n",
       "      <td>0</td>\n",
       "      <td>0</td>\n",
       "      <td>33.27</td>\n",
       "      <td>-88.35</td>\n",
       "      <td>10.0</td>\n",
       "      <td>72.0</td>\n",
       "      <td>70.0</td>\n",
       "      <td>93.0</td>\n",
       "      <td>...</td>\n",
       "      <td>0</td>\n",
       "      <td>0</td>\n",
       "      <td>0</td>\n",
       "      <td>0</td>\n",
       "      <td>0</td>\n",
       "      <td>0</td>\n",
       "      <td>0</td>\n",
       "      <td>0</td>\n",
       "      <td>0</td>\n",
       "      <td>1</td>\n",
       "    </tr>\n",
       "    <tr>\n",
       "      <th>4</th>\n",
       "      <td>130</td>\n",
       "      <td>0</td>\n",
       "      <td>848</td>\n",
       "      <td>0</td>\n",
       "      <td>31.05</td>\n",
       "      <td>-97.41</td>\n",
       "      <td>10.0</td>\n",
       "      <td>61.0</td>\n",
       "      <td>52.0</td>\n",
       "      <td>72.0</td>\n",
       "      <td>...</td>\n",
       "      <td>1</td>\n",
       "      <td>0</td>\n",
       "      <td>0</td>\n",
       "      <td>0</td>\n",
       "      <td>0</td>\n",
       "      <td>0</td>\n",
       "      <td>0</td>\n",
       "      <td>0</td>\n",
       "      <td>0</td>\n",
       "      <td>0</td>\n",
       "    </tr>\n",
       "  </tbody>\n",
       "</table>\n",
       "<p>5 rows × 40 columns</p>\n",
       "</div>"
      ],
      "text/plain": [
       "   Distance  GroundHeight  StationHeight  BarometerHeight  Latitude  \\\n",
       "0       303           971           1026              974     33.38   \n",
       "1       269             0              0                0     37.05   \n",
       "2       282           559            596              562     32.54   \n",
       "3       241             0              0                0     33.27   \n",
       "4       130             0            848                0     31.05   \n",
       "\n",
       "   Longitude  Visibility   DBT  DewPointTemp  RelativeHumidityPercent  \\\n",
       "0     -84.26         7.0  60.0          57.0                     90.0   \n",
       "1    -113.35        10.0  81.0          30.0                     16.0   \n",
       "2     -97.02         9.0  73.0          71.0                     94.0   \n",
       "3     -88.35        10.0  72.0          70.0                     93.0   \n",
       "4     -97.41        10.0  61.0          52.0                     72.0   \n",
       "\n",
       "        ...         WindCompDir_NNW  WindCompDir_NW  WindCompDir_S  \\\n",
       "0       ...                       0               0              0   \n",
       "1       ...                       0               0              0   \n",
       "2       ...                       0               0              0   \n",
       "3       ...                       0               0              0   \n",
       "4       ...                       1               0              0   \n",
       "\n",
       "   WindCompDir_SE  WindCompDir_SSE  WindCompDir_SSW  WindCompDir_SW  \\\n",
       "0               0                0                0               0   \n",
       "1               0                0                1               0   \n",
       "2               0                0                0               0   \n",
       "3               0                0                0               0   \n",
       "4               0                0                0               0   \n",
       "\n",
       "   WindCompDir_W  WindCompDir_WNW  WindCompDir_WSW  \n",
       "0              0                1                0  \n",
       "1              0                0                0  \n",
       "2              0                0                0  \n",
       "3              0                0                1  \n",
       "4              0                0                0  \n",
       "\n",
       "[5 rows x 40 columns]"
      ]
     },
     "execution_count": 75,
     "metadata": {},
     "output_type": "execute_result"
    }
   ],
   "source": [
    "X_dum = pd.get_dummies(X, drop_first=True)\n",
    "X_dum.head()"
   ]
  },
  {
   "cell_type": "code",
   "execution_count": 76,
   "metadata": {},
   "outputs": [],
   "source": [
    "Test_dum = pd.get_dummies(TestV5, drop_first=True)"
   ]
  },
  {
   "cell_type": "code",
   "execution_count": 77,
   "metadata": {},
   "outputs": [
    {
     "data": {
      "text/html": [
       "<div>\n",
       "<style scoped>\n",
       "    .dataframe tbody tr th:only-of-type {\n",
       "        vertical-align: middle;\n",
       "    }\n",
       "\n",
       "    .dataframe tbody tr th {\n",
       "        vertical-align: top;\n",
       "    }\n",
       "\n",
       "    .dataframe thead th {\n",
       "        text-align: right;\n",
       "    }\n",
       "</style>\n",
       "<table border=\"1\" class=\"dataframe\">\n",
       "  <thead>\n",
       "    <tr style=\"text-align: right;\">\n",
       "      <th></th>\n",
       "      <th>Distance</th>\n",
       "      <th>GroundHeight</th>\n",
       "      <th>StationHeight</th>\n",
       "      <th>BarometerHeight</th>\n",
       "      <th>Latitude</th>\n",
       "      <th>Longitude</th>\n",
       "      <th>Visibility</th>\n",
       "      <th>DBT</th>\n",
       "      <th>DewPointTemp</th>\n",
       "      <th>RelativeHumidityPercent</th>\n",
       "      <th>...</th>\n",
       "      <th>WindCompDir_NNW</th>\n",
       "      <th>WindCompDir_NW</th>\n",
       "      <th>WindCompDir_S</th>\n",
       "      <th>WindCompDir_SE</th>\n",
       "      <th>WindCompDir_SSE</th>\n",
       "      <th>WindCompDir_SSW</th>\n",
       "      <th>WindCompDir_SW</th>\n",
       "      <th>WindCompDir_W</th>\n",
       "      <th>WindCompDir_WNW</th>\n",
       "      <th>WindCompDir_WSW</th>\n",
       "    </tr>\n",
       "  </thead>\n",
       "  <tbody>\n",
       "    <tr>\n",
       "      <th>0</th>\n",
       "      <td>616</td>\n",
       "      <td>1269</td>\n",
       "      <td>1319</td>\n",
       "      <td>1272</td>\n",
       "      <td>36.17</td>\n",
       "      <td>-94.19</td>\n",
       "      <td>9.0</td>\n",
       "      <td>84.0</td>\n",
       "      <td>57.0</td>\n",
       "      <td>40.0</td>\n",
       "      <td>...</td>\n",
       "      <td>0</td>\n",
       "      <td>0</td>\n",
       "      <td>0</td>\n",
       "      <td>0</td>\n",
       "      <td>1</td>\n",
       "      <td>0</td>\n",
       "      <td>0</td>\n",
       "      <td>0</td>\n",
       "      <td>0</td>\n",
       "      <td>0</td>\n",
       "    </tr>\n",
       "    <tr>\n",
       "      <th>1</th>\n",
       "      <td>278</td>\n",
       "      <td>25</td>\n",
       "      <td>30</td>\n",
       "      <td>28</td>\n",
       "      <td>40.43</td>\n",
       "      <td>-74.10</td>\n",
       "      <td>10.0</td>\n",
       "      <td>65.0</td>\n",
       "      <td>25.0</td>\n",
       "      <td>22.0</td>\n",
       "      <td>...</td>\n",
       "      <td>0</td>\n",
       "      <td>0</td>\n",
       "      <td>0</td>\n",
       "      <td>0</td>\n",
       "      <td>0</td>\n",
       "      <td>0</td>\n",
       "      <td>0</td>\n",
       "      <td>0</td>\n",
       "      <td>0</td>\n",
       "      <td>0</td>\n",
       "    </tr>\n",
       "    <tr>\n",
       "      <th>2</th>\n",
       "      <td>239</td>\n",
       "      <td>904</td>\n",
       "      <td>886</td>\n",
       "      <td>907</td>\n",
       "      <td>36.06</td>\n",
       "      <td>-79.56</td>\n",
       "      <td>10.0</td>\n",
       "      <td>77.0</td>\n",
       "      <td>60.0</td>\n",
       "      <td>56.0</td>\n",
       "      <td>...</td>\n",
       "      <td>0</td>\n",
       "      <td>0</td>\n",
       "      <td>0</td>\n",
       "      <td>0</td>\n",
       "      <td>0</td>\n",
       "      <td>0</td>\n",
       "      <td>0</td>\n",
       "      <td>0</td>\n",
       "      <td>0</td>\n",
       "      <td>0</td>\n",
       "    </tr>\n",
       "    <tr>\n",
       "      <th>3</th>\n",
       "      <td>515</td>\n",
       "      <td>882</td>\n",
       "      <td>883</td>\n",
       "      <td>885</td>\n",
       "      <td>39.02</td>\n",
       "      <td>-84.40</td>\n",
       "      <td>10.0</td>\n",
       "      <td>39.0</td>\n",
       "      <td>15.0</td>\n",
       "      <td>38.0</td>\n",
       "      <td>...</td>\n",
       "      <td>0</td>\n",
       "      <td>0</td>\n",
       "      <td>0</td>\n",
       "      <td>0</td>\n",
       "      <td>0</td>\n",
       "      <td>1</td>\n",
       "      <td>0</td>\n",
       "      <td>0</td>\n",
       "      <td>0</td>\n",
       "      <td>0</td>\n",
       "    </tr>\n",
       "    <tr>\n",
       "      <th>4</th>\n",
       "      <td>155</td>\n",
       "      <td>323</td>\n",
       "      <td>326</td>\n",
       "      <td>326</td>\n",
       "      <td>33.56</td>\n",
       "      <td>-118.25</td>\n",
       "      <td>2.0</td>\n",
       "      <td>64.0</td>\n",
       "      <td>57.0</td>\n",
       "      <td>78.0</td>\n",
       "      <td>...</td>\n",
       "      <td>0</td>\n",
       "      <td>0</td>\n",
       "      <td>0</td>\n",
       "      <td>0</td>\n",
       "      <td>0</td>\n",
       "      <td>0</td>\n",
       "      <td>0</td>\n",
       "      <td>0</td>\n",
       "      <td>0</td>\n",
       "      <td>0</td>\n",
       "    </tr>\n",
       "  </tbody>\n",
       "</table>\n",
       "<p>5 rows × 40 columns</p>\n",
       "</div>"
      ],
      "text/plain": [
       "   Distance  GroundHeight  StationHeight  BarometerHeight  Latitude  \\\n",
       "0       616          1269           1319             1272     36.17   \n",
       "1       278            25             30               28     40.43   \n",
       "2       239           904            886              907     36.06   \n",
       "3       515           882            883              885     39.02   \n",
       "4       155           323            326              326     33.56   \n",
       "\n",
       "   Longitude  Visibility   DBT  DewPointTemp  RelativeHumidityPercent  \\\n",
       "0     -94.19         9.0  84.0          57.0                     40.0   \n",
       "1     -74.10        10.0  65.0          25.0                     22.0   \n",
       "2     -79.56        10.0  77.0          60.0                     56.0   \n",
       "3     -84.40        10.0  39.0          15.0                     38.0   \n",
       "4    -118.25         2.0  64.0          57.0                     78.0   \n",
       "\n",
       "        ...         WindCompDir_NNW  WindCompDir_NW  WindCompDir_S  \\\n",
       "0       ...                       0               0              0   \n",
       "1       ...                       0               0              0   \n",
       "2       ...                       0               0              0   \n",
       "3       ...                       0               0              0   \n",
       "4       ...                       0               0              0   \n",
       "\n",
       "   WindCompDir_SE  WindCompDir_SSE  WindCompDir_SSW  WindCompDir_SW  \\\n",
       "0               0                1                0               0   \n",
       "1               0                0                0               0   \n",
       "2               0                0                0               0   \n",
       "3               0                0                1               0   \n",
       "4               0                0                0               0   \n",
       "\n",
       "   WindCompDir_W  WindCompDir_WNW  WindCompDir_WSW  \n",
       "0              0                0                0  \n",
       "1              0                0                0  \n",
       "2              0                0                0  \n",
       "3              0                0                0  \n",
       "4              0                0                0  \n",
       "\n",
       "[5 rows x 40 columns]"
      ]
     },
     "execution_count": 77,
     "metadata": {},
     "output_type": "execute_result"
    }
   ],
   "source": [
    "Test_dum.head()"
   ]
  },
  {
   "cell_type": "markdown",
   "metadata": {},
   "source": [
    "#### Standardizing the numerical columns in Data"
   ]
  },
  {
   "cell_type": "code",
   "execution_count": 78,
   "metadata": {},
   "outputs": [
    {
     "name": "stdout",
     "output_type": "stream",
     "text": [
      "(7861, 40)\n",
      "(6566, 40)\n"
     ]
    }
   ],
   "source": [
    "pd.set_option('display.max_columns', 40)\n",
    "num_names = ['Distance','GroundHeight','StationHeight','BarometerHeight','Latitude','Longitude','Visibility','DBT','DewPointTemp','RelativeHumidityPercent','WindSpeed','WindGustValue','StationPressure','HourlyPrecip','LayerHt']\n",
    "cat_names = X_dum[X_dum.columns.difference(num_names)].columns\n",
    "num_scale = pd.DataFrame(preprocessing.scale(X_dum[num_names]),columns = num_names)\n",
    "cat = X_dum[cat_names]\n",
    "test_num_scale = pd.DataFrame(preprocessing.scale(Test_dum[num_names]),columns = num_names)\n",
    "test_cat = Test_dum[cat_names]\n",
    "standardized_X = pd.concat([num_scale,cat], axis=1, sort=False)\n",
    "print(standardized_X.shape)\n",
    "x_test = pd.concat([test_num_scale,test_cat], axis=1, sort=False)\n",
    "print(x_test.shape)"
   ]
  },
  {
   "cell_type": "markdown",
   "metadata": {},
   "source": [
    "#### Splitting the data into Train and Validation Data"
   ]
  },
  {
   "cell_type": "code",
   "execution_count": 79,
   "metadata": {},
   "outputs": [
    {
     "name": "stdout",
     "output_type": "stream",
     "text": [
      "(5502, 40)\n",
      "(2359, 40)\n",
      "(5502,)\n",
      "(2359,)\n"
     ]
    }
   ],
   "source": [
    "from sklearn.model_selection import train_test_split\n",
    "x_train,x_val,y_train,y_val = train_test_split(standardized_X,Y, test_size = 0.3, random_state= 123,stratify=Y)\n",
    "print(x_train.shape)\n",
    "print(x_val.shape)\n",
    "print(y_train.shape)\n",
    "print(y_val.shape)"
   ]
  },
  {
   "cell_type": "markdown",
   "metadata": {},
   "source": [
    "#### Writing a function to call for evaluation of each model "
   ]
  },
  {
   "cell_type": "code",
   "execution_count": 270,
   "metadata": {},
   "outputs": [],
   "source": [
    "def evaluation (predtr1,predva1,y_train,y_val):\n",
    "    print('\\033[1m'+'Train Data :'+'\\033[0m')\n",
    "    print('\\033[1m'+'Accuarcy'+'\\033[0m', accuracy_score(y_train,predtr1))\n",
    "    print('\\033[1m'+'Precision'+'\\033[0m', precision_score(y_train,predtr1))\n",
    "    print('\\033[1m'+'Recall   '+'\\033[0m',recall_score(y_train,predtr1))\n",
    "    print('\\033[1m'+'F1_score '+'\\033[0m',f1_score(y_train,predtr1))\n",
    "    print('\\033[1m'+'Validation Data :'+'\\033[0m')\n",
    "    print('\\033[1m'+'Accuarcy'+'\\033[0m', accuracy_score(y_val,predva1))\n",
    "    print('\\033[1m'+'Precision'+'\\033[0m',precision_score(y_val,predva1))\n",
    "    print('\\033[1m'+'Recall   '+'\\033[0m',recall_score(y_val,predva1))\n",
    "    print('\\033[1m'+'F1_score '+'\\033[0m',f1_score(y_val,predva1))"
   ]
  },
  {
   "cell_type": "markdown",
   "metadata": {},
   "source": [
    "### XGBoost Classifier"
   ]
  },
  {
   "cell_type": "code",
   "execution_count": 271,
   "metadata": {},
   "outputs": [
    {
     "data": {
      "text/plain": [
       "XGBClassifier(base_score=0.5, booster='gbtree', colsample_bylevel=1,\n",
       "       colsample_bytree=1, gamma=0, learning_rate=0.1, max_delta_step=0,\n",
       "       max_depth=3, min_child_weight=1, missing=None, n_estimators=100,\n",
       "       n_jobs=1, nthread=None, objective='binary:logistic', random_state=0,\n",
       "       reg_alpha=0, reg_lambda=1, scale_pos_weight=1, seed=None,\n",
       "       silent=True, subsample=1)"
      ]
     },
     "execution_count": 271,
     "metadata": {},
     "output_type": "execute_result"
    }
   ],
   "source": [
    "from xgboost.sklearn import XGBClassifier\n",
    "xgb_cf=XGBClassifier()\n",
    "xgb_cf.fit(x_train,y_train)"
   ]
  },
  {
   "cell_type": "code",
   "execution_count": 272,
   "metadata": {},
   "outputs": [
    {
     "name": "stdout",
     "output_type": "stream",
     "text": [
      "\u001b[1mTrain Data :\u001b[0m\n",
      "\u001b[1mAccuarcy\u001b[0m 0.8391494002181025\n",
      "\u001b[1mPrecision\u001b[0m 0.7342105263157894\n",
      "\u001b[1mRecall   \u001b[0m 0.26246472248353714\n",
      "\u001b[1mF1_score \u001b[0m 0.38669438669438666\n",
      "\u001b[1mValidation Data :\u001b[0m\n",
      "\u001b[1mAccuarcy\u001b[0m 0.818143281051293\n",
      "\u001b[1mPrecision\u001b[0m 0.5859872611464968\n",
      "\u001b[1mRecall   \u001b[0m 0.20175438596491227\n",
      "\u001b[1mF1_score \u001b[0m 0.300163132137031\n"
     ]
    }
   ],
   "source": [
    "predtr1 = xgb_cf.predict(x_train)\n",
    "predva1 = xgb_cf.predict(x_val)\n",
    "predte1 = xgb_cf.predict(x_test)\n",
    "evaluation(predtr1,predva1,y_train,y_val)"
   ]
  },
  {
   "cell_type": "markdown",
   "metadata": {},
   "source": [
    "### Decision Tree Classifier (Criterion - Entropy)"
   ]
  },
  {
   "cell_type": "code",
   "execution_count": 273,
   "metadata": {},
   "outputs": [
    {
     "data": {
      "text/plain": [
       "DecisionTreeClassifier(class_weight=None, criterion='entropy', max_depth=20,\n",
       "            max_features=None, max_leaf_nodes=None,\n",
       "            min_impurity_decrease=0.0, min_impurity_split=None,\n",
       "            min_samples_leaf=10, min_samples_split=2,\n",
       "            min_weight_fraction_leaf=0.0, presort=False, random_state=100,\n",
       "            splitter='best')"
      ]
     },
     "execution_count": 273,
     "metadata": {},
     "output_type": "execute_result"
    }
   ],
   "source": [
    "dtree_entropy = DecisionTreeClassifier(criterion = \"entropy\", random_state = 100, max_depth = 20,min_samples_leaf=10)\n",
    "dtree_entropy.fit(x_train,y_train)"
   ]
  },
  {
   "cell_type": "code",
   "execution_count": 274,
   "metadata": {},
   "outputs": [
    {
     "name": "stdout",
     "output_type": "stream",
     "text": [
      "\u001b[1mTrain Data :\u001b[0m\n",
      "\u001b[1mAccuarcy\u001b[0m 0.8671392221010542\n",
      "\u001b[1mPrecision\u001b[0m 0.6899313501144165\n",
      "\u001b[1mRecall   \u001b[0m 0.5672624647224835\n",
      "\u001b[1mF1_score \u001b[0m 0.6226122870418173\n",
      "\u001b[1mValidation Data :\u001b[0m\n",
      "\u001b[1mAccuarcy\u001b[0m 0.7774480712166172\n",
      "\u001b[1mPrecision\u001b[0m 0.4152334152334152\n",
      "\u001b[1mRecall   \u001b[0m 0.3706140350877193\n",
      "\u001b[1mF1_score \u001b[0m 0.3916570104287369\n"
     ]
    }
   ],
   "source": [
    "predtr2 = dtree_entropy.predict(x_train)\n",
    "predva2 = dtree_entropy.predict(x_val)\n",
    "predte2 = dtree_entropy.predict(x_test)\n",
    "evaluation(predtr2,predva2,y_train,y_val)"
   ]
  },
  {
   "cell_type": "markdown",
   "metadata": {},
   "source": [
    "### Decision Tree Classifier (Criterion - Gini)"
   ]
  },
  {
   "cell_type": "code",
   "execution_count": 275,
   "metadata": {},
   "outputs": [
    {
     "data": {
      "text/plain": [
       "DecisionTreeClassifier(class_weight=None, criterion='gini', max_depth=19,\n",
       "            max_features=None, max_leaf_nodes=None,\n",
       "            min_impurity_decrease=0.0, min_impurity_split=None,\n",
       "            min_samples_leaf=30, min_samples_split=2,\n",
       "            min_weight_fraction_leaf=0.0, presort=False, random_state=100,\n",
       "            splitter='best')"
      ]
     },
     "execution_count": 275,
     "metadata": {},
     "output_type": "execute_result"
    }
   ],
   "source": [
    "dtree_gini = DecisionTreeClassifier(criterion = \"gini\", random_state = 100,max_depth = 19 ,min_samples_leaf= 30)\n",
    "dtree_gini.fit(x_train,y_train)"
   ]
  },
  {
   "cell_type": "code",
   "execution_count": 276,
   "metadata": {},
   "outputs": [
    {
     "name": "stdout",
     "output_type": "stream",
     "text": [
      "\u001b[1mTrain Data :\u001b[0m\n",
      "\u001b[1mAccuarcy\u001b[0m 0.8333333333333334\n",
      "\u001b[1mPrecision\u001b[0m 0.6471774193548387\n",
      "\u001b[1mRecall   \u001b[0m 0.3019755409219191\n",
      "\u001b[1mF1_score \u001b[0m 0.41180243745991013\n",
      "\u001b[1mValidation Data :\u001b[0m\n",
      "\u001b[1mAccuarcy\u001b[0m 0.8066977532852904\n",
      "\u001b[1mPrecision\u001b[0m 0.5\n",
      "\u001b[1mRecall   \u001b[0m 0.22149122807017543\n",
      "\u001b[1mF1_score \u001b[0m 0.3069908814589666\n"
     ]
    }
   ],
   "source": [
    "predtr3 = dtree_gini.predict(x_train)\n",
    "predva3 = dtree_gini.predict(x_val)\n",
    "predte3 = dtree_gini.predict(x_test)\n",
    "evaluation(predtr3,predva3,y_train,y_val)"
   ]
  },
  {
   "cell_type": "markdown",
   "metadata": {},
   "source": [
    "### Support Vector Classification"
   ]
  },
  {
   "cell_type": "code",
   "execution_count": 277,
   "metadata": {},
   "outputs": [
    {
     "data": {
      "text/plain": [
       "SVC(C=1.0, cache_size=200, class_weight='balanced', coef0=0.0,\n",
       "  decision_function_shape='ovr', degree=3, gamma='auto_deprecated',\n",
       "  kernel='rbf', max_iter=-1, probability=False, random_state=None,\n",
       "  shrinking=True, tol=0.001, verbose=False)"
      ]
     },
     "execution_count": 277,
     "metadata": {},
     "output_type": "execute_result"
    }
   ],
   "source": [
    "svclassifier = SVC(kernel='rbf',class_weight= 'balanced')  \n",
    "svclassifier.fit(x_train,y_train)  "
   ]
  },
  {
   "cell_type": "code",
   "execution_count": 278,
   "metadata": {},
   "outputs": [
    {
     "name": "stdout",
     "output_type": "stream",
     "text": [
      "\u001b[1mTrain Data :\u001b[0m\n",
      "\u001b[1mAccuarcy\u001b[0m 0.7302798982188295\n",
      "\u001b[1mPrecision\u001b[0m 0.389268805891636\n",
      "\u001b[1mRecall   \u001b[0m 0.6961429915333961\n",
      "\u001b[1mF1_score \u001b[0m 0.4993252361673414\n",
      "\u001b[1mValidation Data :\u001b[0m\n",
      "\u001b[1mAccuarcy\u001b[0m 0.7159813480288257\n",
      "\u001b[1mPrecision\u001b[0m 0.36421319796954316\n",
      "\u001b[1mRecall   \u001b[0m 0.6293859649122807\n",
      "\u001b[1mF1_score \u001b[0m 0.46141479099678456\n"
     ]
    }
   ],
   "source": [
    "predtr4 = svclassifier.predict(x_train)\n",
    "predva4 = svclassifier.predict(x_val)\n",
    "predte4 = svclassifier.predict(x_test)\n",
    "evaluation(predtr4,predva4,y_train,y_val)"
   ]
  },
  {
   "cell_type": "markdown",
   "metadata": {},
   "source": [
    "### Logistic Regression"
   ]
  },
  {
   "cell_type": "code",
   "execution_count": 279,
   "metadata": {},
   "outputs": [
    {
     "data": {
      "text/plain": [
       "LogisticRegression(C=1.0, class_weight=None, dual=False, fit_intercept=True,\n",
       "          intercept_scaling=1, max_iter=100, multi_class='warn',\n",
       "          n_jobs=None, penalty='l2', random_state=None, solver='warn',\n",
       "          tol=0.0001, verbose=0, warm_start=False)"
      ]
     },
     "execution_count": 279,
     "metadata": {},
     "output_type": "execute_result"
    }
   ],
   "source": [
    "lr = LogisticRegression()\n",
    "lr.fit(x_train,y_train)"
   ]
  },
  {
   "cell_type": "code",
   "execution_count": 280,
   "metadata": {},
   "outputs": [
    {
     "name": "stdout",
     "output_type": "stream",
     "text": [
      "\u001b[1mTrain Data :\u001b[0m\n",
      "\u001b[1mAccuarcy\u001b[0m 0.8182479098509633\n",
      "\u001b[1mPrecision\u001b[0m 0.595166163141994\n",
      "\u001b[1mRecall   \u001b[0m 0.18532455315145813\n",
      "\u001b[1mF1_score \u001b[0m 0.28263988522238165\n",
      "\u001b[1mValidation Data :\u001b[0m\n",
      "\u001b[1mAccuarcy\u001b[0m 0.8134802882577363\n",
      "\u001b[1mPrecision\u001b[0m 0.5655737704918032\n",
      "\u001b[1mRecall   \u001b[0m 0.1513157894736842\n",
      "\u001b[1mF1_score \u001b[0m 0.23875432525951557\n"
     ]
    }
   ],
   "source": [
    "predtrl = lr.predict(x_train)\n",
    "predval = lr.predict(x_val)\n",
    "predtel = lr.predict(x_test)\n",
    "evaluation(predtrl,predval,y_train,y_val)"
   ]
  },
  {
   "cell_type": "markdown",
   "metadata": {},
   "source": [
    "### To remove class imbalance from data::\n",
    "### 1. UnderSampling"
   ]
  },
  {
   "cell_type": "code",
   "execution_count": 109,
   "metadata": {},
   "outputs": [],
   "source": [
    "Count_flight_Delayed = len(DataV4[DataV4[\"FlightDelayStatus\"]==1])"
   ]
  },
  {
   "cell_type": "code",
   "execution_count": 110,
   "metadata": {},
   "outputs": [
    {
     "name": "stdout",
     "output_type": "stream",
     "text": [
      "Flight not delayed proportion : 3038.0\n",
      "Flight delayed proportion     : 1519.0\n",
      "Total number of records in resampled data is: 4557\n"
     ]
    }
   ],
   "source": [
    "# for undersampling we need a portion of majority class and will take whole data of minority class\n",
    "flight_Delayed= np.array(DataV4[DataV4.FlightDelayStatus == 1].index)\n",
    "flight_NotDelayed = np.array(DataV4[DataV4.FlightDelayStatus==2].index)\n",
    "#now let us a define a function for make undersample data with different proportion\n",
    "#different proportion means with different proportion of not delayed classes of data\n",
    "flight_NotDelayed_undersample = np.array(np.random.choice(flight_NotDelayed,(2*Count_flight_Delayed),replace=False))\n",
    "undersample_data= np.concatenate([flight_Delayed,flight_NotDelayed_undersample])\n",
    "undersample_data = DataV4.iloc[undersample_data,:]\n",
    "    \n",
    "print(\"Flight not delayed proportion :\",len(undersample_data[undersample_data.FlightDelayStatus==2])/len([undersample_data.FlightDelayStatus]))\n",
    "print(\"Flight delayed proportion     :\",len(undersample_data[undersample_data.FlightDelayStatus==1])/len([undersample_data.FlightDelayStatus]))\n",
    "print(\"Total number of records in resampled data is:\",len(undersample_data.FlightDelayStatus))\n"
   ]
  },
  {
   "cell_type": "markdown",
   "metadata": {},
   "source": [
    "#### Creating Dummies and standardizing the undersampled data"
   ]
  },
  {
   "cell_type": "code",
   "execution_count": 111,
   "metadata": {},
   "outputs": [
    {
     "name": "stdout",
     "output_type": "stream",
     "text": [
      "(4557, 40)\n"
     ]
    }
   ],
   "source": [
    "undersample_data = undersample_data.reset_index(drop =True)\n",
    "X_us = undersample_data.drop('FlightDelayStatus', axis = 1)\n",
    "Y_us = undersample_data['FlightDelayStatus']\n",
    "usd_dum = pd.get_dummies(X_us, drop_first=True)\n",
    "\n",
    "usd_scale = pd.DataFrame(preprocessing.scale(usd_dum[num_names]),columns = num_names)\n",
    "usd_cat = usd_dum[cat_names]\n",
    "standardized_usd = pd.concat([usd_scale,usd_cat], axis=1, sort=False)\n",
    "print(standardized_usd.shape)"
   ]
  },
  {
   "cell_type": "markdown",
   "metadata": {},
   "source": [
    "#### Dividing the undersampled data into train and validation data"
   ]
  },
  {
   "cell_type": "code",
   "execution_count": 112,
   "metadata": {},
   "outputs": [
    {
     "name": "stdout",
     "output_type": "stream",
     "text": [
      "(3189, 40)\n",
      "(1368, 40)\n",
      "(3189,)\n",
      "(1368,)\n"
     ]
    }
   ],
   "source": [
    "usd_train,usd_val,usd_train_labels,usd_val_labels = train_test_split(standardized_usd,Y_us, test_size = 0.3, random_state= 123,stratify=Y_us)\n",
    "print(usd_train.shape)\n",
    "print(usd_val.shape)\n",
    "print(usd_train_labels.shape)\n",
    "print(usd_val_labels.shape)"
   ]
  },
  {
   "cell_type": "markdown",
   "metadata": {},
   "source": [
    "### Decision Tree Classifier"
   ]
  },
  {
   "cell_type": "code",
   "execution_count": 281,
   "metadata": {},
   "outputs": [
    {
     "data": {
      "text/plain": [
       "DecisionTreeClassifier(class_weight=None, criterion='gini', max_depth=11,\n",
       "            max_features=None, max_leaf_nodes=None,\n",
       "            min_impurity_decrease=0.0, min_impurity_split=None,\n",
       "            min_samples_leaf=1, min_samples_split=2,\n",
       "            min_weight_fraction_leaf=0.0, presort=False, random_state=None,\n",
       "            splitter='best')"
      ]
     },
     "execution_count": 281,
     "metadata": {},
     "output_type": "execute_result"
    }
   ],
   "source": [
    "dtree_gini = DecisionTreeClassifier(max_depth = 11)\n",
    "dtree_gini.fit(usd_train,usd_train_labels)"
   ]
  },
  {
   "cell_type": "code",
   "execution_count": 282,
   "metadata": {},
   "outputs": [
    {
     "name": "stdout",
     "output_type": "stream",
     "text": [
      "\u001b[1mTrain Data :\u001b[0m\n",
      "\u001b[1mAccuarcy\u001b[0m 0.8767638758231421\n",
      "\u001b[1mPrecision\u001b[0m 0.8738839285714286\n",
      "\u001b[1mRecall   \u001b[0m 0.7365945437441204\n",
      "\u001b[1mF1_score \u001b[0m 0.7993874425727412\n",
      "\u001b[1mValidation Data :\u001b[0m\n",
      "\u001b[1mAccuarcy\u001b[0m 0.6666666666666666\n",
      "\u001b[1mPrecision\u001b[0m 0.5\n",
      "\u001b[1mRecall   \u001b[0m 0.4407894736842105\n",
      "\u001b[1mF1_score \u001b[0m 0.46853146853146854\n"
     ]
    }
   ],
   "source": [
    "predtr5 = dtree_gini.predict(usd_train)\n",
    "predva5 = dtree_gini.predict(usd_val)\n",
    "predte5 = dtree_gini.predict(x_test)\n",
    "evaluation(predtr5,predva5,usd_train_labels,usd_val_labels)"
   ]
  },
  {
   "cell_type": "markdown",
   "metadata": {},
   "source": [
    "### Random Forest Classifier"
   ]
  },
  {
   "cell_type": "code",
   "execution_count": 292,
   "metadata": {},
   "outputs": [
    {
     "data": {
      "text/plain": [
       "RandomForestClassifier(bootstrap=True, class_weight=None, criterion='gini',\n",
       "            max_depth=20, max_features='auto', max_leaf_nodes=None,\n",
       "            min_impurity_decrease=0.0, min_impurity_split=None,\n",
       "            min_samples_leaf=24, min_samples_split=2,\n",
       "            min_weight_fraction_leaf=0.0, n_estimators=2, n_jobs=None,\n",
       "            oob_score=False, random_state=None, verbose=0,\n",
       "            warm_start=False)"
      ]
     },
     "execution_count": 292,
     "metadata": {},
     "output_type": "execute_result"
    }
   ],
   "source": [
    "rfc = RandomForestClassifier(n_estimators=2,max_depth = 20,min_samples_leaf=24)\n",
    "rfc.fit(usd_train,usd_train_labels)"
   ]
  },
  {
   "cell_type": "code",
   "execution_count": 293,
   "metadata": {},
   "outputs": [
    {
     "name": "stdout",
     "output_type": "stream",
     "text": [
      "\u001b[1mTrain Data :\u001b[0m\n",
      "\u001b[1mAccuarcy\u001b[0m 0.740043900909376\n",
      "\u001b[1mPrecision\u001b[0m 0.6778115501519757\n",
      "\u001b[1mRecall   \u001b[0m 0.4195672624647225\n",
      "\u001b[1mF1_score \u001b[0m 0.5183033120278908\n",
      "\u001b[1mValidation Data :\u001b[0m\n",
      "\u001b[1mAccuarcy\u001b[0m 0.7017543859649122\n",
      "\u001b[1mPrecision\u001b[0m 0.5902255639097744\n",
      "\u001b[1mRecall   \u001b[0m 0.3442982456140351\n",
      "\u001b[1mF1_score \u001b[0m 0.43490304709141275\n"
     ]
    }
   ],
   "source": [
    "predtr6 = rfc.predict(usd_train)\n",
    "predva6 = rfc.predict(usd_val)\n",
    "predte6 = rfc.predict(x_test)\n",
    "evaluation(predtr6,predva6,usd_train_labels,usd_val_labels)"
   ]
  },
  {
   "cell_type": "markdown",
   "metadata": {},
   "source": [
    "### Extracting important features from Random forest and building a model with important features"
   ]
  },
  {
   "cell_type": "code",
   "execution_count": 294,
   "metadata": {},
   "outputs": [
    {
     "data": {
      "text/plain": [
       "<matplotlib.axes._subplots.AxesSubplot at 0x1c7fb312208>"
      ]
     },
     "execution_count": 294,
     "metadata": {},
     "output_type": "execute_result"
    },
    {
     "data": {
      "image/png": "[encoded data removed]",
      "text/plain": [
       "<Figure size 432x288 with 1 Axes>"
      ]
     },
     "metadata": {},
     "output_type": "display_data"
    }
   ],
   "source": [
    "featimp = pd.Series(rfc.feature_importances_,index=usd_train.columns).sort_values(ascending=False)\n",
    "featimp.nlargest(10).plot(kind='bar')"
   ]
  },
  {
   "cell_type": "markdown",
   "metadata": {},
   "source": [
    "### 2. OverSampling the Data"
   ]
  },
  {
   "cell_type": "code",
   "execution_count": 125,
   "metadata": {},
   "outputs": [],
   "source": [
    "data_train_X = X_dum\n",
    "data_train_y = Y"
   ]
  },
  {
   "cell_type": "code",
   "execution_count": 126,
   "metadata": {},
   "outputs": [
    {
     "name": "stdout",
     "output_type": "stream",
     "text": [
      "length of training data 7861\n",
      "length of delay data 1519\n",
      "length of NOT delay data 6342\n"
     ]
    }
   ],
   "source": [
    "data_train_X[\"FlightDelayStatus\"]= data_train_y # combining class with original data\n",
    "data_train = data_train_X.copy() # for naming conevntion\n",
    "print(\"length of training data\",len(data_train))\n",
    "# Now make data set of normal transction from train data\n",
    "delay_data = data_train[data_train[\"FlightDelayStatus\"]==1]\n",
    "print(\"length of delay data\",len(delay_data))\n",
    "nonDelay_data = data_train[data_train[\"FlightDelayStatus\"]==2]\n",
    "print(\"length of NOT delay data\",len(nonDelay_data))"
   ]
  },
  {
   "cell_type": "code",
   "execution_count": 127,
   "metadata": {},
   "outputs": [
    {
     "name": "stdout",
     "output_type": "stream",
     "text": [
      "length of oversampled data is  10899\n",
      "Number of flights not delayed in oversampled data 6342\n",
      "No.of flights delayed 4557\n",
      "Proportion of flights delayed in oversampled data is  0.41811175337186895\n",
      "Proportion of flights not delayed in oversampled data is  0.581888246628131\n"
     ]
    }
   ],
   "source": [
    "for i in range (3): # the number is choosen by myself on basis of nnumber of fraud transaction\n",
    "    nonDelay_data= nonDelay_data.append(delay_data)\n",
    "os_data = nonDelay_data.copy() \n",
    "print(\"length of oversampled data is \",len(os_data))\n",
    "print(\"Number of flights not delayed in oversampled data\",len(os_data[os_data[\"FlightDelayStatus\"]==2]))\n",
    "print(\"No.of flights delayed\",len(os_data[os_data[\"FlightDelayStatus\"]==1]))\n",
    "print(\"Proportion of flights delayed in oversampled data is \",len(os_data[os_data[\"FlightDelayStatus\"]==1])/len(os_data))\n",
    "print(\"Proportion of flights not delayed in oversampled data is \",len(os_data[os_data[\"FlightDelayStatus\"]==2])/len(os_data))"
   ]
  },
  {
   "cell_type": "code",
   "execution_count": 128,
   "metadata": {
    "scrolled": true
   },
   "outputs": [
    {
     "data": {
      "text/html": [
       "<div>\n",
       "<style scoped>\n",
       "    .dataframe tbody tr th:only-of-type {\n",
       "        vertical-align: middle;\n",
       "    }\n",
       "\n",
       "    .dataframe tbody tr th {\n",
       "        vertical-align: top;\n",
       "    }\n",
       "\n",
       "    .dataframe thead th {\n",
       "        text-align: right;\n",
       "    }\n",
       "</style>\n",
       "<table border=\"1\" class=\"dataframe\">\n",
       "  <thead>\n",
       "    <tr style=\"text-align: right;\">\n",
       "      <th></th>\n",
       "      <th>Distance</th>\n",
       "      <th>GroundHeight</th>\n",
       "      <th>StationHeight</th>\n",
       "      <th>BarometerHeight</th>\n",
       "      <th>Latitude</th>\n",
       "      <th>Longitude</th>\n",
       "      <th>Visibility</th>\n",
       "      <th>DBT</th>\n",
       "      <th>DewPointTemp</th>\n",
       "      <th>RelativeHumidityPercent</th>\n",
       "      <th>WindSpeed</th>\n",
       "      <th>WindGustValue</th>\n",
       "      <th>StationPressure</th>\n",
       "      <th>HourlyPrecip</th>\n",
       "      <th>LayerHt</th>\n",
       "      <th>DayOfWeek_2</th>\n",
       "      <th>DayOfWeek_3</th>\n",
       "      <th>DayOfWeek_4</th>\n",
       "      <th>DayOfWeek_5</th>\n",
       "      <th>DayOfWeek_6</th>\n",
       "      <th>...</th>\n",
       "      <th>SkyCover_CLR</th>\n",
       "      <th>SkyCover_FEW</th>\n",
       "      <th>SkyCover_OVC</th>\n",
       "      <th>SkyCover_SCT</th>\n",
       "      <th>WindCompDir_ENE</th>\n",
       "      <th>WindCompDir_ESE</th>\n",
       "      <th>WindCompDir_N</th>\n",
       "      <th>WindCompDir_NE</th>\n",
       "      <th>WindCompDir_NNE</th>\n",
       "      <th>WindCompDir_NNW</th>\n",
       "      <th>WindCompDir_NW</th>\n",
       "      <th>WindCompDir_S</th>\n",
       "      <th>WindCompDir_SE</th>\n",
       "      <th>WindCompDir_SSE</th>\n",
       "      <th>WindCompDir_SSW</th>\n",
       "      <th>WindCompDir_SW</th>\n",
       "      <th>WindCompDir_W</th>\n",
       "      <th>WindCompDir_WNW</th>\n",
       "      <th>WindCompDir_WSW</th>\n",
       "      <th>FlightDelayStatus</th>\n",
       "    </tr>\n",
       "  </thead>\n",
       "  <tbody>\n",
       "    <tr>\n",
       "      <th>0</th>\n",
       "      <td>303</td>\n",
       "      <td>971</td>\n",
       "      <td>1026</td>\n",
       "      <td>974</td>\n",
       "      <td>33.38</td>\n",
       "      <td>-84.26</td>\n",
       "      <td>7.0</td>\n",
       "      <td>60.0</td>\n",
       "      <td>57.0</td>\n",
       "      <td>90.0</td>\n",
       "      <td>13</td>\n",
       "      <td>0.0</td>\n",
       "      <td>28.72</td>\n",
       "      <td>0.54</td>\n",
       "      <td>47</td>\n",
       "      <td>0</td>\n",
       "      <td>1</td>\n",
       "      <td>0</td>\n",
       "      <td>0</td>\n",
       "      <td>0</td>\n",
       "      <td>...</td>\n",
       "      <td>0</td>\n",
       "      <td>0</td>\n",
       "      <td>1</td>\n",
       "      <td>0</td>\n",
       "      <td>0</td>\n",
       "      <td>0</td>\n",
       "      <td>0</td>\n",
       "      <td>0</td>\n",
       "      <td>0</td>\n",
       "      <td>0</td>\n",
       "      <td>0</td>\n",
       "      <td>0</td>\n",
       "      <td>0</td>\n",
       "      <td>0</td>\n",
       "      <td>0</td>\n",
       "      <td>0</td>\n",
       "      <td>0</td>\n",
       "      <td>1</td>\n",
       "      <td>0</td>\n",
       "      <td>2</td>\n",
       "    </tr>\n",
       "    <tr>\n",
       "      <th>1</th>\n",
       "      <td>269</td>\n",
       "      <td>0</td>\n",
       "      <td>0</td>\n",
       "      <td>0</td>\n",
       "      <td>37.05</td>\n",
       "      <td>-113.35</td>\n",
       "      <td>10.0</td>\n",
       "      <td>81.0</td>\n",
       "      <td>30.0</td>\n",
       "      <td>16.0</td>\n",
       "      <td>8</td>\n",
       "      <td>0.0</td>\n",
       "      <td>29.84</td>\n",
       "      <td>0.00</td>\n",
       "      <td>0</td>\n",
       "      <td>0</td>\n",
       "      <td>0</td>\n",
       "      <td>0</td>\n",
       "      <td>0</td>\n",
       "      <td>0</td>\n",
       "      <td>...</td>\n",
       "      <td>1</td>\n",
       "      <td>0</td>\n",
       "      <td>0</td>\n",
       "      <td>0</td>\n",
       "      <td>0</td>\n",
       "      <td>0</td>\n",
       "      <td>0</td>\n",
       "      <td>0</td>\n",
       "      <td>0</td>\n",
       "      <td>0</td>\n",
       "      <td>0</td>\n",
       "      <td>0</td>\n",
       "      <td>0</td>\n",
       "      <td>0</td>\n",
       "      <td>1</td>\n",
       "      <td>0</td>\n",
       "      <td>0</td>\n",
       "      <td>0</td>\n",
       "      <td>0</td>\n",
       "      <td>2</td>\n",
       "    </tr>\n",
       "    <tr>\n",
       "      <th>2</th>\n",
       "      <td>282</td>\n",
       "      <td>559</td>\n",
       "      <td>596</td>\n",
       "      <td>562</td>\n",
       "      <td>32.54</td>\n",
       "      <td>-97.02</td>\n",
       "      <td>9.0</td>\n",
       "      <td>73.0</td>\n",
       "      <td>71.0</td>\n",
       "      <td>94.0</td>\n",
       "      <td>8</td>\n",
       "      <td>0.0</td>\n",
       "      <td>29.10</td>\n",
       "      <td>1.06</td>\n",
       "      <td>45</td>\n",
       "      <td>0</td>\n",
       "      <td>0</td>\n",
       "      <td>1</td>\n",
       "      <td>0</td>\n",
       "      <td>0</td>\n",
       "      <td>...</td>\n",
       "      <td>0</td>\n",
       "      <td>0</td>\n",
       "      <td>1</td>\n",
       "      <td>0</td>\n",
       "      <td>0</td>\n",
       "      <td>0</td>\n",
       "      <td>0</td>\n",
       "      <td>1</td>\n",
       "      <td>0</td>\n",
       "      <td>0</td>\n",
       "      <td>0</td>\n",
       "      <td>0</td>\n",
       "      <td>0</td>\n",
       "      <td>0</td>\n",
       "      <td>0</td>\n",
       "      <td>0</td>\n",
       "      <td>0</td>\n",
       "      <td>0</td>\n",
       "      <td>0</td>\n",
       "      <td>2</td>\n",
       "    </tr>\n",
       "    <tr>\n",
       "      <th>3</th>\n",
       "      <td>241</td>\n",
       "      <td>0</td>\n",
       "      <td>0</td>\n",
       "      <td>0</td>\n",
       "      <td>33.27</td>\n",
       "      <td>-88.35</td>\n",
       "      <td>10.0</td>\n",
       "      <td>72.0</td>\n",
       "      <td>70.0</td>\n",
       "      <td>93.0</td>\n",
       "      <td>3</td>\n",
       "      <td>0.0</td>\n",
       "      <td>30.16</td>\n",
       "      <td>0.00</td>\n",
       "      <td>0</td>\n",
       "      <td>1</td>\n",
       "      <td>0</td>\n",
       "      <td>0</td>\n",
       "      <td>0</td>\n",
       "      <td>0</td>\n",
       "      <td>...</td>\n",
       "      <td>1</td>\n",
       "      <td>0</td>\n",
       "      <td>0</td>\n",
       "      <td>0</td>\n",
       "      <td>0</td>\n",
       "      <td>0</td>\n",
       "      <td>0</td>\n",
       "      <td>0</td>\n",
       "      <td>0</td>\n",
       "      <td>0</td>\n",
       "      <td>0</td>\n",
       "      <td>0</td>\n",
       "      <td>0</td>\n",
       "      <td>0</td>\n",
       "      <td>0</td>\n",
       "      <td>0</td>\n",
       "      <td>0</td>\n",
       "      <td>0</td>\n",
       "      <td>1</td>\n",
       "      <td>2</td>\n",
       "    </tr>\n",
       "    <tr>\n",
       "      <th>4</th>\n",
       "      <td>130</td>\n",
       "      <td>0</td>\n",
       "      <td>848</td>\n",
       "      <td>0</td>\n",
       "      <td>31.05</td>\n",
       "      <td>-97.41</td>\n",
       "      <td>10.0</td>\n",
       "      <td>61.0</td>\n",
       "      <td>52.0</td>\n",
       "      <td>72.0</td>\n",
       "      <td>11</td>\n",
       "      <td>18.0</td>\n",
       "      <td>30.18</td>\n",
       "      <td>0.00</td>\n",
       "      <td>14</td>\n",
       "      <td>0</td>\n",
       "      <td>0</td>\n",
       "      <td>0</td>\n",
       "      <td>1</td>\n",
       "      <td>0</td>\n",
       "      <td>...</td>\n",
       "      <td>0</td>\n",
       "      <td>0</td>\n",
       "      <td>1</td>\n",
       "      <td>0</td>\n",
       "      <td>0</td>\n",
       "      <td>0</td>\n",
       "      <td>0</td>\n",
       "      <td>0</td>\n",
       "      <td>0</td>\n",
       "      <td>1</td>\n",
       "      <td>0</td>\n",
       "      <td>0</td>\n",
       "      <td>0</td>\n",
       "      <td>0</td>\n",
       "      <td>0</td>\n",
       "      <td>0</td>\n",
       "      <td>0</td>\n",
       "      <td>0</td>\n",
       "      <td>0</td>\n",
       "      <td>2</td>\n",
       "    </tr>\n",
       "  </tbody>\n",
       "</table>\n",
       "<p>5 rows × 41 columns</p>\n",
       "</div>"
      ],
      "text/plain": [
       "   Distance  GroundHeight  StationHeight  BarometerHeight  Latitude  \\\n",
       "0       303           971           1026              974     33.38   \n",
       "1       269             0              0                0     37.05   \n",
       "2       282           559            596              562     32.54   \n",
       "3       241             0              0                0     33.27   \n",
       "4       130             0            848                0     31.05   \n",
       "\n",
       "   Longitude  Visibility   DBT  DewPointTemp  RelativeHumidityPercent  \\\n",
       "0     -84.26         7.0  60.0          57.0                     90.0   \n",
       "1    -113.35        10.0  81.0          30.0                     16.0   \n",
       "2     -97.02         9.0  73.0          71.0                     94.0   \n",
       "3     -88.35        10.0  72.0          70.0                     93.0   \n",
       "4     -97.41        10.0  61.0          52.0                     72.0   \n",
       "\n",
       "   WindSpeed  WindGustValue  StationPressure  HourlyPrecip  LayerHt  \\\n",
       "0         13            0.0            28.72          0.54       47   \n",
       "1          8            0.0            29.84          0.00        0   \n",
       "2          8            0.0            29.10          1.06       45   \n",
       "3          3            0.0            30.16          0.00        0   \n",
       "4         11           18.0            30.18          0.00       14   \n",
       "\n",
       "   DayOfWeek_2  DayOfWeek_3  DayOfWeek_4  DayOfWeek_5  DayOfWeek_6  \\\n",
       "0            0            1            0            0            0   \n",
       "1            0            0            0            0            0   \n",
       "2            0            0            1            0            0   \n",
       "3            1            0            0            0            0   \n",
       "4            0            0            0            1            0   \n",
       "\n",
       "         ...          SkyCover_CLR  SkyCover_FEW  SkyCover_OVC  SkyCover_SCT  \\\n",
       "0        ...                     0             0             1             0   \n",
       "1        ...                     1             0             0             0   \n",
       "2        ...                     0             0             1             0   \n",
       "3        ...                     1             0             0             0   \n",
       "4        ...                     0             0             1             0   \n",
       "\n",
       "   WindCompDir_ENE  WindCompDir_ESE  WindCompDir_N  WindCompDir_NE  \\\n",
       "0                0                0              0               0   \n",
       "1                0                0              0               0   \n",
       "2                0                0              0               1   \n",
       "3                0                0              0               0   \n",
       "4                0                0              0               0   \n",
       "\n",
       "   WindCompDir_NNE  WindCompDir_NNW  WindCompDir_NW  WindCompDir_S  \\\n",
       "0                0                0               0              0   \n",
       "1                0                0               0              0   \n",
       "2                0                0               0              0   \n",
       "3                0                0               0              0   \n",
       "4                0                1               0              0   \n",
       "\n",
       "   WindCompDir_SE  WindCompDir_SSE  WindCompDir_SSW  WindCompDir_SW  \\\n",
       "0               0                0                0               0   \n",
       "1               0                0                1               0   \n",
       "2               0                0                0               0   \n",
       "3               0                0                0               0   \n",
       "4               0                0                0               0   \n",
       "\n",
       "   WindCompDir_W  WindCompDir_WNW  WindCompDir_WSW  FlightDelayStatus  \n",
       "0              0                1                0                  2  \n",
       "1              0                0                0                  2  \n",
       "2              0                0                0                  2  \n",
       "3              0                0                1                  2  \n",
       "4              0                0                0                  2  \n",
       "\n",
       "[5 rows x 41 columns]"
      ]
     },
     "execution_count": 128,
     "metadata": {},
     "output_type": "execute_result"
    }
   ],
   "source": [
    "os_data.head()"
   ]
  },
  {
   "cell_type": "markdown",
   "metadata": {},
   "source": [
    "#### Standardizing the oversampled data and dividing it into train and test split"
   ]
  },
  {
   "cell_type": "code",
   "execution_count": 258,
   "metadata": {},
   "outputs": [
    {
     "name": "stdout",
     "output_type": "stream",
     "text": [
      "(10899, 40)\n",
      "(7629, 40)\n",
      "(3270, 40)\n",
      "(7629,)\n",
      "(3270,)\n"
     ]
    }
   ],
   "source": [
    "os_data = os_data.reset_index(drop =True)\n",
    "X_os = os_data.drop('FlightDelayStatus', axis = 1)\n",
    "Y_os = os_data['FlightDelayStatus']\n",
    "\n",
    "osd_scale = pd.DataFrame(preprocessing.scale(X_os[num_names]),columns = num_names)\n",
    "osd_cat = X_os[cat_names]\n",
    "standardized_osd = pd.concat([osd_scale,osd_cat], axis=1, sort=False)\n",
    "print(standardized_osd.shape)\n",
    "\n",
    "osd_train,osd_val,osd_train_labels,osd_val_labels = train_test_split(standardized_osd,Y_os, test_size = 0.3, random_state= 123,stratify=Y_os)\n",
    "print(osd_train.shape)\n",
    "print(osd_val.shape)\n",
    "print(osd_train_labels.shape)\n",
    "print(osd_val_labels.shape)"
   ]
  },
  {
   "cell_type": "markdown",
   "metadata": {},
   "source": [
    "### Random Forest Classifier"
   ]
  },
  {
   "cell_type": "code",
   "execution_count": 295,
   "metadata": {},
   "outputs": [
    {
     "data": {
      "text/plain": [
       "RandomForestClassifier(bootstrap=True, class_weight=None, criterion='gini',\n",
       "            max_depth=20, max_features='auto', max_leaf_nodes=None,\n",
       "            min_impurity_decrease=0.0, min_impurity_split=None,\n",
       "            min_samples_leaf=24, min_samples_split=2,\n",
       "            min_weight_fraction_leaf=0.0, n_estimators=2, n_jobs=None,\n",
       "            oob_score=False, random_state=None, verbose=0,\n",
       "            warm_start=False)"
      ]
     },
     "execution_count": 295,
     "metadata": {},
     "output_type": "execute_result"
    }
   ],
   "source": [
    "rfc = RandomForestClassifier(n_estimators=2,max_depth = 20 ,min_samples_leaf= 24)\n",
    "rfc.fit(osd_train,osd_train_labels)"
   ]
  },
  {
   "cell_type": "code",
   "execution_count": 296,
   "metadata": {},
   "outputs": [
    {
     "name": "stdout",
     "output_type": "stream",
     "text": [
      "\u001b[1mTrain Data :\u001b[0m\n",
      "\u001b[1mAccuarcy\u001b[0m 0.7434788307772972\n",
      "\u001b[1mPrecision\u001b[0m 0.7226435536294691\n",
      "\u001b[1mRecall   \u001b[0m 0.6272727272727273\n",
      "\u001b[1mF1_score \u001b[0m 0.6715891928175868\n",
      "\u001b[1mValidation Data :\u001b[0m\n",
      "\u001b[1mAccuarcy\u001b[0m 0.7030581039755351\n",
      "\u001b[1mPrecision\u001b[0m 0.6666666666666666\n",
      "\u001b[1mRecall   \u001b[0m 0.5793708851499634\n",
      "\u001b[1mF1_score \u001b[0m 0.6199608610567514\n"
     ]
    }
   ],
   "source": [
    "predtr8 = rfc.predict(osd_train)\n",
    "predva8 = rfc.predict(osd_val)\n",
    "predte8 = rfc.predict(x_test)\n",
    "evaluation(predtr8,predva8,osd_train_labels,osd_val_labels)"
   ]
  },
  {
   "cell_type": "code",
   "execution_count": 297,
   "metadata": {},
   "outputs": [
    {
     "data": {
      "text/plain": [
       "<matplotlib.axes._subplots.AxesSubplot at 0x1c7fdfeb9e8>"
      ]
     },
     "execution_count": 297,
     "metadata": {},
     "output_type": "execute_result"
    },
    {
     "data": {
      "image/png": "[encoded data removed]",
      "text/plain": [
       "<Figure size 432x288 with 1 Axes>"
      ]
     },
     "metadata": {},
     "output_type": "display_data"
    }
   ],
   "source": [
    "featimpos = pd.Series(rfc.feature_importances_,index=osd_train.columns).sort_values(ascending=False)\n",
    "featimp.nlargest(10).plot(kind='bar')"
   ]
  },
  {
   "cell_type": "markdown",
   "metadata": {},
   "source": [
    "### Logistic regression"
   ]
  },
  {
   "cell_type": "code",
   "execution_count": 298,
   "metadata": {},
   "outputs": [
    {
     "data": {
      "text/plain": [
       "LogisticRegression(C=1.0, class_weight=None, dual=False, fit_intercept=True,\n",
       "          intercept_scaling=1, max_iter=100, multi_class='warn',\n",
       "          n_jobs=None, penalty='l2', random_state=None, solver='warn',\n",
       "          tol=0.0001, verbose=0, warm_start=False)"
      ]
     },
     "execution_count": 298,
     "metadata": {},
     "output_type": "execute_result"
    }
   ],
   "source": [
    "lr = LogisticRegression()\n",
    "lr.fit(osd_train,osd_train_labels)"
   ]
  },
  {
   "cell_type": "code",
   "execution_count": 299,
   "metadata": {},
   "outputs": [
    {
     "name": "stdout",
     "output_type": "stream",
     "text": [
      "\u001b[1mTrain Data :\u001b[0m\n",
      "\u001b[1mAccuarcy\u001b[0m 0.7003539127015336\n",
      "\u001b[1mPrecision\u001b[0m 0.6834415584415584\n",
      "\u001b[1mRecall   \u001b[0m 0.5278996865203762\n",
      "\u001b[1mF1_score \u001b[0m 0.5956844711708524\n",
      "\u001b[1mValidation Data :\u001b[0m\n",
      "\u001b[1mAccuarcy\u001b[0m 0.6908256880733945\n",
      "\u001b[1mPrecision\u001b[0m 0.6692015209125475\n",
      "\u001b[1mRecall   \u001b[0m 0.514996342355523\n",
      "\u001b[1mF1_score \u001b[0m 0.5820587019429516\n"
     ]
    }
   ],
   "source": [
    "predtr8l = lr.predict(osd_train)\n",
    "predva8l = lr.predict(osd_val)\n",
    "predte8l = lr.predict(x_test)\n",
    "evaluation(predtr8l,predva8l,osd_train_labels,osd_val_labels)"
   ]
  },
  {
   "cell_type": "markdown",
   "metadata": {},
   "source": [
    "### 3. SMOTE"
   ]
  },
  {
   "cell_type": "code",
   "execution_count": 138,
   "metadata": {},
   "outputs": [],
   "source": [
    "os = SMOTE(random_state=0) #   We are using SMOTE as the function for oversampling\n",
    "data_train_X = X_dum\n",
    "data_train_y = Y\n",
    "columns = data_train_X.columns"
   ]
  },
  {
   "cell_type": "code",
   "execution_count": 139,
   "metadata": {},
   "outputs": [
    {
     "name": "stdout",
     "output_type": "stream",
     "text": [
      "length of oversampled data is  12684\n",
      "Number of not dealyed flights in oversampled data 6342\n",
      "No.of delayed flights 6342\n",
      "Proportion of not delayed in oversampled data is  0.5\n",
      "Proportion of delayed flights in oversampled data is  0.5\n"
     ]
    }
   ],
   "source": [
    "os_data_X,os_data_y=os.fit_sample(data_train_X,data_train_y)\n",
    "os_data_X = pd.DataFrame(data=os_data_X,columns=columns )\n",
    "os_data_y= pd.DataFrame(data=os_data_y,columns=[\"FlightDelayStatus\"])\n",
    "# we can Check the numbers of our data\n",
    "print(\"length of oversampled data is \",len(os_data_X))\n",
    "print(\"Number of not dealyed flights in oversampled data\",len(os_data_y[os_data_y[\"FlightDelayStatus\"]==2]))\n",
    "print(\"No.of delayed flights\",len(os_data_y[os_data_y[\"FlightDelayStatus\"]==1]))\n",
    "print(\"Proportion of not delayed in oversampled data is \",len(os_data_y[os_data_y[\"FlightDelayStatus\"]==2])/len(os_data_X))\n",
    "print(\"Proportion of delayed flights in oversampled data is \",len(os_data_y[os_data_y[\"FlightDelayStatus\"]==1])/len(os_data_X))"
   ]
  },
  {
   "cell_type": "code",
   "execution_count": 140,
   "metadata": {},
   "outputs": [
    {
     "name": "stdout",
     "output_type": "stream",
     "text": [
      "(12684, 40)\n",
      "(10147, 40)\n",
      "(2537, 40)\n",
      "(10147, 1)\n",
      "(2537, 1)\n"
     ]
    }
   ],
   "source": [
    "os_scale = pd.DataFrame(preprocessing.scale(os_data_X[num_names]),columns = num_names)\n",
    "os_cat = os_data_X[cat_names]\n",
    "standardized_os = pd.concat([os_scale,os_cat], axis=1, sort=False)\n",
    "print(standardized_os.shape)\n",
    "\n",
    "os_train,os_val,os_train_labels,os_val_labels = train_test_split(standardized_os,os_data_y, test_size = 0.2, random_state= 123,stratify=os_data_y)\n",
    "print(os_train.shape)\n",
    "print(os_val.shape)\n",
    "print(os_train_labels.shape)\n",
    "print(os_val_labels.shape)\n"
   ]
  },
  {
   "cell_type": "markdown",
   "metadata": {},
   "source": [
    "#### Random forest classifier "
   ]
  },
  {
   "cell_type": "code",
   "execution_count": 302,
   "metadata": {},
   "outputs": [
    {
     "data": {
      "text/plain": [
       "RandomForestClassifier(bootstrap=True, class_weight='balanced',\n",
       "            criterion='gini', max_depth=7, max_features='auto',\n",
       "            max_leaf_nodes=None, min_impurity_decrease=0.0,\n",
       "            min_impurity_split=None, min_samples_leaf=5,\n",
       "            min_samples_split=2, min_weight_fraction_leaf=0.0,\n",
       "            n_estimators=5, n_jobs=None, oob_score=False,\n",
       "            random_state=None, verbose=0, warm_start=False)"
      ]
     },
     "execution_count": 302,
     "metadata": {},
     "output_type": "execute_result"
    }
   ],
   "source": [
    "rfc = RandomForestClassifier(n_estimators=5,max_depth = 7, min_samples_leaf = 5,class_weight='balanced')\n",
    "rfc.fit(os_train,os_train_labels)"
   ]
  },
  {
   "cell_type": "code",
   "execution_count": 303,
   "metadata": {},
   "outputs": [
    {
     "name": "stdout",
     "output_type": "stream",
     "text": [
      "\u001b[1mTrain Data :\u001b[0m\n",
      "\u001b[1mAccuarcy\u001b[0m 0.8271410269045038\n",
      "\u001b[1mPrecision\u001b[0m 0.8545182653279214\n",
      "\u001b[1mRecall   \u001b[0m 0.7884880741178789\n",
      "\u001b[1mF1_score \u001b[0m 0.8201763379126511\n",
      "\u001b[1mValidation Data :\u001b[0m\n",
      "\u001b[1mAccuarcy\u001b[0m 0.8037051635790303\n",
      "\u001b[1mPrecision\u001b[0m 0.8286445012787724\n",
      "\u001b[1mRecall   \u001b[0m 0.7659574468085106\n",
      "\u001b[1mF1_score \u001b[0m 0.7960687960687961\n"
     ]
    }
   ],
   "source": [
    "predtr9 = rfc.predict(os_train)\n",
    "predva9 = rfc.predict(os_val)\n",
    "predte9 = rfc.predict(x_test)\n",
    "evaluation(predtr9,predva9,os_train_labels,os_val_labels)"
   ]
  },
  {
   "cell_type": "markdown",
   "metadata": {},
   "source": [
    "#### Creating new features x,y,z cordinates from longitudes and latitudes and quarter from month column"
   ]
  },
  {
   "cell_type": "code",
   "execution_count": 223,
   "metadata": {},
   "outputs": [],
   "source": [
    "DataV5 = DataV4\n",
    "xcor = [0]*7861\n",
    "ycor = [0]*7861\n",
    "zcor = [0]*7861\n",
    "DataV5.Latitude = DataV5.Latitude.astype(\"float64\")\n",
    "DataV5.Longitude = DataV5.Longitude.astype(\"float64\")\n",
    "for i in range(0, len(DataV5)):\n",
    "    xcor[i] = math.cos(DataV5.Longitude[i]) * math.cos(DataV5.Latitude[i])\n",
    "    ycor[i] = math.sin(DataV5.Longitude[i]) * math.cos(DataV5.Latitude[i])\n",
    "    zcor[i] = math.sin(DataV5.Latitude[i])"
   ]
  },
  {
   "cell_type": "code",
   "execution_count": 224,
   "metadata": {},
   "outputs": [],
   "source": [
    "DataV5['quarter'] = DataV3.ScheduledArrTimeStamp.dt.quarter"
   ]
  },
  {
   "cell_type": "code",
   "execution_count": 225,
   "metadata": {},
   "outputs": [],
   "source": [
    "TestV6 = TestV5\n",
    "txcor = [0]*7861\n",
    "tycor = [0]*7861\n",
    "tzcor = [0]*7861\n",
    "TestV6.Latitude = TestV6.Latitude.astype(\"float64\")\n",
    "TestV6.Longitude = TestV6.Longitude.astype(\"float64\")\n",
    "for i in range(0, len(TestV6)):\n",
    "    txcor[i] = math.cos(TestV6.Longitude[i]) * math.cos(TestV6.Latitude[i])\n",
    "    tycor[i] = math.sin(TestV6.Longitude[i]) * math.cos(TestV6.Latitude[i])\n",
    "    tzcor[i] = math.sin(TestV6.Latitude[i])"
   ]
  },
  {
   "cell_type": "code",
   "execution_count": 226,
   "metadata": {},
   "outputs": [],
   "source": [
    "TestV6['quarter'] = TestV4.ScheduledArrTimeStamp.dt.quarter"
   ]
  },
  {
   "cell_type": "code",
   "execution_count": 227,
   "metadata": {},
   "outputs": [],
   "source": [
    "DataV5['xcor'] = pd.DataFrame(xcor)\n",
    "DataV5['ycor'] = pd.DataFrame(ycor)\n",
    "DataV5['zcor'] = pd.DataFrame(zcor)\n",
    "TestV6['xcor'] = pd.DataFrame(txcor)\n",
    "TestV6['ycor'] = pd.DataFrame(tycor)\n",
    "TestV6['zcor'] = pd.DataFrame(tzcor)"
   ]
  },
  {
   "cell_type": "markdown",
   "metadata": {},
   "source": [
    "#### Since the importance is very low for WindCompDir dropping it and again adding the original column WindDirection"
   ]
  },
  {
   "cell_type": "code",
   "execution_count": 228,
   "metadata": {},
   "outputs": [],
   "source": [
    "DataV5['WindDirection'] = 0\n",
    "DataV5['WindDirection'] = DataV4.WindDirection\n",
    "TestV6['WindDirection'] = 0\n",
    "TestV6['WindDirection'] = TestV5.WindDirection"
   ]
  },
  {
   "cell_type": "code",
   "execution_count": 229,
   "metadata": {},
   "outputs": [],
   "source": [
    "DataV5 = DataV5.drop(['Longitude','Latitude','WindCompDir'],axis = 1)\n",
    "TestV6 = TestV6.drop(['Longitude','Latitude','WindCompDir'],axis = 1)"
   ]
  },
  {
   "cell_type": "code",
   "execution_count": 189,
   "metadata": {},
   "outputs": [],
   "source": [
    "Xa = DataV5.drop('FlightDelayStatus',axis =1)\n",
    "Ya = DataV5.FlightDelayStatus"
   ]
  },
  {
   "cell_type": "markdown",
   "metadata": {},
   "source": [
    "#### Creating dummies and standardizing the data"
   ]
  },
  {
   "cell_type": "code",
   "execution_count": 230,
   "metadata": {},
   "outputs": [],
   "source": [
    "X_dum1 = pd.get_dummies(Xa)"
   ]
  },
  {
   "cell_type": "code",
   "execution_count": 231,
   "metadata": {},
   "outputs": [],
   "source": [
    "Test_dum1 = pd.get_dummies(TestV6)"
   ]
  },
  {
   "cell_type": "code",
   "execution_count": 232,
   "metadata": {},
   "outputs": [
    {
     "name": "stdout",
     "output_type": "stream",
     "text": [
      "(7861, 29)\n",
      "(6566, 29)\n",
      "(6288, 29)\n",
      "(1573, 29)\n",
      "(6288,)\n",
      "(1573,)\n"
     ]
    }
   ],
   "source": [
    "num_names1 = ['Distance','xcor','ycor','zcor','GroundHeight','StationHeight','BarometerHeight','Visibility','DBT','DewPointTemp','RelativeHumidityPercent','WindSpeed','WindGustValue','StationPressure','HourlyPrecip','LayerHt','WindDirection']\n",
    "cat_names1 = X_dum1[X_dum1.columns.difference(num_names1)].columns\n",
    "\n",
    "#num_scale1 = pd.DataFrame(X_dum1[num_names1],columns = num_names1)\n",
    "num_scale1 = pd.DataFrame(preprocessing.scale(X_dum1[num_names1]),columns = num_names1)\n",
    "cat1 = X_dum1[cat_names1]\n",
    "#test_num_scale1 = pd.DataFrame(Test_dum1[num_names1],columns = num_names1)\n",
    "test_num_scale1 = pd.DataFrame(preprocessing.scale(Test_dum1[num_names1]),columns = num_names1)\n",
    "test_cat1 = Test_dum1[cat_names1]\n",
    "standardized_X1 = pd.concat([num_scale1,cat1], axis=1, sort=False)\n",
    "print(standardized_X1.shape)\n",
    "x_test1 = pd.concat([test_num_scale1,test_cat1], axis=1, sort=False)\n",
    "print(x_test1.shape)\n",
    "\n",
    "x_train1,x_val1,y_train1,y_val1 = train_test_split(standardized_X1,Ya, test_size = 0.2, random_state= 123,stratify=Ya)\n",
    "print(x_train1.shape)\n",
    "print(x_val1.shape)\n",
    "print(y_train1.shape)\n",
    "print(y_val1.shape)"
   ]
  },
  {
   "cell_type": "markdown",
   "metadata": {},
   "source": [
    "###  Random Forest Classifier"
   ]
  },
  {
   "cell_type": "code",
   "execution_count": 304,
   "metadata": {},
   "outputs": [
    {
     "data": {
      "text/plain": [
       "RandomForestClassifier(bootstrap=True, class_weight=None, criterion='gini',\n",
       "            max_depth=10, max_features='auto', max_leaf_nodes=None,\n",
       "            min_impurity_decrease=0.0, min_impurity_split=None,\n",
       "            min_samples_leaf=8, min_samples_split=2,\n",
       "            min_weight_fraction_leaf=0.0, n_estimators=10, n_jobs=None,\n",
       "            oob_score=False, random_state=None, verbose=0,\n",
       "            warm_start=False)"
      ]
     },
     "execution_count": 304,
     "metadata": {},
     "output_type": "execute_result"
    }
   ],
   "source": [
    "rfc = RandomForestClassifier(n_estimators=10,max_depth = 10,min_samples_leaf=8)\n",
    "rfc.fit(x_train1,y_train1)"
   ]
  },
  {
   "cell_type": "code",
   "execution_count": 305,
   "metadata": {},
   "outputs": [
    {
     "name": "stdout",
     "output_type": "stream",
     "text": [
      "\u001b[1mTrain Data :\u001b[0m\n",
      "\u001b[1mAccuarcy\u001b[0m 0.8487595419847328\n",
      "\u001b[1mPrecision\u001b[0m 0.8367346938775511\n",
      "\u001b[1mRecall   \u001b[0m 0.26995884773662554\n",
      "\u001b[1mF1_score \u001b[0m 0.4082140634723087\n",
      "\u001b[1mValidation Data :\u001b[0m\n",
      "\u001b[1mAccuarcy\u001b[0m 0.8207247298156389\n",
      "\u001b[1mPrecision\u001b[0m 0.6375\n",
      "\u001b[1mRecall   \u001b[0m 0.16776315789473684\n",
      "\u001b[1mF1_score \u001b[0m 0.265625\n"
     ]
    }
   ],
   "source": [
    "predtr10 = rfc.predict(x_train1)\n",
    "predva10 = rfc.predict(x_val1)\n",
    "predte10 = rfc.predict(x_test1)\n",
    "evaluation(predtr10,predva10,y_train1,y_val1)"
   ]
  },
  {
   "cell_type": "code",
   "execution_count": 237,
   "metadata": {
    "scrolled": true
   },
   "outputs": [
    {
     "data": {
      "text/plain": [
       "<matplotlib.axes._subplots.AxesSubplot at 0x1c7f6720240>"
      ]
     },
     "execution_count": 237,
     "metadata": {},
     "output_type": "execute_result"
    },
    {
     "data": {
      "image/png": "[encoded data removed]",
      "text/plain": [
       "<Figure size 432x288 with 1 Axes>"
      ]
     },
     "metadata": {},
     "output_type": "display_data"
    }
   ],
   "source": [
    "featimpos = pd.Series(rfc.feature_importances_,index=x_train1.columns).sort_values(ascending=False)\n",
    "featimp.nlargest(10).plot(kind='bar')"
   ]
  },
  {
   "cell_type": "markdown",
   "metadata": {},
   "source": [
    "### Model Performance:\n",
    "\n",
    "#### Random forest model on oversampled data gave best performance when used with test data and also have less False Negatives in validation data. FN implies that we predicted there is no delay but actually delay is present. F1-Score on test data turned out to 35.\n"
   ]
  },
  {
   "cell_type": "markdown",
   "metadata": {},
   "source": [
    "### Conclusion and summary :\n",
    "\n",
    "#### On studying the Flight delay patterns using multiple techniques, I concluded that the following features play a major role in Flight Delay."
   ]
  },
  {
   "cell_type": "markdown",
   "metadata": {},
   "source": [
    "-  RelativeHumidityPercent\n",
    "-  Hourly Precip \n",
    "-  Visibility \n",
    "-  SkyCover_OVC\n",
    "-  DBT\n",
    "-  StationPressure\n",
    "-  LayerHt\n",
    "-  StationHeight\n",
    "-  DewPointTemp\n",
    "-  Longitude"
   ]
  },
  {
   "cell_type": "code",
   "execution_count": 309,
   "metadata": {},
   "outputs": [
    {
     "data": {
      "text/html": [
       "<div class='tableauPlaceholder' id='viz1551463073625' style='position: relative'><noscript><a href='#'><img alt=' ' src='https:&#47;&#47;public.tableau.com&#47;static&#47;images&#47;Bo&#47;Book3_15514630607200&#47;Dashboard1&#47;1_rss.png' style='border: none' /></a></noscript><object class='tableauViz'  style='display:none;'><param name='host_url' value='https%3A%2F%2Fpublic.tableau.com%2F' /> <param name='embed_code_version' value='3' /> <param name='site_root' value='' /><param name='name' value='Book3_15514630607200&#47;Dashboard1' /><param name='tabs' value='no' /><param name='toolbar' value='yes' /><param name='static_image' value='https:&#47;&#47;public.tableau.com&#47;static&#47;images&#47;Bo&#47;Book3_15514630607200&#47;Dashboard1&#47;1.png' /> <param name='animate_transition' value='yes' /><param name='display_static_image' value='yes' /><param name='display_spinner' value='yes' /><param name='display_overlay' value='yes' /><param name='display_count' value='yes' /><param name='filter' value='publish=yes' /></object></div>                <script type='text/javascript'>                    var divElement = document.getElementById('viz1551463073625');                    var vizElement = divElement.getElementsByTagName('object')[0];                    vizElement.style.minWidth='420px';vizElement.style.maxWidth='450px';vizElement.style.width='100%';vizElement.style.height='487px';                    var scriptElement = document.createElement('script');                    scriptElement.src = 'https://public.tableau.com/javascripts/api/viz_v1.js';                    vizElement.parentNode.insertBefore(scriptElement, vizElement);                </script>"
      ],
      "text/plain": [
       "<IPython.core.display.HTML object>"
      ]
     },
     "metadata": {},
     "output_type": "display_data"
    }
   ],
   "source": [
    "%%HTML\n",
    "<div class='tableauPlaceholder' id='viz1551463073625' style='position: relative'><noscript><a href='#'><img alt=' ' src='https:&#47;&#47;public.tableau.com&#47;static&#47;images&#47;Bo&#47;Book3_15514630607200&#47;Dashboard1&#47;1_rss.png' style='border: none' /></a></noscript><object class='tableauViz'  style='display:none;'><param name='host_url' value='https%3A%2F%2Fpublic.tableau.com%2F' /> <param name='embed_code_version' value='3' /> <param name='site_root' value='' /><param name='name' value='Book3_15514630607200&#47;Dashboard1' /><param name='tabs' value='no' /><param name='toolbar' value='yes' /><param name='static_image' value='https:&#47;&#47;public.tableau.com&#47;static&#47;images&#47;Bo&#47;Book3_15514630607200&#47;Dashboard1&#47;1.png' /> <param name='animate_transition' value='yes' /><param name='display_static_image' value='yes' /><param name='display_spinner' value='yes' /><param name='display_overlay' value='yes' /><param name='display_count' value='yes' /><param name='filter' value='publish=yes' /></object></div>                <script type='text/javascript'>                    var divElement = document.getElementById('viz1551463073625');                    var vizElement = divElement.getElementsByTagName('object')[0];                    vizElement.style.minWidth='420px';vizElement.style.maxWidth='450px';vizElement.style.width='100%';vizElement.style.height='487px';                    var scriptElement = document.createElement('script');                    scriptElement.src = 'https://public.tableau.com/javascripts/api/viz_v1.js';                    vizElement.parentNode.insertBefore(scriptElement, vizElement);                </script>"
   ]
  },
  {
   "cell_type": "code",
   "execution_count": 306,
   "metadata": {},
   "outputs": [
    {
     "data": {
      "text/html": [
       "<div class='tableauPlaceholder' id='viz1551458228848' style='position: relative'><noscript><a href='#'><img alt=' ' src='https:&#47;&#47;public.tableau.com&#47;static&#47;images&#47;vi&#47;viz_44&#47;Dashboard2&#47;1_rss.png' style='border: none' /></a></noscript><object class='tableauViz'  style='display:none;'><param name='host_url' value='https%3A%2F%2Fpublic.tableau.com%2F' /> <param name='embed_code_version' value='3' /> <param name='site_root' value='' /><param name='name' value='viz_44&#47;Dashboard2' /><param name='tabs' value='no' /><param name='toolbar' value='yes' /><param name='static_image' value='https:&#47;&#47;public.tableau.com&#47;static&#47;images&#47;vi&#47;viz_44&#47;Dashboard2&#47;1.png' /> <param name='animate_transition' value='yes' /><param name='display_static_image' value='yes' /><param name='display_spinner' value='yes' /><param name='display_overlay' value='yes' /><param name='display_count' value='yes' /><param name='filter' value='publish=yes' /></object></div>                <script type='text/javascript'>                    var divElement = document.getElementById('viz1551458228848');                    var vizElement = divElement.getElementsByTagName('object')[0];                    vizElement.style.minWidth='420px';vizElement.style.maxWidth='550px';vizElement.style.width='100%';vizElement.style.height='387px';                    var scriptElement = document.createElement('script');                    scriptElement.src = 'https://public.tableau.com/javascripts/api/viz_v1.js';                    vizElement.parentNode.insertBefore(scriptElement, vizElement);                </script>"
      ],
      "text/plain": [
       "<IPython.core.display.HTML object>"
      ]
     },
     "metadata": {},
     "output_type": "display_data"
    }
   ],
   "source": [
    "%%HTML\n",
    "<div class='tableauPlaceholder' id='viz1551458228848' style='position: relative'><noscript><a href='#'><img alt=' ' src='https:&#47;&#47;public.tableau.com&#47;static&#47;images&#47;vi&#47;viz_44&#47;Dashboard2&#47;1_rss.png' style='border: none' /></a></noscript><object class='tableauViz'  style='display:none;'><param name='host_url' value='https%3A%2F%2Fpublic.tableau.com%2F' /> <param name='embed_code_version' value='3' /> <param name='site_root' value='' /><param name='name' value='viz_44&#47;Dashboard2' /><param name='tabs' value='no' /><param name='toolbar' value='yes' /><param name='static_image' value='https:&#47;&#47;public.tableau.com&#47;static&#47;images&#47;vi&#47;viz_44&#47;Dashboard2&#47;1.png' /> <param name='animate_transition' value='yes' /><param name='display_static_image' value='yes' /><param name='display_spinner' value='yes' /><param name='display_overlay' value='yes' /><param name='display_count' value='yes' /><param name='filter' value='publish=yes' /></object></div>                <script type='text/javascript'>                    var divElement = document.getElementById('viz1551458228848');                    var vizElement = divElement.getElementsByTagName('object')[0];                    vizElement.style.minWidth='420px';vizElement.style.maxWidth='550px';vizElement.style.width='100%';vizElement.style.height='387px';                    var scriptElement = document.createElement('script');                    scriptElement.src = 'https://public.tableau.com/javascripts/api/viz_v1.js';                    vizElement.parentNode.insertBefore(scriptElement, vizElement);                </script>"
   ]
  },
  {
   "cell_type": "code",
   "execution_count": 307,
   "metadata": {
    "scrolled": true
   },
   "outputs": [
    {
     "data": {
      "text/html": [
       "<div class='tableauPlaceholder' id='viz1551458378591' style='position: relative'><noscript><a href='#'><img alt=' ' src='https:&#47;&#47;public.tableau.com&#47;static&#47;images&#47;vi&#47;viz_44&#47;Dashboard1&#47;1_rss.png' style='border: none' /></a></noscript><object class='tableauViz'  style='display:none;'><param name='host_url' value='https%3A%2F%2Fpublic.tableau.com%2F' /> <param name='embed_code_version' value='3' /> <param name='site_root' value='' /><param name='name' value='viz_44&#47;Dashboard1' /><param name='tabs' value='no' /><param name='toolbar' value='yes' /><param name='static_image' value='https:&#47;&#47;public.tableau.com&#47;static&#47;images&#47;vi&#47;viz_44&#47;Dashboard1&#47;1.png' /> <param name='animate_transition' value='yes' /><param name='display_static_image' value='yes' /><param name='display_spinner' value='yes' /><param name='display_overlay' value='yes' /><param name='display_count' value='yes' /><param name='filter' value='publish=yes' /></object></div>                <script type='text/javascript'>                    var divElement = document.getElementById('viz1551458378591');                    var vizElement = divElement.getElementsByTagName('object')[0];                    vizElement.style.minWidth='420px';vizElement.style.maxWidth='1120px';vizElement.style.width='100%';vizElement.style.minHeight='367px';vizElement.style.maxHeight='487px';vizElement.style.height=(divElement.offsetWidth*0.75)+'px';                    var scriptElement = document.createElement('script');                    scriptElement.src = 'https://public.tableau.com/javascripts/api/viz_v1.js';                    vizElement.parentNode.insertBefore(scriptElement, vizElement);                </script>"
      ],
      "text/plain": [
       "<IPython.core.display.HTML object>"
      ]
     },
     "metadata": {},
     "output_type": "display_data"
    }
   ],
   "source": [
    "%%HTML\n",
    "<div class='tableauPlaceholder' id='viz1551458378591' style='position: relative'><noscript><a href='#'><img alt=' ' src='https:&#47;&#47;public.tableau.com&#47;static&#47;images&#47;vi&#47;viz_44&#47;Dashboard1&#47;1_rss.png' style='border: none' /></a></noscript><object class='tableauViz'  style='display:none;'><param name='host_url' value='https%3A%2F%2Fpublic.tableau.com%2F' /> <param name='embed_code_version' value='3' /> <param name='site_root' value='' /><param name='name' value='viz_44&#47;Dashboard1' /><param name='tabs' value='no' /><param name='toolbar' value='yes' /><param name='static_image' value='https:&#47;&#47;public.tableau.com&#47;static&#47;images&#47;vi&#47;viz_44&#47;Dashboard1&#47;1.png' /> <param name='animate_transition' value='yes' /><param name='display_static_image' value='yes' /><param name='display_spinner' value='yes' /><param name='display_overlay' value='yes' /><param name='display_count' value='yes' /><param name='filter' value='publish=yes' /></object></div>                <script type='text/javascript'>                    var divElement = document.getElementById('viz1551458378591');                    var vizElement = divElement.getElementsByTagName('object')[0];                    vizElement.style.minWidth='420px';vizElement.style.maxWidth='1120px';vizElement.style.width='100%';vizElement.style.minHeight='367px';vizElement.style.maxHeight='487px';vizElement.style.height=(divElement.offsetWidth*0.75)+'px';                    var scriptElement = document.createElement('script');                    scriptElement.src = 'https://public.tableau.com/javascripts/api/viz_v1.js';                    vizElement.parentNode.insertBefore(scriptElement, vizElement);                </script>"
   ]
  },
  {
   "cell_type": "code",
   "execution_count": 311,
   "metadata": {},
   "outputs": [
    {
     "data": {
      "text/html": [
       "<div class='tableauPlaceholder' id='viz1551464422417' style='position: relative'><noscript><a href='#'><img alt=' ' src='https:&#47;&#47;public.tableau.com&#47;static&#47;images&#47;Bo&#47;Book45_15514644115580&#47;Sheet1&#47;1_rss.png' style='border: none' /></a></noscript><object class='tableauViz'  style='display:none;'><param name='host_url' value='https%3A%2F%2Fpublic.tableau.com%2F' /> <param name='embed_code_version' value='3' /> <param name='site_root' value='' /><param name='name' value='Book45_15514644115580&#47;Sheet1' /><param name='tabs' value='no' /><param name='toolbar' value='yes' /><param name='static_image' value='https:&#47;&#47;public.tableau.com&#47;static&#47;images&#47;Bo&#47;Book45_15514644115580&#47;Sheet1&#47;1.png' /> <param name='animate_transition' value='yes' /><param name='display_static_image' value='yes' /><param name='display_spinner' value='yes' /><param name='display_overlay' value='yes' /><param name='display_count' value='yes' /><param name='filter' value='publish=yes' /></object></div>                <script type='text/javascript'>                    var divElement = document.getElementById('viz1551464422417');                    var vizElement = divElement.getElementsByTagName('object')[0];                    vizElement.style.width='100%';vizElement.style.height=(divElement.offsetWidth*0.75)+'px';                    var scriptElement = document.createElement('script');                    scriptElement.src = 'https://public.tableau.com/javascripts/api/viz_v1.js';                    vizElement.parentNode.insertBefore(scriptElement, vizElement);                </script>"
      ],
      "text/plain": [
       "<IPython.core.display.HTML object>"
      ]
     },
     "metadata": {},
     "output_type": "display_data"
    }
   ],
   "source": [
    "%%HTML\n",
    "<div class='tableauPlaceholder' id='viz1551464422417' style='position: relative'><noscript><a href='#'><img alt=' ' src='https:&#47;&#47;public.tableau.com&#47;static&#47;images&#47;Bo&#47;Book45_15514644115580&#47;Sheet1&#47;1_rss.png' style='border: none' /></a></noscript><object class='tableauViz'  style='display:none;'><param name='host_url' value='https%3A%2F%2Fpublic.tableau.com%2F' /> <param name='embed_code_version' value='3' /> <param name='site_root' value='' /><param name='name' value='Book45_15514644115580&#47;Sheet1' /><param name='tabs' value='no' /><param name='toolbar' value='yes' /><param name='static_image' value='https:&#47;&#47;public.tableau.com&#47;static&#47;images&#47;Bo&#47;Book45_15514644115580&#47;Sheet1&#47;1.png' /> <param name='animate_transition' value='yes' /><param name='display_static_image' value='yes' /><param name='display_spinner' value='yes' /><param name='display_overlay' value='yes' /><param name='display_count' value='yes' /><param name='filter' value='publish=yes' /></object></div>                <script type='text/javascript'>                    var divElement = document.getElementById('viz1551464422417');                    var vizElement = divElement.getElementsByTagName('object')[0];                    vizElement.style.width='100%';vizElement.style.height=(divElement.offsetWidth*0.75)+'px';                    var scriptElement = document.createElement('script');                    scriptElement.src = 'https://public.tableau.com/javascripts/api/viz_v1.js';                    vizElement.parentNode.insertBefore(scriptElement, vizElement);                </script>"
   ]
  },
  {
   "cell_type": "markdown",
   "metadata": {},
   "source": [
    "### Insights::\n",
    "-  During the end of November most parts of the USA will be snowing, that may be the reason why no of flights delayed in November are more\n",
    "-  More flights delayed when sky cover is over cast i.e with maximum cloud layer height\n",
    "-  More flights are dealyed during evening around 4pm and 6pm\n",
    "-  Provider must create new routes to reach destination that pass through airports with less flight delay rates\n",
    "-  The no: of flights not delayed are more in airports where no of flights delayed are also more, implies that we should gradually reduce the no: flights from this airports and start rerouting to other airports where flights not dealyed are only more."
   ]
  },
  {
   "cell_type": "code",
   "execution_count": null,
   "metadata": {},
   "outputs": [],
   "source": []
  }
 ],
 "metadata": {
  "kernelspec": {
   "display_name": "Python 3",
   "language": "python",
   "name": "python3"
  },
  "language_info": {
   "codemirror_mode": {
    "name": "ipython",
    "version": 3
   },
   "file_extension": ".py",
   "mimetype": "text/x-python",
   "name": "python",
   "nbconvert_exporter": "python",
   "pygments_lexer": "ipython3",
   "version": "3.7.3"
  }
 },
 "nbformat": 4,
 "nbformat_minor": 2
}
